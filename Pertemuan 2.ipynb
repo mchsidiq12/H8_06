{
 "cells": [
  {
   "cell_type": "code",
   "execution_count": 3,
   "id": "8bf3c145",
   "metadata": {},
   "outputs": [
    {
     "name": "stdout",
     "output_type": "stream",
     "text": [
      "yes\n",
      "yes\n",
      "yes\n"
     ]
    }
   ],
   "source": [
    "x=0\n",
    "y=5\n",
    "\n",
    "if x < y:\n",
    "    print('yes')\n",
    "if y < x:\n",
    "    print ('yes')\n",
    "if x:\n",
    "    print ('yes')\n",
    "if y:\n",
    "    print ('yes')\n",
    "if 'aul' in 'grault':\n",
    "    print ('yes')\n",
    "if 'quux' in ['foo','bar','baz']:\n",
    "    print ('yes')\n",
    "    "
   ]
  },
  {
   "cell_type": "code",
   "execution_count": 4,
   "id": "98fdea76",
   "metadata": {},
   "outputs": [
    {
     "name": "stdout",
     "output_type": "stream",
     "text": [
      "sesuai\n"
     ]
    }
   ],
   "source": [
    "if 'id' in 'Sidik':\n",
    "    print ('sesuai')"
   ]
  },
  {
   "cell_type": "code",
   "execution_count": 5,
   "id": "3ef1b722",
   "metadata": {},
   "outputs": [
    {
     "name": "stdout",
     "output_type": "stream",
     "text": [
      "Bentuk Matriks asal\n",
      "[[ 1  2  2  3  4]\n",
      " [ 4  9 10 13 17]\n",
      " [ 2  6  7 10 14]\n",
      " [ 3 10 20 22 40]\n",
      " [ 1  5 10 12 16]] [2 2 2 2 2]\n",
      "\n",
      "Matriks hasil eliminasi\n",
      "[[ 1  2  2  3  4]\n",
      " [ 0  1  2  1  1]\n",
      " [ 0  0 -1  2  4]\n",
      " [ 0  0  0 21 48]\n",
      " [ 0  0  0  0 -5]] [ 2 -6 10 80  0] [ 5.42857143 -5.04761905 -2.38095238  3.80952381 -0.        ]\n",
      "\n",
      "Hasil eliminasi setelah pivoting\n",
      "[1, 0, 0, 0, 0]\n",
      "[2, 1, 0, 0, 0]\n",
      "[2, 2, -1, 0, 0]\n",
      "[3, 1, 2, 21, 0]\n",
      "[4, 1, 4, 48, -5]\n"
     ]
    }
   ],
   "source": [
    "#Eliminasi Gauss menghasilkan matriks segitiga kiri bawah\n",
    "import numpy as np\n",
    "\n",
    "#Input pada matriks asal\n",
    "A = np.array([[1, 2, 2, 3, 4],\n",
    "              [4, 9, 10, 13, 17],\n",
    "              [2, 6, 7, 10, 14],\n",
    "              [3, 10, 20, 22, 40],\n",
    "              [1, 5, 10, 12, 16]])\n",
    "B = np.array([2, 2, 2, 2, 2])\n",
    "n = len(B)\n",
    "\n",
    "print('Bentuk Matriks asal')\n",
    "print(A, B)\n",
    "\n",
    "#Menggunakan Eliminasi\n",
    "for k in range(0, n-1):\n",
    "    for i in range(k+1, n):\n",
    "        rasio = A[i,k]/A[k,k]\n",
    "        for j in range(k, n):\n",
    "            A[i,j] -= rasio*A[k,j]\n",
    "        B[i] -= rasio*B[k]\n",
    "        \n",
    "x = np.zeros(n)\n",
    "\n",
    "x[n-1] = B[n-1]/A[n-1, n-1]\n",
    "for i in range(n-2, -1, -1):\n",
    "    sum_j = 0\n",
    "    for j in range(i+1, n):\n",
    "        sum_j += A[i,j]*x[j]\n",
    "    x[i] = (B[i] - sum_j)/A[i,i]\n",
    "\n",
    "print('')\n",
    "print('Matriks hasil eliminasi')\n",
    "print(A, B, x)\n",
    "\n",
    "#Pivoting hasil\n",
    "print('')\n",
    "print('Hasil eliminasi setelah pivoting')\n",
    "result = [[A[j,i] for j in range(len(A))] for i in range(len(A[0]))]\n",
    "for r in result:\n",
    "   print(r)"
   ]
  },
  {
   "cell_type": "code",
   "execution_count": null,
   "id": "27809a87",
   "metadata": {},
   "outputs": [],
   "source": []
  }
 ],
 "metadata": {
  "kernelspec": {
   "display_name": "Python 3 (ipykernel)",
   "language": "python",
   "name": "python3"
  },
  "language_info": {
   "codemirror_mode": {
    "name": "ipython",
    "version": 3
   },
   "file_extension": ".py",
   "mimetype": "text/x-python",
   "name": "python",
   "nbconvert_exporter": "python",
   "pygments_lexer": "ipython3",
   "version": "3.9.7"
  }
 },
 "nbformat": 4,
 "nbformat_minor": 5
}
