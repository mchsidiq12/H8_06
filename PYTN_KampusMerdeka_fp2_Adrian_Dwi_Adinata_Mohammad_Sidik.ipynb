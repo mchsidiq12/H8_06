{
  "cells": [
    {
      "cell_type": "markdown",
      "metadata": {
        "id": "view-in-github",
        "colab_type": "text"
      },
      "source": [
        "<a href=\"https://colab.research.google.com/github/mchsidiq12/H8_06/blob/main/PYTN_KampusMerdeka_fp2_Adrian_Dwi_Adinata_Mohammad_Sidik.ipynb\" target=\"_parent\"><img src=\"https://colab.research.google.com/assets/colab-badge.svg\" alt=\"Open In Colab\"/></a>"
      ]
    },
    {
      "cell_type": "markdown",
      "metadata": {
        "id": "66XtiBczh9pL"
      },
      "source": [
        "# **A. Perkenalan**"
      ]
    },
    {
      "cell_type": "markdown",
      "metadata": {
        "id": "kWwKgZfAiSI8"
      },
      "source": [
        "Proyek ini membahas implementasi Supervised Machine Learning, yaitu metode klasifikasi. Algoritma model klasifikasi yang digunakan adalah Logistic Regression dan Support Vector Machine (SVM). Tujuan dari proyek ini adalah untuk mengevaluasi dan menerapkan konsep Logistic Regression dan SVM untuk memprediksi apakah esok hari akan turun hujan atau tidak dengan menggunakan metode klasifikasi dalam Machine Learning. Data yang digunakan dalam proyek ini adalah dataset yang berisi dokumen kondisi cuaca dan apakah hari tersebut ada tidaknya hujan selama 10 tahun di beberapa bagian Australia. Dataset terdiri dari 145460 baris dan 23 kolom yang kami dapat di Kaggle. Kolom RainTomorrow akan menjadi target prediksi. Oleh karena itu, tujuan dari proyek ini adalah apakah besok akan hujan (ya) atau tidak (tidak), berdasarkan pengamatan atau catatan kondisi cuaca hari itu."
      ]
    },
    {
      "cell_type": "markdown",
      "metadata": {
        "id": "WMqCnw4kij02"
      },
      "source": [
        "Deskripsi Fitur :\n",
        "1. Date - tanggal hari itu\n",
        "2. Location - lokasi, nama kota di Australia\n",
        "3. MinTemp - temperatur terendah hari itu dalam celcius\n",
        "4. MaxTemp - temperatur tertinggi hari itu dalam celcius\n",
        "5. Rainfall - jumlah curah hujan hari itu dalam mm\n",
        "6. Evaporation - jumlah evaporasi dalam mm dari Class A pan selama 24 jam\n",
        "sebelum jam 9 pagi hari itu\n",
        "7. Sunshine - jumlah jam hari itu cerah dengan cahaya matahari\n",
        "8. WindGustDir - arah kecepatan angin yang paling tinggi selama 24 jam sebelum\n",
        "jam 12 malam hari itu\n",
        "9. WindGustSpeed - kecepatan angin yang paling tinggi dalam km/jam selama 24\n",
        "jam sebelum jam 12 malam hari itu\n",
        "10. WindDir9am - arah angin jam 9 pagi\n",
        "11. WindDir3pm - arah angin jam 3 sore\n",
        "12. WindSpeed9am - kecepatan angin jam 9 pagi dalam km/jam dihitung dari\n",
        "rata-rata kecepatan angin 10 menit sebelum jam 3 sore\n",
        "13. WindSpeed3pm - kecepatan angin jam 3 sore dalam km/jam dihitung dari\n",
        "rata-rata kecepatan angin 10 menit sebelum jam 3 sore\n",
        "14. Humidity9am - humiditas jam 9 pagi dalam persen\n",
        "15. Humidity3pm - humiditas jam 3 sore dalam persen\n",
        "16. Pressure9am - tekanan udara jam 9 pagi dalam hpa\n",
        "17. Pressure3pm - tekanan udara jam 3 sore dalam hpa\n",
        "18. Cloud9am - persentase langit yang tertutup awan jam 9 pagi. dihitung dalam\n",
        "oktas, unit ⅛, menghitung berapa unit ⅛ dari langit yang tertutup awan. Jika 0,\n",
        "langit cerah, jika 8, langit sepenuhnya tertutup awan.\n",
        "19. Cloud3pm - persentase langit yang tertutup awan jam 3 sore\n",
        "20. Temp9am - temperatur jam 9 pagi dalam celcius\n",
        "21. Temp3pm - temperatur jam 3 sore dalam celcius\n",
        "22. RainToday - apakah hari ini hujan: jika curah hujan 24 jam sebelum jam 9 pagi\n",
        "melebihi 1mm, maka nilai ini adalah 1, jika tidak nilai nya 0\n",
        "23. RainTomorrow - variable yang mau di prediks"
      ]
    },
    {
      "cell_type": "markdown",
      "metadata": {
        "id": "k7ZmqN34ky6W"
      },
      "source": [
        "# **B. Import pustaka yang dibutuhkan**"
      ]
    },
    {
      "cell_type": "markdown",
      "metadata": {
        "id": "EzFW46uJYuIt"
      },
      "source": [
        "Bagian ini berisi dan hanya berisi semua library yang digunakan dalam project.\n"
      ]
    },
    {
      "cell_type": "markdown",
      "metadata": {
        "id": "NBuMO5wklE07"
      },
      "source": [
        "Mengimpor semua pustaka yang akan digunakan saat pengolahan data"
      ]
    },
    {
      "cell_type": "code",
      "execution_count": 1,
      "metadata": {
        "id": "KOi2dl95tI6S"
      },
      "outputs": [],
      "source": [
        "from google.colab import drive #untuk mengakses drive\n",
        "from dataclasses import dataclass\n",
        "import pandas as pd #untuk manipulasi data\n",
        "import numpy as np #untuk komputasi numerik\n",
        "import matplotlib.pyplot as plt #untuk visualisasi\n",
        "import seaborn as sns #untuk visualisasi\n",
        "import datetime\n",
        "import missingno as msno\n",
        "import plotly.express as px #untuk visualiasi\n",
        "\n",
        "from sklearn.preprocessing import LabelEncoder\n",
        "from sklearn.preprocessing import StandardScaler\n",
        "from sklearn.model_selection import train_test_split #untuk pemisahan data latih dan uji\n",
        "from sklearn.linear_model import LogisticRegression #untuk menggunakan algoritma logistic regression\n",
        "from sklearn import svm\n",
        "\n",
        "\n",
        "from sklearn.metrics import f1_score\n",
        "from sklearn.metrics import average_precision_score\n",
        "from sklearn.metrics import accuracy_score\n",
        "from sklearn.metrics import mean_squared_error \n",
        "from sklearn.metrics import confusion_matrix, classification_report, precision_score, recall_score"
      ]
    },
    {
      "cell_type": "markdown",
      "metadata": {
        "id": "947gegIrov3o"
      },
      "source": [
        "# **C. Data Loading**"
      ]
    },
    {
      "cell_type": "markdown",
      "metadata": {
        "id": "Q7k1yvp3Y0nF"
      },
      "source": [
        "Bagian ini berisi proses data loading yang kemudian dilanjutkan dengan eksplorasi data secara sederhana.\n"
      ]
    },
    {
      "cell_type": "markdown",
      "metadata": {
        "id": "Nhgrs_I_oyBy"
      },
      "source": [
        "Mengakses Google Drive"
      ]
    },
    {
      "cell_type": "code",
      "execution_count": 2,
      "metadata": {
        "colab": {
          "base_uri": "https://localhost:8080/"
        },
        "id": "_oVh0FO0BFYN",
        "outputId": "3754e123-3c8a-42de-b1cf-a2cace2ee5c6"
      },
      "outputs": [
        {
          "output_type": "stream",
          "name": "stdout",
          "text": [
            "Mounted at /content/drive\n"
          ]
        }
      ],
      "source": [
        "drive.mount('/content/drive')"
      ]
    },
    {
      "cell_type": "markdown",
      "metadata": {
        "id": "34VArbbmo5LA"
      },
      "source": [
        "Mengambil dataset dan menyimpan kedalam variabel df, kemudian mencetak 5 data paling atas"
      ]
    },
    {
      "cell_type": "code",
      "execution_count": 3,
      "metadata": {
        "colab": {
          "base_uri": "https://localhost:8080/",
          "height": 236
        },
        "id": "hyrY6O9VBxZg",
        "outputId": "d98cabfb-736d-4608-e9ce-4df7dc01750d"
      },
      "outputs": [
        {
          "output_type": "execute_result",
          "data": {
            "text/plain": [
              "         Date Location  MinTemp  MaxTemp  Rainfall  Evaporation  Sunshine  \\\n",
              "0  2008-12-01   Albury     13.4     22.9       0.6          NaN       NaN   \n",
              "1  2008-12-02   Albury      7.4     25.1       0.0          NaN       NaN   \n",
              "2  2008-12-03   Albury     12.9     25.7       0.0          NaN       NaN   \n",
              "3  2008-12-04   Albury      9.2     28.0       0.0          NaN       NaN   \n",
              "4  2008-12-05   Albury     17.5     32.3       1.0          NaN       NaN   \n",
              "\n",
              "  WindGustDir  WindGustSpeed WindDir9am  ... Humidity9am  Humidity3pm  \\\n",
              "0           W           44.0          W  ...        71.0         22.0   \n",
              "1         WNW           44.0        NNW  ...        44.0         25.0   \n",
              "2         WSW           46.0          W  ...        38.0         30.0   \n",
              "3          NE           24.0         SE  ...        45.0         16.0   \n",
              "4           W           41.0        ENE  ...        82.0         33.0   \n",
              "\n",
              "   Pressure9am  Pressure3pm  Cloud9am  Cloud3pm  Temp9am  Temp3pm  RainToday  \\\n",
              "0       1007.7       1007.1       8.0       NaN     16.9     21.8         No   \n",
              "1       1010.6       1007.8       NaN       NaN     17.2     24.3         No   \n",
              "2       1007.6       1008.7       NaN       2.0     21.0     23.2         No   \n",
              "3       1017.6       1012.8       NaN       NaN     18.1     26.5         No   \n",
              "4       1010.8       1006.0       7.0       8.0     17.8     29.7         No   \n",
              "\n",
              "   RainTomorrow  \n",
              "0            No  \n",
              "1            No  \n",
              "2            No  \n",
              "3            No  \n",
              "4            No  \n",
              "\n",
              "[5 rows x 23 columns]"
            ],
            "text/html": [
              "\n",
              "  <div id=\"df-61bfee44-1fcb-4bba-8d85-a8622ac654d3\">\n",
              "    <div class=\"colab-df-container\">\n",
              "      <div>\n",
              "<style scoped>\n",
              "    .dataframe tbody tr th:only-of-type {\n",
              "        vertical-align: middle;\n",
              "    }\n",
              "\n",
              "    .dataframe tbody tr th {\n",
              "        vertical-align: top;\n",
              "    }\n",
              "\n",
              "    .dataframe thead th {\n",
              "        text-align: right;\n",
              "    }\n",
              "</style>\n",
              "<table border=\"1\" class=\"dataframe\">\n",
              "  <thead>\n",
              "    <tr style=\"text-align: right;\">\n",
              "      <th></th>\n",
              "      <th>Date</th>\n",
              "      <th>Location</th>\n",
              "      <th>MinTemp</th>\n",
              "      <th>MaxTemp</th>\n",
              "      <th>Rainfall</th>\n",
              "      <th>Evaporation</th>\n",
              "      <th>Sunshine</th>\n",
              "      <th>WindGustDir</th>\n",
              "      <th>WindGustSpeed</th>\n",
              "      <th>WindDir9am</th>\n",
              "      <th>...</th>\n",
              "      <th>Humidity9am</th>\n",
              "      <th>Humidity3pm</th>\n",
              "      <th>Pressure9am</th>\n",
              "      <th>Pressure3pm</th>\n",
              "      <th>Cloud9am</th>\n",
              "      <th>Cloud3pm</th>\n",
              "      <th>Temp9am</th>\n",
              "      <th>Temp3pm</th>\n",
              "      <th>RainToday</th>\n",
              "      <th>RainTomorrow</th>\n",
              "    </tr>\n",
              "  </thead>\n",
              "  <tbody>\n",
              "    <tr>\n",
              "      <th>0</th>\n",
              "      <td>2008-12-01</td>\n",
              "      <td>Albury</td>\n",
              "      <td>13.4</td>\n",
              "      <td>22.9</td>\n",
              "      <td>0.6</td>\n",
              "      <td>NaN</td>\n",
              "      <td>NaN</td>\n",
              "      <td>W</td>\n",
              "      <td>44.0</td>\n",
              "      <td>W</td>\n",
              "      <td>...</td>\n",
              "      <td>71.0</td>\n",
              "      <td>22.0</td>\n",
              "      <td>1007.7</td>\n",
              "      <td>1007.1</td>\n",
              "      <td>8.0</td>\n",
              "      <td>NaN</td>\n",
              "      <td>16.9</td>\n",
              "      <td>21.8</td>\n",
              "      <td>No</td>\n",
              "      <td>No</td>\n",
              "    </tr>\n",
              "    <tr>\n",
              "      <th>1</th>\n",
              "      <td>2008-12-02</td>\n",
              "      <td>Albury</td>\n",
              "      <td>7.4</td>\n",
              "      <td>25.1</td>\n",
              "      <td>0.0</td>\n",
              "      <td>NaN</td>\n",
              "      <td>NaN</td>\n",
              "      <td>WNW</td>\n",
              "      <td>44.0</td>\n",
              "      <td>NNW</td>\n",
              "      <td>...</td>\n",
              "      <td>44.0</td>\n",
              "      <td>25.0</td>\n",
              "      <td>1010.6</td>\n",
              "      <td>1007.8</td>\n",
              "      <td>NaN</td>\n",
              "      <td>NaN</td>\n",
              "      <td>17.2</td>\n",
              "      <td>24.3</td>\n",
              "      <td>No</td>\n",
              "      <td>No</td>\n",
              "    </tr>\n",
              "    <tr>\n",
              "      <th>2</th>\n",
              "      <td>2008-12-03</td>\n",
              "      <td>Albury</td>\n",
              "      <td>12.9</td>\n",
              "      <td>25.7</td>\n",
              "      <td>0.0</td>\n",
              "      <td>NaN</td>\n",
              "      <td>NaN</td>\n",
              "      <td>WSW</td>\n",
              "      <td>46.0</td>\n",
              "      <td>W</td>\n",
              "      <td>...</td>\n",
              "      <td>38.0</td>\n",
              "      <td>30.0</td>\n",
              "      <td>1007.6</td>\n",
              "      <td>1008.7</td>\n",
              "      <td>NaN</td>\n",
              "      <td>2.0</td>\n",
              "      <td>21.0</td>\n",
              "      <td>23.2</td>\n",
              "      <td>No</td>\n",
              "      <td>No</td>\n",
              "    </tr>\n",
              "    <tr>\n",
              "      <th>3</th>\n",
              "      <td>2008-12-04</td>\n",
              "      <td>Albury</td>\n",
              "      <td>9.2</td>\n",
              "      <td>28.0</td>\n",
              "      <td>0.0</td>\n",
              "      <td>NaN</td>\n",
              "      <td>NaN</td>\n",
              "      <td>NE</td>\n",
              "      <td>24.0</td>\n",
              "      <td>SE</td>\n",
              "      <td>...</td>\n",
              "      <td>45.0</td>\n",
              "      <td>16.0</td>\n",
              "      <td>1017.6</td>\n",
              "      <td>1012.8</td>\n",
              "      <td>NaN</td>\n",
              "      <td>NaN</td>\n",
              "      <td>18.1</td>\n",
              "      <td>26.5</td>\n",
              "      <td>No</td>\n",
              "      <td>No</td>\n",
              "    </tr>\n",
              "    <tr>\n",
              "      <th>4</th>\n",
              "      <td>2008-12-05</td>\n",
              "      <td>Albury</td>\n",
              "      <td>17.5</td>\n",
              "      <td>32.3</td>\n",
              "      <td>1.0</td>\n",
              "      <td>NaN</td>\n",
              "      <td>NaN</td>\n",
              "      <td>W</td>\n",
              "      <td>41.0</td>\n",
              "      <td>ENE</td>\n",
              "      <td>...</td>\n",
              "      <td>82.0</td>\n",
              "      <td>33.0</td>\n",
              "      <td>1010.8</td>\n",
              "      <td>1006.0</td>\n",
              "      <td>7.0</td>\n",
              "      <td>8.0</td>\n",
              "      <td>17.8</td>\n",
              "      <td>29.7</td>\n",
              "      <td>No</td>\n",
              "      <td>No</td>\n",
              "    </tr>\n",
              "  </tbody>\n",
              "</table>\n",
              "<p>5 rows × 23 columns</p>\n",
              "</div>\n",
              "      <button class=\"colab-df-convert\" onclick=\"convertToInteractive('df-61bfee44-1fcb-4bba-8d85-a8622ac654d3')\"\n",
              "              title=\"Convert this dataframe to an interactive table.\"\n",
              "              style=\"display:none;\">\n",
              "        \n",
              "  <svg xmlns=\"http://www.w3.org/2000/svg\" height=\"24px\"viewBox=\"0 0 24 24\"\n",
              "       width=\"24px\">\n",
              "    <path d=\"M0 0h24v24H0V0z\" fill=\"none\"/>\n",
              "    <path d=\"M18.56 5.44l.94 2.06.94-2.06 2.06-.94-2.06-.94-.94-2.06-.94 2.06-2.06.94zm-11 1L8.5 8.5l.94-2.06 2.06-.94-2.06-.94L8.5 2.5l-.94 2.06-2.06.94zm10 10l.94 2.06.94-2.06 2.06-.94-2.06-.94-.94-2.06-.94 2.06-2.06.94z\"/><path d=\"M17.41 7.96l-1.37-1.37c-.4-.4-.92-.59-1.43-.59-.52 0-1.04.2-1.43.59L10.3 9.45l-7.72 7.72c-.78.78-.78 2.05 0 2.83L4 21.41c.39.39.9.59 1.41.59.51 0 1.02-.2 1.41-.59l7.78-7.78 2.81-2.81c.8-.78.8-2.07 0-2.86zM5.41 20L4 18.59l7.72-7.72 1.47 1.35L5.41 20z\"/>\n",
              "  </svg>\n",
              "      </button>\n",
              "      \n",
              "  <style>\n",
              "    .colab-df-container {\n",
              "      display:flex;\n",
              "      flex-wrap:wrap;\n",
              "      gap: 12px;\n",
              "    }\n",
              "\n",
              "    .colab-df-convert {\n",
              "      background-color: #E8F0FE;\n",
              "      border: none;\n",
              "      border-radius: 50%;\n",
              "      cursor: pointer;\n",
              "      display: none;\n",
              "      fill: #1967D2;\n",
              "      height: 32px;\n",
              "      padding: 0 0 0 0;\n",
              "      width: 32px;\n",
              "    }\n",
              "\n",
              "    .colab-df-convert:hover {\n",
              "      background-color: #E2EBFA;\n",
              "      box-shadow: 0px 1px 2px rgba(60, 64, 67, 0.3), 0px 1px 3px 1px rgba(60, 64, 67, 0.15);\n",
              "      fill: #174EA6;\n",
              "    }\n",
              "\n",
              "    [theme=dark] .colab-df-convert {\n",
              "      background-color: #3B4455;\n",
              "      fill: #D2E3FC;\n",
              "    }\n",
              "\n",
              "    [theme=dark] .colab-df-convert:hover {\n",
              "      background-color: #434B5C;\n",
              "      box-shadow: 0px 1px 3px 1px rgba(0, 0, 0, 0.15);\n",
              "      filter: drop-shadow(0px 1px 2px rgba(0, 0, 0, 0.3));\n",
              "      fill: #FFFFFF;\n",
              "    }\n",
              "  </style>\n",
              "\n",
              "      <script>\n",
              "        const buttonEl =\n",
              "          document.querySelector('#df-61bfee44-1fcb-4bba-8d85-a8622ac654d3 button.colab-df-convert');\n",
              "        buttonEl.style.display =\n",
              "          google.colab.kernel.accessAllowed ? 'block' : 'none';\n",
              "\n",
              "        async function convertToInteractive(key) {\n",
              "          const element = document.querySelector('#df-61bfee44-1fcb-4bba-8d85-a8622ac654d3');\n",
              "          const dataTable =\n",
              "            await google.colab.kernel.invokeFunction('convertToInteractive',\n",
              "                                                     [key], {});\n",
              "          if (!dataTable) return;\n",
              "\n",
              "          const docLinkHtml = 'Like what you see? Visit the ' +\n",
              "            '<a target=\"_blank\" href=https://colab.research.google.com/notebooks/data_table.ipynb>data table notebook</a>'\n",
              "            + ' to learn more about interactive tables.';\n",
              "          element.innerHTML = '';\n",
              "          dataTable['output_type'] = 'display_data';\n",
              "          await google.colab.output.renderOutput(dataTable, element);\n",
              "          const docLink = document.createElement('div');\n",
              "          docLink.innerHTML = docLinkHtml;\n",
              "          element.appendChild(docLink);\n",
              "        }\n",
              "      </script>\n",
              "    </div>\n",
              "  </div>\n",
              "  "
            ]
          },
          "metadata": {},
          "execution_count": 3
        }
      ],
      "source": [
        "df = pd.read_csv('/content/drive/MyDrive/Colab Notebooks/weatherAUS.csv') \n",
        "df.head()"
      ]
    },
    {
      "cell_type": "markdown",
      "metadata": {
        "id": "3Z07X3_Wo8LF"
      },
      "source": [
        "Mencetak 5 data paling bawah"
      ]
    },
    {
      "cell_type": "code",
      "execution_count": 4,
      "metadata": {
        "colab": {
          "base_uri": "https://localhost:8080/",
          "height": 236
        },
        "id": "JBZ9T0dRCjjy",
        "outputId": "5d248154-090a-4ae4-913c-df7b5a12e65f"
      },
      "outputs": [
        {
          "output_type": "execute_result",
          "data": {
            "text/plain": [
              "              Date Location  MinTemp  MaxTemp  Rainfall  Evaporation  \\\n",
              "145455  2017-06-21    Uluru      2.8     23.4       0.0          NaN   \n",
              "145456  2017-06-22    Uluru      3.6     25.3       0.0          NaN   \n",
              "145457  2017-06-23    Uluru      5.4     26.9       0.0          NaN   \n",
              "145458  2017-06-24    Uluru      7.8     27.0       0.0          NaN   \n",
              "145459  2017-06-25    Uluru     14.9      NaN       0.0          NaN   \n",
              "\n",
              "        Sunshine WindGustDir  WindGustSpeed WindDir9am  ... Humidity9am  \\\n",
              "145455       NaN           E           31.0         SE  ...        51.0   \n",
              "145456       NaN         NNW           22.0         SE  ...        56.0   \n",
              "145457       NaN           N           37.0         SE  ...        53.0   \n",
              "145458       NaN          SE           28.0        SSE  ...        51.0   \n",
              "145459       NaN         NaN            NaN        ESE  ...        62.0   \n",
              "\n",
              "        Humidity3pm  Pressure9am  Pressure3pm  Cloud9am  Cloud3pm  Temp9am  \\\n",
              "145455         24.0       1024.6       1020.3       NaN       NaN     10.1   \n",
              "145456         21.0       1023.5       1019.1       NaN       NaN     10.9   \n",
              "145457         24.0       1021.0       1016.8       NaN       NaN     12.5   \n",
              "145458         24.0       1019.4       1016.5       3.0       2.0     15.1   \n",
              "145459         36.0       1020.2       1017.9       8.0       8.0     15.0   \n",
              "\n",
              "        Temp3pm  RainToday  RainTomorrow  \n",
              "145455     22.4         No            No  \n",
              "145456     24.5         No            No  \n",
              "145457     26.1         No            No  \n",
              "145458     26.0         No            No  \n",
              "145459     20.9         No           NaN  \n",
              "\n",
              "[5 rows x 23 columns]"
            ],
            "text/html": [
              "\n",
              "  <div id=\"df-7661c0de-8332-43fb-9670-39eb7ae85e0e\">\n",
              "    <div class=\"colab-df-container\">\n",
              "      <div>\n",
              "<style scoped>\n",
              "    .dataframe tbody tr th:only-of-type {\n",
              "        vertical-align: middle;\n",
              "    }\n",
              "\n",
              "    .dataframe tbody tr th {\n",
              "        vertical-align: top;\n",
              "    }\n",
              "\n",
              "    .dataframe thead th {\n",
              "        text-align: right;\n",
              "    }\n",
              "</style>\n",
              "<table border=\"1\" class=\"dataframe\">\n",
              "  <thead>\n",
              "    <tr style=\"text-align: right;\">\n",
              "      <th></th>\n",
              "      <th>Date</th>\n",
              "      <th>Location</th>\n",
              "      <th>MinTemp</th>\n",
              "      <th>MaxTemp</th>\n",
              "      <th>Rainfall</th>\n",
              "      <th>Evaporation</th>\n",
              "      <th>Sunshine</th>\n",
              "      <th>WindGustDir</th>\n",
              "      <th>WindGustSpeed</th>\n",
              "      <th>WindDir9am</th>\n",
              "      <th>...</th>\n",
              "      <th>Humidity9am</th>\n",
              "      <th>Humidity3pm</th>\n",
              "      <th>Pressure9am</th>\n",
              "      <th>Pressure3pm</th>\n",
              "      <th>Cloud9am</th>\n",
              "      <th>Cloud3pm</th>\n",
              "      <th>Temp9am</th>\n",
              "      <th>Temp3pm</th>\n",
              "      <th>RainToday</th>\n",
              "      <th>RainTomorrow</th>\n",
              "    </tr>\n",
              "  </thead>\n",
              "  <tbody>\n",
              "    <tr>\n",
              "      <th>145455</th>\n",
              "      <td>2017-06-21</td>\n",
              "      <td>Uluru</td>\n",
              "      <td>2.8</td>\n",
              "      <td>23.4</td>\n",
              "      <td>0.0</td>\n",
              "      <td>NaN</td>\n",
              "      <td>NaN</td>\n",
              "      <td>E</td>\n",
              "      <td>31.0</td>\n",
              "      <td>SE</td>\n",
              "      <td>...</td>\n",
              "      <td>51.0</td>\n",
              "      <td>24.0</td>\n",
              "      <td>1024.6</td>\n",
              "      <td>1020.3</td>\n",
              "      <td>NaN</td>\n",
              "      <td>NaN</td>\n",
              "      <td>10.1</td>\n",
              "      <td>22.4</td>\n",
              "      <td>No</td>\n",
              "      <td>No</td>\n",
              "    </tr>\n",
              "    <tr>\n",
              "      <th>145456</th>\n",
              "      <td>2017-06-22</td>\n",
              "      <td>Uluru</td>\n",
              "      <td>3.6</td>\n",
              "      <td>25.3</td>\n",
              "      <td>0.0</td>\n",
              "      <td>NaN</td>\n",
              "      <td>NaN</td>\n",
              "      <td>NNW</td>\n",
              "      <td>22.0</td>\n",
              "      <td>SE</td>\n",
              "      <td>...</td>\n",
              "      <td>56.0</td>\n",
              "      <td>21.0</td>\n",
              "      <td>1023.5</td>\n",
              "      <td>1019.1</td>\n",
              "      <td>NaN</td>\n",
              "      <td>NaN</td>\n",
              "      <td>10.9</td>\n",
              "      <td>24.5</td>\n",
              "      <td>No</td>\n",
              "      <td>No</td>\n",
              "    </tr>\n",
              "    <tr>\n",
              "      <th>145457</th>\n",
              "      <td>2017-06-23</td>\n",
              "      <td>Uluru</td>\n",
              "      <td>5.4</td>\n",
              "      <td>26.9</td>\n",
              "      <td>0.0</td>\n",
              "      <td>NaN</td>\n",
              "      <td>NaN</td>\n",
              "      <td>N</td>\n",
              "      <td>37.0</td>\n",
              "      <td>SE</td>\n",
              "      <td>...</td>\n",
              "      <td>53.0</td>\n",
              "      <td>24.0</td>\n",
              "      <td>1021.0</td>\n",
              "      <td>1016.8</td>\n",
              "      <td>NaN</td>\n",
              "      <td>NaN</td>\n",
              "      <td>12.5</td>\n",
              "      <td>26.1</td>\n",
              "      <td>No</td>\n",
              "      <td>No</td>\n",
              "    </tr>\n",
              "    <tr>\n",
              "      <th>145458</th>\n",
              "      <td>2017-06-24</td>\n",
              "      <td>Uluru</td>\n",
              "      <td>7.8</td>\n",
              "      <td>27.0</td>\n",
              "      <td>0.0</td>\n",
              "      <td>NaN</td>\n",
              "      <td>NaN</td>\n",
              "      <td>SE</td>\n",
              "      <td>28.0</td>\n",
              "      <td>SSE</td>\n",
              "      <td>...</td>\n",
              "      <td>51.0</td>\n",
              "      <td>24.0</td>\n",
              "      <td>1019.4</td>\n",
              "      <td>1016.5</td>\n",
              "      <td>3.0</td>\n",
              "      <td>2.0</td>\n",
              "      <td>15.1</td>\n",
              "      <td>26.0</td>\n",
              "      <td>No</td>\n",
              "      <td>No</td>\n",
              "    </tr>\n",
              "    <tr>\n",
              "      <th>145459</th>\n",
              "      <td>2017-06-25</td>\n",
              "      <td>Uluru</td>\n",
              "      <td>14.9</td>\n",
              "      <td>NaN</td>\n",
              "      <td>0.0</td>\n",
              "      <td>NaN</td>\n",
              "      <td>NaN</td>\n",
              "      <td>NaN</td>\n",
              "      <td>NaN</td>\n",
              "      <td>ESE</td>\n",
              "      <td>...</td>\n",
              "      <td>62.0</td>\n",
              "      <td>36.0</td>\n",
              "      <td>1020.2</td>\n",
              "      <td>1017.9</td>\n",
              "      <td>8.0</td>\n",
              "      <td>8.0</td>\n",
              "      <td>15.0</td>\n",
              "      <td>20.9</td>\n",
              "      <td>No</td>\n",
              "      <td>NaN</td>\n",
              "    </tr>\n",
              "  </tbody>\n",
              "</table>\n",
              "<p>5 rows × 23 columns</p>\n",
              "</div>\n",
              "      <button class=\"colab-df-convert\" onclick=\"convertToInteractive('df-7661c0de-8332-43fb-9670-39eb7ae85e0e')\"\n",
              "              title=\"Convert this dataframe to an interactive table.\"\n",
              "              style=\"display:none;\">\n",
              "        \n",
              "  <svg xmlns=\"http://www.w3.org/2000/svg\" height=\"24px\"viewBox=\"0 0 24 24\"\n",
              "       width=\"24px\">\n",
              "    <path d=\"M0 0h24v24H0V0z\" fill=\"none\"/>\n",
              "    <path d=\"M18.56 5.44l.94 2.06.94-2.06 2.06-.94-2.06-.94-.94-2.06-.94 2.06-2.06.94zm-11 1L8.5 8.5l.94-2.06 2.06-.94-2.06-.94L8.5 2.5l-.94 2.06-2.06.94zm10 10l.94 2.06.94-2.06 2.06-.94-2.06-.94-.94-2.06-.94 2.06-2.06.94z\"/><path d=\"M17.41 7.96l-1.37-1.37c-.4-.4-.92-.59-1.43-.59-.52 0-1.04.2-1.43.59L10.3 9.45l-7.72 7.72c-.78.78-.78 2.05 0 2.83L4 21.41c.39.39.9.59 1.41.59.51 0 1.02-.2 1.41-.59l7.78-7.78 2.81-2.81c.8-.78.8-2.07 0-2.86zM5.41 20L4 18.59l7.72-7.72 1.47 1.35L5.41 20z\"/>\n",
              "  </svg>\n",
              "      </button>\n",
              "      \n",
              "  <style>\n",
              "    .colab-df-container {\n",
              "      display:flex;\n",
              "      flex-wrap:wrap;\n",
              "      gap: 12px;\n",
              "    }\n",
              "\n",
              "    .colab-df-convert {\n",
              "      background-color: #E8F0FE;\n",
              "      border: none;\n",
              "      border-radius: 50%;\n",
              "      cursor: pointer;\n",
              "      display: none;\n",
              "      fill: #1967D2;\n",
              "      height: 32px;\n",
              "      padding: 0 0 0 0;\n",
              "      width: 32px;\n",
              "    }\n",
              "\n",
              "    .colab-df-convert:hover {\n",
              "      background-color: #E2EBFA;\n",
              "      box-shadow: 0px 1px 2px rgba(60, 64, 67, 0.3), 0px 1px 3px 1px rgba(60, 64, 67, 0.15);\n",
              "      fill: #174EA6;\n",
              "    }\n",
              "\n",
              "    [theme=dark] .colab-df-convert {\n",
              "      background-color: #3B4455;\n",
              "      fill: #D2E3FC;\n",
              "    }\n",
              "\n",
              "    [theme=dark] .colab-df-convert:hover {\n",
              "      background-color: #434B5C;\n",
              "      box-shadow: 0px 1px 3px 1px rgba(0, 0, 0, 0.15);\n",
              "      filter: drop-shadow(0px 1px 2px rgba(0, 0, 0, 0.3));\n",
              "      fill: #FFFFFF;\n",
              "    }\n",
              "  </style>\n",
              "\n",
              "      <script>\n",
              "        const buttonEl =\n",
              "          document.querySelector('#df-7661c0de-8332-43fb-9670-39eb7ae85e0e button.colab-df-convert');\n",
              "        buttonEl.style.display =\n",
              "          google.colab.kernel.accessAllowed ? 'block' : 'none';\n",
              "\n",
              "        async function convertToInteractive(key) {\n",
              "          const element = document.querySelector('#df-7661c0de-8332-43fb-9670-39eb7ae85e0e');\n",
              "          const dataTable =\n",
              "            await google.colab.kernel.invokeFunction('convertToInteractive',\n",
              "                                                     [key], {});\n",
              "          if (!dataTable) return;\n",
              "\n",
              "          const docLinkHtml = 'Like what you see? Visit the ' +\n",
              "            '<a target=\"_blank\" href=https://colab.research.google.com/notebooks/data_table.ipynb>data table notebook</a>'\n",
              "            + ' to learn more about interactive tables.';\n",
              "          element.innerHTML = '';\n",
              "          dataTable['output_type'] = 'display_data';\n",
              "          await google.colab.output.renderOutput(dataTable, element);\n",
              "          const docLink = document.createElement('div');\n",
              "          docLink.innerHTML = docLinkHtml;\n",
              "          element.appendChild(docLink);\n",
              "        }\n",
              "      </script>\n",
              "    </div>\n",
              "  </div>\n",
              "  "
            ]
          },
          "metadata": {},
          "execution_count": 4
        }
      ],
      "source": [
        "df.tail()"
      ]
    },
    {
      "cell_type": "markdown",
      "metadata": {
        "id": "QLmc5Tu7pdOT"
      },
      "source": [
        "Menampilkan 3 contoh data secara acak"
      ]
    },
    {
      "cell_type": "code",
      "execution_count": 5,
      "metadata": {
        "colab": {
          "base_uri": "https://localhost:8080/",
          "height": 173
        },
        "id": "T6zvWRNhCtfe",
        "outputId": "bc7ab278-5fa6-4190-c58b-b371e7d6c858"
      },
      "outputs": [
        {
          "output_type": "execute_result",
          "data": {
            "text/plain": [
              "             Date  Location  MinTemp  MaxTemp  Rainfall  Evaporation  \\\n",
              "29160  2014-09-14  Richmond      9.1     25.5       0.0          NaN   \n",
              "80910  2017-03-30  Watsonia      8.7     18.8       4.0          6.4   \n",
              "78201  2009-08-01  Watsonia      9.5     15.8       0.2          1.6   \n",
              "\n",
              "       Sunshine WindGustDir  WindGustSpeed WindDir9am  ... Humidity9am  \\\n",
              "29160       NaN          SE           35.0        ENE  ...        95.0   \n",
              "80910       8.0         SSW           44.0          W  ...        98.0   \n",
              "78201       3.8         NNW           37.0        NNW  ...        70.0   \n",
              "\n",
              "       Humidity3pm  Pressure9am  Pressure3pm  Cloud9am  Cloud3pm  Temp9am  \\\n",
              "29160         41.0       1020.8       1014.9       3.0       1.0     14.0   \n",
              "80910         49.0       1016.4       1017.3       4.0       6.0     10.2   \n",
              "78201         64.0       1024.1       1023.0       6.0       7.0     11.8   \n",
              "\n",
              "       Temp3pm  RainToday  RainTomorrow  \n",
              "29160     25.2         No            No  \n",
              "80910     17.2        Yes           Yes  \n",
              "78201     15.2         No            No  \n",
              "\n",
              "[3 rows x 23 columns]"
            ],
            "text/html": [
              "\n",
              "  <div id=\"df-db3d7ba5-be0a-47f4-9912-aa77165209c4\">\n",
              "    <div class=\"colab-df-container\">\n",
              "      <div>\n",
              "<style scoped>\n",
              "    .dataframe tbody tr th:only-of-type {\n",
              "        vertical-align: middle;\n",
              "    }\n",
              "\n",
              "    .dataframe tbody tr th {\n",
              "        vertical-align: top;\n",
              "    }\n",
              "\n",
              "    .dataframe thead th {\n",
              "        text-align: right;\n",
              "    }\n",
              "</style>\n",
              "<table border=\"1\" class=\"dataframe\">\n",
              "  <thead>\n",
              "    <tr style=\"text-align: right;\">\n",
              "      <th></th>\n",
              "      <th>Date</th>\n",
              "      <th>Location</th>\n",
              "      <th>MinTemp</th>\n",
              "      <th>MaxTemp</th>\n",
              "      <th>Rainfall</th>\n",
              "      <th>Evaporation</th>\n",
              "      <th>Sunshine</th>\n",
              "      <th>WindGustDir</th>\n",
              "      <th>WindGustSpeed</th>\n",
              "      <th>WindDir9am</th>\n",
              "      <th>...</th>\n",
              "      <th>Humidity9am</th>\n",
              "      <th>Humidity3pm</th>\n",
              "      <th>Pressure9am</th>\n",
              "      <th>Pressure3pm</th>\n",
              "      <th>Cloud9am</th>\n",
              "      <th>Cloud3pm</th>\n",
              "      <th>Temp9am</th>\n",
              "      <th>Temp3pm</th>\n",
              "      <th>RainToday</th>\n",
              "      <th>RainTomorrow</th>\n",
              "    </tr>\n",
              "  </thead>\n",
              "  <tbody>\n",
              "    <tr>\n",
              "      <th>29160</th>\n",
              "      <td>2014-09-14</td>\n",
              "      <td>Richmond</td>\n",
              "      <td>9.1</td>\n",
              "      <td>25.5</td>\n",
              "      <td>0.0</td>\n",
              "      <td>NaN</td>\n",
              "      <td>NaN</td>\n",
              "      <td>SE</td>\n",
              "      <td>35.0</td>\n",
              "      <td>ENE</td>\n",
              "      <td>...</td>\n",
              "      <td>95.0</td>\n",
              "      <td>41.0</td>\n",
              "      <td>1020.8</td>\n",
              "      <td>1014.9</td>\n",
              "      <td>3.0</td>\n",
              "      <td>1.0</td>\n",
              "      <td>14.0</td>\n",
              "      <td>25.2</td>\n",
              "      <td>No</td>\n",
              "      <td>No</td>\n",
              "    </tr>\n",
              "    <tr>\n",
              "      <th>80910</th>\n",
              "      <td>2017-03-30</td>\n",
              "      <td>Watsonia</td>\n",
              "      <td>8.7</td>\n",
              "      <td>18.8</td>\n",
              "      <td>4.0</td>\n",
              "      <td>6.4</td>\n",
              "      <td>8.0</td>\n",
              "      <td>SSW</td>\n",
              "      <td>44.0</td>\n",
              "      <td>W</td>\n",
              "      <td>...</td>\n",
              "      <td>98.0</td>\n",
              "      <td>49.0</td>\n",
              "      <td>1016.4</td>\n",
              "      <td>1017.3</td>\n",
              "      <td>4.0</td>\n",
              "      <td>6.0</td>\n",
              "      <td>10.2</td>\n",
              "      <td>17.2</td>\n",
              "      <td>Yes</td>\n",
              "      <td>Yes</td>\n",
              "    </tr>\n",
              "    <tr>\n",
              "      <th>78201</th>\n",
              "      <td>2009-08-01</td>\n",
              "      <td>Watsonia</td>\n",
              "      <td>9.5</td>\n",
              "      <td>15.8</td>\n",
              "      <td>0.2</td>\n",
              "      <td>1.6</td>\n",
              "      <td>3.8</td>\n",
              "      <td>NNW</td>\n",
              "      <td>37.0</td>\n",
              "      <td>NNW</td>\n",
              "      <td>...</td>\n",
              "      <td>70.0</td>\n",
              "      <td>64.0</td>\n",
              "      <td>1024.1</td>\n",
              "      <td>1023.0</td>\n",
              "      <td>6.0</td>\n",
              "      <td>7.0</td>\n",
              "      <td>11.8</td>\n",
              "      <td>15.2</td>\n",
              "      <td>No</td>\n",
              "      <td>No</td>\n",
              "    </tr>\n",
              "  </tbody>\n",
              "</table>\n",
              "<p>3 rows × 23 columns</p>\n",
              "</div>\n",
              "      <button class=\"colab-df-convert\" onclick=\"convertToInteractive('df-db3d7ba5-be0a-47f4-9912-aa77165209c4')\"\n",
              "              title=\"Convert this dataframe to an interactive table.\"\n",
              "              style=\"display:none;\">\n",
              "        \n",
              "  <svg xmlns=\"http://www.w3.org/2000/svg\" height=\"24px\"viewBox=\"0 0 24 24\"\n",
              "       width=\"24px\">\n",
              "    <path d=\"M0 0h24v24H0V0z\" fill=\"none\"/>\n",
              "    <path d=\"M18.56 5.44l.94 2.06.94-2.06 2.06-.94-2.06-.94-.94-2.06-.94 2.06-2.06.94zm-11 1L8.5 8.5l.94-2.06 2.06-.94-2.06-.94L8.5 2.5l-.94 2.06-2.06.94zm10 10l.94 2.06.94-2.06 2.06-.94-2.06-.94-.94-2.06-.94 2.06-2.06.94z\"/><path d=\"M17.41 7.96l-1.37-1.37c-.4-.4-.92-.59-1.43-.59-.52 0-1.04.2-1.43.59L10.3 9.45l-7.72 7.72c-.78.78-.78 2.05 0 2.83L4 21.41c.39.39.9.59 1.41.59.51 0 1.02-.2 1.41-.59l7.78-7.78 2.81-2.81c.8-.78.8-2.07 0-2.86zM5.41 20L4 18.59l7.72-7.72 1.47 1.35L5.41 20z\"/>\n",
              "  </svg>\n",
              "      </button>\n",
              "      \n",
              "  <style>\n",
              "    .colab-df-container {\n",
              "      display:flex;\n",
              "      flex-wrap:wrap;\n",
              "      gap: 12px;\n",
              "    }\n",
              "\n",
              "    .colab-df-convert {\n",
              "      background-color: #E8F0FE;\n",
              "      border: none;\n",
              "      border-radius: 50%;\n",
              "      cursor: pointer;\n",
              "      display: none;\n",
              "      fill: #1967D2;\n",
              "      height: 32px;\n",
              "      padding: 0 0 0 0;\n",
              "      width: 32px;\n",
              "    }\n",
              "\n",
              "    .colab-df-convert:hover {\n",
              "      background-color: #E2EBFA;\n",
              "      box-shadow: 0px 1px 2px rgba(60, 64, 67, 0.3), 0px 1px 3px 1px rgba(60, 64, 67, 0.15);\n",
              "      fill: #174EA6;\n",
              "    }\n",
              "\n",
              "    [theme=dark] .colab-df-convert {\n",
              "      background-color: #3B4455;\n",
              "      fill: #D2E3FC;\n",
              "    }\n",
              "\n",
              "    [theme=dark] .colab-df-convert:hover {\n",
              "      background-color: #434B5C;\n",
              "      box-shadow: 0px 1px 3px 1px rgba(0, 0, 0, 0.15);\n",
              "      filter: drop-shadow(0px 1px 2px rgba(0, 0, 0, 0.3));\n",
              "      fill: #FFFFFF;\n",
              "    }\n",
              "  </style>\n",
              "\n",
              "      <script>\n",
              "        const buttonEl =\n",
              "          document.querySelector('#df-db3d7ba5-be0a-47f4-9912-aa77165209c4 button.colab-df-convert');\n",
              "        buttonEl.style.display =\n",
              "          google.colab.kernel.accessAllowed ? 'block' : 'none';\n",
              "\n",
              "        async function convertToInteractive(key) {\n",
              "          const element = document.querySelector('#df-db3d7ba5-be0a-47f4-9912-aa77165209c4');\n",
              "          const dataTable =\n",
              "            await google.colab.kernel.invokeFunction('convertToInteractive',\n",
              "                                                     [key], {});\n",
              "          if (!dataTable) return;\n",
              "\n",
              "          const docLinkHtml = 'Like what you see? Visit the ' +\n",
              "            '<a target=\"_blank\" href=https://colab.research.google.com/notebooks/data_table.ipynb>data table notebook</a>'\n",
              "            + ' to learn more about interactive tables.';\n",
              "          element.innerHTML = '';\n",
              "          dataTable['output_type'] = 'display_data';\n",
              "          await google.colab.output.renderOutput(dataTable, element);\n",
              "          const docLink = document.createElement('div');\n",
              "          docLink.innerHTML = docLinkHtml;\n",
              "          element.appendChild(docLink);\n",
              "        }\n",
              "      </script>\n",
              "    </div>\n",
              "  </div>\n",
              "  "
            ]
          },
          "metadata": {},
          "execution_count": 5
        }
      ],
      "source": [
        "df.sample(3)"
      ]
    },
    {
      "cell_type": "markdown",
      "metadata": {
        "id": "M38B5jeeIdcg"
      },
      "source": [
        "Menampilkan nama-nama kolom pada dataframe"
      ]
    },
    {
      "cell_type": "code",
      "execution_count": 6,
      "metadata": {
        "colab": {
          "base_uri": "https://localhost:8080/"
        },
        "id": "FC0nK68NIeI5",
        "outputId": "83ac93d5-e800-4462-f8ea-70963d535407"
      },
      "outputs": [
        {
          "output_type": "execute_result",
          "data": {
            "text/plain": [
              "Index(['Date', 'Location', 'MinTemp', 'MaxTemp', 'Rainfall', 'Evaporation',\n",
              "       'Sunshine', 'WindGustDir', 'WindGustSpeed', 'WindDir9am', 'WindDir3pm',\n",
              "       'WindSpeed9am', 'WindSpeed3pm', 'Humidity9am', 'Humidity3pm',\n",
              "       'Pressure9am', 'Pressure3pm', 'Cloud9am', 'Cloud3pm', 'Temp9am',\n",
              "       'Temp3pm', 'RainToday', 'RainTomorrow'],\n",
              "      dtype='object')"
            ]
          },
          "metadata": {},
          "execution_count": 6
        }
      ],
      "source": [
        "df.columns "
      ]
    },
    {
      "cell_type": "markdown",
      "metadata": {
        "id": "Hle-y0cusy7Q"
      },
      "source": [
        "Menampilkan informasi detail tentang dataframe."
      ]
    },
    {
      "cell_type": "code",
      "execution_count": 7,
      "metadata": {
        "colab": {
          "base_uri": "https://localhost:8080/"
        },
        "id": "uKMdioiWCyD1",
        "outputId": "46ea9c72-6580-49a3-a18c-bad532cf7515"
      },
      "outputs": [
        {
          "output_type": "stream",
          "name": "stdout",
          "text": [
            "<class 'pandas.core.frame.DataFrame'>\n",
            "RangeIndex: 145460 entries, 0 to 145459\n",
            "Data columns (total 23 columns):\n",
            " #   Column         Non-Null Count   Dtype  \n",
            "---  ------         --------------   -----  \n",
            " 0   Date           145460 non-null  object \n",
            " 1   Location       145460 non-null  object \n",
            " 2   MinTemp        143975 non-null  float64\n",
            " 3   MaxTemp        144199 non-null  float64\n",
            " 4   Rainfall       142199 non-null  float64\n",
            " 5   Evaporation    82670 non-null   float64\n",
            " 6   Sunshine       75625 non-null   float64\n",
            " 7   WindGustDir    135134 non-null  object \n",
            " 8   WindGustSpeed  135197 non-null  float64\n",
            " 9   WindDir9am     134894 non-null  object \n",
            " 10  WindDir3pm     141232 non-null  object \n",
            " 11  WindSpeed9am   143693 non-null  float64\n",
            " 12  WindSpeed3pm   142398 non-null  float64\n",
            " 13  Humidity9am    142806 non-null  float64\n",
            " 14  Humidity3pm    140953 non-null  float64\n",
            " 15  Pressure9am    130395 non-null  float64\n",
            " 16  Pressure3pm    130432 non-null  float64\n",
            " 17  Cloud9am       89572 non-null   float64\n",
            " 18  Cloud3pm       86102 non-null   float64\n",
            " 19  Temp9am        143693 non-null  float64\n",
            " 20  Temp3pm        141851 non-null  float64\n",
            " 21  RainToday      142199 non-null  object \n",
            " 22  RainTomorrow   142193 non-null  object \n",
            "dtypes: float64(16), object(7)\n",
            "memory usage: 25.5+ MB\n"
          ]
        }
      ],
      "source": [
        "df.info()"
      ]
    },
    {
      "cell_type": "markdown",
      "metadata": {
        "id": "yxr1V7xJs8lo"
      },
      "source": [
        "Menampilkan deskriptif statistik data"
      ]
    },
    {
      "cell_type": "code",
      "execution_count": 8,
      "metadata": {
        "colab": {
          "base_uri": "https://localhost:8080/",
          "height": 300
        },
        "id": "ILhIvAy3C0sv",
        "outputId": "331f32f2-1a5e-4839-a382-64c915eb9e33"
      },
      "outputs": [
        {
          "output_type": "execute_result",
          "data": {
            "text/plain": [
              "             MinTemp        MaxTemp       Rainfall   Evaporation  \\\n",
              "count  143975.000000  144199.000000  142199.000000  82670.000000   \n",
              "mean       12.194034      23.221348       2.360918      5.468232   \n",
              "std         6.398495       7.119049       8.478060      4.193704   \n",
              "min        -8.500000      -4.800000       0.000000      0.000000   \n",
              "25%         7.600000      17.900000       0.000000      2.600000   \n",
              "50%        12.000000      22.600000       0.000000      4.800000   \n",
              "75%        16.900000      28.200000       0.800000      7.400000   \n",
              "max        33.900000      48.100000     371.000000    145.000000   \n",
              "\n",
              "           Sunshine  WindGustSpeed   WindSpeed9am   WindSpeed3pm  \\\n",
              "count  75625.000000  135197.000000  143693.000000  142398.000000   \n",
              "mean       7.611178      40.035230      14.043426      18.662657   \n",
              "std        3.785483      13.607062       8.915375       8.809800   \n",
              "min        0.000000       6.000000       0.000000       0.000000   \n",
              "25%        4.800000      31.000000       7.000000      13.000000   \n",
              "50%        8.400000      39.000000      13.000000      19.000000   \n",
              "75%       10.600000      48.000000      19.000000      24.000000   \n",
              "max       14.500000     135.000000     130.000000      87.000000   \n",
              "\n",
              "         Humidity9am    Humidity3pm   Pressure9am    Pressure3pm  \\\n",
              "count  142806.000000  140953.000000  130395.00000  130432.000000   \n",
              "mean       68.880831      51.539116    1017.64994    1015.255889   \n",
              "std        19.029164      20.795902       7.10653       7.037414   \n",
              "min         0.000000       0.000000     980.50000     977.100000   \n",
              "25%        57.000000      37.000000    1012.90000    1010.400000   \n",
              "50%        70.000000      52.000000    1017.60000    1015.200000   \n",
              "75%        83.000000      66.000000    1022.40000    1020.000000   \n",
              "max       100.000000     100.000000    1041.00000    1039.600000   \n",
              "\n",
              "           Cloud9am      Cloud3pm        Temp9am       Temp3pm  \n",
              "count  89572.000000  86102.000000  143693.000000  141851.00000  \n",
              "mean       4.447461      4.509930      16.990631      21.68339  \n",
              "std        2.887159      2.720357       6.488753       6.93665  \n",
              "min        0.000000      0.000000      -7.200000      -5.40000  \n",
              "25%        1.000000      2.000000      12.300000      16.60000  \n",
              "50%        5.000000      5.000000      16.700000      21.10000  \n",
              "75%        7.000000      7.000000      21.600000      26.40000  \n",
              "max        9.000000      9.000000      40.200000      46.70000  "
            ],
            "text/html": [
              "\n",
              "  <div id=\"df-ec64f7ae-5f17-44e7-b75e-0daa12396084\">\n",
              "    <div class=\"colab-df-container\">\n",
              "      <div>\n",
              "<style scoped>\n",
              "    .dataframe tbody tr th:only-of-type {\n",
              "        vertical-align: middle;\n",
              "    }\n",
              "\n",
              "    .dataframe tbody tr th {\n",
              "        vertical-align: top;\n",
              "    }\n",
              "\n",
              "    .dataframe thead th {\n",
              "        text-align: right;\n",
              "    }\n",
              "</style>\n",
              "<table border=\"1\" class=\"dataframe\">\n",
              "  <thead>\n",
              "    <tr style=\"text-align: right;\">\n",
              "      <th></th>\n",
              "      <th>MinTemp</th>\n",
              "      <th>MaxTemp</th>\n",
              "      <th>Rainfall</th>\n",
              "      <th>Evaporation</th>\n",
              "      <th>Sunshine</th>\n",
              "      <th>WindGustSpeed</th>\n",
              "      <th>WindSpeed9am</th>\n",
              "      <th>WindSpeed3pm</th>\n",
              "      <th>Humidity9am</th>\n",
              "      <th>Humidity3pm</th>\n",
              "      <th>Pressure9am</th>\n",
              "      <th>Pressure3pm</th>\n",
              "      <th>Cloud9am</th>\n",
              "      <th>Cloud3pm</th>\n",
              "      <th>Temp9am</th>\n",
              "      <th>Temp3pm</th>\n",
              "    </tr>\n",
              "  </thead>\n",
              "  <tbody>\n",
              "    <tr>\n",
              "      <th>count</th>\n",
              "      <td>143975.000000</td>\n",
              "      <td>144199.000000</td>\n",
              "      <td>142199.000000</td>\n",
              "      <td>82670.000000</td>\n",
              "      <td>75625.000000</td>\n",
              "      <td>135197.000000</td>\n",
              "      <td>143693.000000</td>\n",
              "      <td>142398.000000</td>\n",
              "      <td>142806.000000</td>\n",
              "      <td>140953.000000</td>\n",
              "      <td>130395.00000</td>\n",
              "      <td>130432.000000</td>\n",
              "      <td>89572.000000</td>\n",
              "      <td>86102.000000</td>\n",
              "      <td>143693.000000</td>\n",
              "      <td>141851.00000</td>\n",
              "    </tr>\n",
              "    <tr>\n",
              "      <th>mean</th>\n",
              "      <td>12.194034</td>\n",
              "      <td>23.221348</td>\n",
              "      <td>2.360918</td>\n",
              "      <td>5.468232</td>\n",
              "      <td>7.611178</td>\n",
              "      <td>40.035230</td>\n",
              "      <td>14.043426</td>\n",
              "      <td>18.662657</td>\n",
              "      <td>68.880831</td>\n",
              "      <td>51.539116</td>\n",
              "      <td>1017.64994</td>\n",
              "      <td>1015.255889</td>\n",
              "      <td>4.447461</td>\n",
              "      <td>4.509930</td>\n",
              "      <td>16.990631</td>\n",
              "      <td>21.68339</td>\n",
              "    </tr>\n",
              "    <tr>\n",
              "      <th>std</th>\n",
              "      <td>6.398495</td>\n",
              "      <td>7.119049</td>\n",
              "      <td>8.478060</td>\n",
              "      <td>4.193704</td>\n",
              "      <td>3.785483</td>\n",
              "      <td>13.607062</td>\n",
              "      <td>8.915375</td>\n",
              "      <td>8.809800</td>\n",
              "      <td>19.029164</td>\n",
              "      <td>20.795902</td>\n",
              "      <td>7.10653</td>\n",
              "      <td>7.037414</td>\n",
              "      <td>2.887159</td>\n",
              "      <td>2.720357</td>\n",
              "      <td>6.488753</td>\n",
              "      <td>6.93665</td>\n",
              "    </tr>\n",
              "    <tr>\n",
              "      <th>min</th>\n",
              "      <td>-8.500000</td>\n",
              "      <td>-4.800000</td>\n",
              "      <td>0.000000</td>\n",
              "      <td>0.000000</td>\n",
              "      <td>0.000000</td>\n",
              "      <td>6.000000</td>\n",
              "      <td>0.000000</td>\n",
              "      <td>0.000000</td>\n",
              "      <td>0.000000</td>\n",
              "      <td>0.000000</td>\n",
              "      <td>980.50000</td>\n",
              "      <td>977.100000</td>\n",
              "      <td>0.000000</td>\n",
              "      <td>0.000000</td>\n",
              "      <td>-7.200000</td>\n",
              "      <td>-5.40000</td>\n",
              "    </tr>\n",
              "    <tr>\n",
              "      <th>25%</th>\n",
              "      <td>7.600000</td>\n",
              "      <td>17.900000</td>\n",
              "      <td>0.000000</td>\n",
              "      <td>2.600000</td>\n",
              "      <td>4.800000</td>\n",
              "      <td>31.000000</td>\n",
              "      <td>7.000000</td>\n",
              "      <td>13.000000</td>\n",
              "      <td>57.000000</td>\n",
              "      <td>37.000000</td>\n",
              "      <td>1012.90000</td>\n",
              "      <td>1010.400000</td>\n",
              "      <td>1.000000</td>\n",
              "      <td>2.000000</td>\n",
              "      <td>12.300000</td>\n",
              "      <td>16.60000</td>\n",
              "    </tr>\n",
              "    <tr>\n",
              "      <th>50%</th>\n",
              "      <td>12.000000</td>\n",
              "      <td>22.600000</td>\n",
              "      <td>0.000000</td>\n",
              "      <td>4.800000</td>\n",
              "      <td>8.400000</td>\n",
              "      <td>39.000000</td>\n",
              "      <td>13.000000</td>\n",
              "      <td>19.000000</td>\n",
              "      <td>70.000000</td>\n",
              "      <td>52.000000</td>\n",
              "      <td>1017.60000</td>\n",
              "      <td>1015.200000</td>\n",
              "      <td>5.000000</td>\n",
              "      <td>5.000000</td>\n",
              "      <td>16.700000</td>\n",
              "      <td>21.10000</td>\n",
              "    </tr>\n",
              "    <tr>\n",
              "      <th>75%</th>\n",
              "      <td>16.900000</td>\n",
              "      <td>28.200000</td>\n",
              "      <td>0.800000</td>\n",
              "      <td>7.400000</td>\n",
              "      <td>10.600000</td>\n",
              "      <td>48.000000</td>\n",
              "      <td>19.000000</td>\n",
              "      <td>24.000000</td>\n",
              "      <td>83.000000</td>\n",
              "      <td>66.000000</td>\n",
              "      <td>1022.40000</td>\n",
              "      <td>1020.000000</td>\n",
              "      <td>7.000000</td>\n",
              "      <td>7.000000</td>\n",
              "      <td>21.600000</td>\n",
              "      <td>26.40000</td>\n",
              "    </tr>\n",
              "    <tr>\n",
              "      <th>max</th>\n",
              "      <td>33.900000</td>\n",
              "      <td>48.100000</td>\n",
              "      <td>371.000000</td>\n",
              "      <td>145.000000</td>\n",
              "      <td>14.500000</td>\n",
              "      <td>135.000000</td>\n",
              "      <td>130.000000</td>\n",
              "      <td>87.000000</td>\n",
              "      <td>100.000000</td>\n",
              "      <td>100.000000</td>\n",
              "      <td>1041.00000</td>\n",
              "      <td>1039.600000</td>\n",
              "      <td>9.000000</td>\n",
              "      <td>9.000000</td>\n",
              "      <td>40.200000</td>\n",
              "      <td>46.70000</td>\n",
              "    </tr>\n",
              "  </tbody>\n",
              "</table>\n",
              "</div>\n",
              "      <button class=\"colab-df-convert\" onclick=\"convertToInteractive('df-ec64f7ae-5f17-44e7-b75e-0daa12396084')\"\n",
              "              title=\"Convert this dataframe to an interactive table.\"\n",
              "              style=\"display:none;\">\n",
              "        \n",
              "  <svg xmlns=\"http://www.w3.org/2000/svg\" height=\"24px\"viewBox=\"0 0 24 24\"\n",
              "       width=\"24px\">\n",
              "    <path d=\"M0 0h24v24H0V0z\" fill=\"none\"/>\n",
              "    <path d=\"M18.56 5.44l.94 2.06.94-2.06 2.06-.94-2.06-.94-.94-2.06-.94 2.06-2.06.94zm-11 1L8.5 8.5l.94-2.06 2.06-.94-2.06-.94L8.5 2.5l-.94 2.06-2.06.94zm10 10l.94 2.06.94-2.06 2.06-.94-2.06-.94-.94-2.06-.94 2.06-2.06.94z\"/><path d=\"M17.41 7.96l-1.37-1.37c-.4-.4-.92-.59-1.43-.59-.52 0-1.04.2-1.43.59L10.3 9.45l-7.72 7.72c-.78.78-.78 2.05 0 2.83L4 21.41c.39.39.9.59 1.41.59.51 0 1.02-.2 1.41-.59l7.78-7.78 2.81-2.81c.8-.78.8-2.07 0-2.86zM5.41 20L4 18.59l7.72-7.72 1.47 1.35L5.41 20z\"/>\n",
              "  </svg>\n",
              "      </button>\n",
              "      \n",
              "  <style>\n",
              "    .colab-df-container {\n",
              "      display:flex;\n",
              "      flex-wrap:wrap;\n",
              "      gap: 12px;\n",
              "    }\n",
              "\n",
              "    .colab-df-convert {\n",
              "      background-color: #E8F0FE;\n",
              "      border: none;\n",
              "      border-radius: 50%;\n",
              "      cursor: pointer;\n",
              "      display: none;\n",
              "      fill: #1967D2;\n",
              "      height: 32px;\n",
              "      padding: 0 0 0 0;\n",
              "      width: 32px;\n",
              "    }\n",
              "\n",
              "    .colab-df-convert:hover {\n",
              "      background-color: #E2EBFA;\n",
              "      box-shadow: 0px 1px 2px rgba(60, 64, 67, 0.3), 0px 1px 3px 1px rgba(60, 64, 67, 0.15);\n",
              "      fill: #174EA6;\n",
              "    }\n",
              "\n",
              "    [theme=dark] .colab-df-convert {\n",
              "      background-color: #3B4455;\n",
              "      fill: #D2E3FC;\n",
              "    }\n",
              "\n",
              "    [theme=dark] .colab-df-convert:hover {\n",
              "      background-color: #434B5C;\n",
              "      box-shadow: 0px 1px 3px 1px rgba(0, 0, 0, 0.15);\n",
              "      filter: drop-shadow(0px 1px 2px rgba(0, 0, 0, 0.3));\n",
              "      fill: #FFFFFF;\n",
              "    }\n",
              "  </style>\n",
              "\n",
              "      <script>\n",
              "        const buttonEl =\n",
              "          document.querySelector('#df-ec64f7ae-5f17-44e7-b75e-0daa12396084 button.colab-df-convert');\n",
              "        buttonEl.style.display =\n",
              "          google.colab.kernel.accessAllowed ? 'block' : 'none';\n",
              "\n",
              "        async function convertToInteractive(key) {\n",
              "          const element = document.querySelector('#df-ec64f7ae-5f17-44e7-b75e-0daa12396084');\n",
              "          const dataTable =\n",
              "            await google.colab.kernel.invokeFunction('convertToInteractive',\n",
              "                                                     [key], {});\n",
              "          if (!dataTable) return;\n",
              "\n",
              "          const docLinkHtml = 'Like what you see? Visit the ' +\n",
              "            '<a target=\"_blank\" href=https://colab.research.google.com/notebooks/data_table.ipynb>data table notebook</a>'\n",
              "            + ' to learn more about interactive tables.';\n",
              "          element.innerHTML = '';\n",
              "          dataTable['output_type'] = 'display_data';\n",
              "          await google.colab.output.renderOutput(dataTable, element);\n",
              "          const docLink = document.createElement('div');\n",
              "          docLink.innerHTML = docLinkHtml;\n",
              "          element.appendChild(docLink);\n",
              "        }\n",
              "      </script>\n",
              "    </div>\n",
              "  </div>\n",
              "  "
            ]
          },
          "metadata": {},
          "execution_count": 8
        }
      ],
      "source": [
        "df.describe()"
      ]
    },
    {
      "cell_type": "markdown",
      "metadata": {
        "id": "7TEDIw2otBfj"
      },
      "source": [
        "Menampilkan deskriptif statistik data objek"
      ]
    },
    {
      "cell_type": "code",
      "execution_count": 9,
      "metadata": {
        "colab": {
          "base_uri": "https://localhost:8080/",
          "height": 175
        },
        "id": "vJippkPxDSbp",
        "outputId": "e4f225fc-8ed9-416e-faa2-5c23c8f91056"
      },
      "outputs": [
        {
          "output_type": "execute_result",
          "data": {
            "text/plain": [
              "              Date  Location WindGustDir WindDir9am WindDir3pm RainToday  \\\n",
              "count       145460    145460      135134     134894     141232    142199   \n",
              "unique        3436        49          16         16         16         2   \n",
              "top     2013-11-12  Canberra           W          N         SE        No   \n",
              "freq            49      3436        9915      11758      10838    110319   \n",
              "\n",
              "       RainTomorrow  \n",
              "count        142193  \n",
              "unique            2  \n",
              "top              No  \n",
              "freq         110316  "
            ],
            "text/html": [
              "\n",
              "  <div id=\"df-d92a37bc-15bc-41b9-9a02-97681950cb0f\">\n",
              "    <div class=\"colab-df-container\">\n",
              "      <div>\n",
              "<style scoped>\n",
              "    .dataframe tbody tr th:only-of-type {\n",
              "        vertical-align: middle;\n",
              "    }\n",
              "\n",
              "    .dataframe tbody tr th {\n",
              "        vertical-align: top;\n",
              "    }\n",
              "\n",
              "    .dataframe thead th {\n",
              "        text-align: right;\n",
              "    }\n",
              "</style>\n",
              "<table border=\"1\" class=\"dataframe\">\n",
              "  <thead>\n",
              "    <tr style=\"text-align: right;\">\n",
              "      <th></th>\n",
              "      <th>Date</th>\n",
              "      <th>Location</th>\n",
              "      <th>WindGustDir</th>\n",
              "      <th>WindDir9am</th>\n",
              "      <th>WindDir3pm</th>\n",
              "      <th>RainToday</th>\n",
              "      <th>RainTomorrow</th>\n",
              "    </tr>\n",
              "  </thead>\n",
              "  <tbody>\n",
              "    <tr>\n",
              "      <th>count</th>\n",
              "      <td>145460</td>\n",
              "      <td>145460</td>\n",
              "      <td>135134</td>\n",
              "      <td>134894</td>\n",
              "      <td>141232</td>\n",
              "      <td>142199</td>\n",
              "      <td>142193</td>\n",
              "    </tr>\n",
              "    <tr>\n",
              "      <th>unique</th>\n",
              "      <td>3436</td>\n",
              "      <td>49</td>\n",
              "      <td>16</td>\n",
              "      <td>16</td>\n",
              "      <td>16</td>\n",
              "      <td>2</td>\n",
              "      <td>2</td>\n",
              "    </tr>\n",
              "    <tr>\n",
              "      <th>top</th>\n",
              "      <td>2013-11-12</td>\n",
              "      <td>Canberra</td>\n",
              "      <td>W</td>\n",
              "      <td>N</td>\n",
              "      <td>SE</td>\n",
              "      <td>No</td>\n",
              "      <td>No</td>\n",
              "    </tr>\n",
              "    <tr>\n",
              "      <th>freq</th>\n",
              "      <td>49</td>\n",
              "      <td>3436</td>\n",
              "      <td>9915</td>\n",
              "      <td>11758</td>\n",
              "      <td>10838</td>\n",
              "      <td>110319</td>\n",
              "      <td>110316</td>\n",
              "    </tr>\n",
              "  </tbody>\n",
              "</table>\n",
              "</div>\n",
              "      <button class=\"colab-df-convert\" onclick=\"convertToInteractive('df-d92a37bc-15bc-41b9-9a02-97681950cb0f')\"\n",
              "              title=\"Convert this dataframe to an interactive table.\"\n",
              "              style=\"display:none;\">\n",
              "        \n",
              "  <svg xmlns=\"http://www.w3.org/2000/svg\" height=\"24px\"viewBox=\"0 0 24 24\"\n",
              "       width=\"24px\">\n",
              "    <path d=\"M0 0h24v24H0V0z\" fill=\"none\"/>\n",
              "    <path d=\"M18.56 5.44l.94 2.06.94-2.06 2.06-.94-2.06-.94-.94-2.06-.94 2.06-2.06.94zm-11 1L8.5 8.5l.94-2.06 2.06-.94-2.06-.94L8.5 2.5l-.94 2.06-2.06.94zm10 10l.94 2.06.94-2.06 2.06-.94-2.06-.94-.94-2.06-.94 2.06-2.06.94z\"/><path d=\"M17.41 7.96l-1.37-1.37c-.4-.4-.92-.59-1.43-.59-.52 0-1.04.2-1.43.59L10.3 9.45l-7.72 7.72c-.78.78-.78 2.05 0 2.83L4 21.41c.39.39.9.59 1.41.59.51 0 1.02-.2 1.41-.59l7.78-7.78 2.81-2.81c.8-.78.8-2.07 0-2.86zM5.41 20L4 18.59l7.72-7.72 1.47 1.35L5.41 20z\"/>\n",
              "  </svg>\n",
              "      </button>\n",
              "      \n",
              "  <style>\n",
              "    .colab-df-container {\n",
              "      display:flex;\n",
              "      flex-wrap:wrap;\n",
              "      gap: 12px;\n",
              "    }\n",
              "\n",
              "    .colab-df-convert {\n",
              "      background-color: #E8F0FE;\n",
              "      border: none;\n",
              "      border-radius: 50%;\n",
              "      cursor: pointer;\n",
              "      display: none;\n",
              "      fill: #1967D2;\n",
              "      height: 32px;\n",
              "      padding: 0 0 0 0;\n",
              "      width: 32px;\n",
              "    }\n",
              "\n",
              "    .colab-df-convert:hover {\n",
              "      background-color: #E2EBFA;\n",
              "      box-shadow: 0px 1px 2px rgba(60, 64, 67, 0.3), 0px 1px 3px 1px rgba(60, 64, 67, 0.15);\n",
              "      fill: #174EA6;\n",
              "    }\n",
              "\n",
              "    [theme=dark] .colab-df-convert {\n",
              "      background-color: #3B4455;\n",
              "      fill: #D2E3FC;\n",
              "    }\n",
              "\n",
              "    [theme=dark] .colab-df-convert:hover {\n",
              "      background-color: #434B5C;\n",
              "      box-shadow: 0px 1px 3px 1px rgba(0, 0, 0, 0.15);\n",
              "      filter: drop-shadow(0px 1px 2px rgba(0, 0, 0, 0.3));\n",
              "      fill: #FFFFFF;\n",
              "    }\n",
              "  </style>\n",
              "\n",
              "      <script>\n",
              "        const buttonEl =\n",
              "          document.querySelector('#df-d92a37bc-15bc-41b9-9a02-97681950cb0f button.colab-df-convert');\n",
              "        buttonEl.style.display =\n",
              "          google.colab.kernel.accessAllowed ? 'block' : 'none';\n",
              "\n",
              "        async function convertToInteractive(key) {\n",
              "          const element = document.querySelector('#df-d92a37bc-15bc-41b9-9a02-97681950cb0f');\n",
              "          const dataTable =\n",
              "            await google.colab.kernel.invokeFunction('convertToInteractive',\n",
              "                                                     [key], {});\n",
              "          if (!dataTable) return;\n",
              "\n",
              "          const docLinkHtml = 'Like what you see? Visit the ' +\n",
              "            '<a target=\"_blank\" href=https://colab.research.google.com/notebooks/data_table.ipynb>data table notebook</a>'\n",
              "            + ' to learn more about interactive tables.';\n",
              "          element.innerHTML = '';\n",
              "          dataTable['output_type'] = 'display_data';\n",
              "          await google.colab.output.renderOutput(dataTable, element);\n",
              "          const docLink = document.createElement('div');\n",
              "          docLink.innerHTML = docLinkHtml;\n",
              "          element.appendChild(docLink);\n",
              "        }\n",
              "      </script>\n",
              "    </div>\n",
              "  </div>\n",
              "  "
            ]
          },
          "metadata": {},
          "execution_count": 9
        }
      ],
      "source": [
        "df.describe(include='object')"
      ]
    },
    {
      "cell_type": "markdown",
      "metadata": {
        "id": "6XFMW9vBtFhW"
      },
      "source": [
        "Menampilkan nilai unik dari setiap kolom pada dataframe."
      ]
    },
    {
      "cell_type": "code",
      "execution_count": 10,
      "metadata": {
        "colab": {
          "base_uri": "https://localhost:8080/"
        },
        "id": "7Wz3HMkuHiEC",
        "outputId": "4883d0bd-114a-4248-8222-40db5347ad07"
      },
      "outputs": [
        {
          "output_type": "execute_result",
          "data": {
            "text/plain": [
              "Date             3436\n",
              "Location           49\n",
              "MinTemp           389\n",
              "MaxTemp           505\n",
              "Rainfall          681\n",
              "Evaporation       358\n",
              "Sunshine          145\n",
              "WindGustDir        16\n",
              "WindGustSpeed      67\n",
              "WindDir9am         16\n",
              "WindDir3pm         16\n",
              "WindSpeed9am       43\n",
              "WindSpeed3pm       44\n",
              "Humidity9am       101\n",
              "Humidity3pm       101\n",
              "Pressure9am       546\n",
              "Pressure3pm       549\n",
              "Cloud9am           10\n",
              "Cloud3pm           10\n",
              "Temp9am           441\n",
              "Temp3pm           502\n",
              "RainToday           2\n",
              "RainTomorrow        2\n",
              "dtype: int64"
            ]
          },
          "metadata": {},
          "execution_count": 10
        }
      ],
      "source": [
        "df.nunique()"
      ]
    },
    {
      "cell_type": "markdown",
      "metadata": {
        "id": "NWbj4hrGJHF2"
      },
      "source": [
        "Mengetahui dimensi data"
      ]
    },
    {
      "cell_type": "code",
      "execution_count": 11,
      "metadata": {
        "colab": {
          "base_uri": "https://localhost:8080/"
        },
        "id": "G1EkyLDXJFKN",
        "outputId": "ea7eafc8-49b1-400d-aad3-d37804cb641b"
      },
      "outputs": [
        {
          "output_type": "execute_result",
          "data": {
            "text/plain": [
              "(145460, 23)"
            ]
          },
          "metadata": {},
          "execution_count": 11
        }
      ],
      "source": [
        "df.shape"
      ]
    },
    {
      "cell_type": "markdown",
      "metadata": {
        "id": "ZpWr4V3htqt3"
      },
      "source": [
        "Mengetahui jumlah seluruh elemen yang ada di dataframe"
      ]
    },
    {
      "cell_type": "code",
      "execution_count": 12,
      "metadata": {
        "colab": {
          "base_uri": "https://localhost:8080/"
        },
        "id": "-GOv5y_vIU7h",
        "outputId": "3c54109e-491f-4807-e3b9-6621c1793b4a"
      },
      "outputs": [
        {
          "output_type": "execute_result",
          "data": {
            "text/plain": [
              "3345580"
            ]
          },
          "metadata": {},
          "execution_count": 12
        }
      ],
      "source": [
        "df.size"
      ]
    },
    {
      "cell_type": "markdown",
      "metadata": {
        "id": "emKnulwpudXN"
      },
      "source": [
        "# **D. Data Cleaning**\n"
      ]
    },
    {
      "cell_type": "markdown",
      "metadata": {
        "id": "SJxykb7EY93a"
      },
      "source": [
        "Bagian ini berisi proses penyiapan data berupa data cleaning sebelum dilakukan eksplorasi data lebih lanjut. Proses cleaning dapat berupa\n",
        "memberi nama baru untuk setiap kolom, mengisi missing values, menghapus kolom yang tidak dipakai, dan lain sebagainya.\n"
      ]
    },
    {
      "cell_type": "markdown",
      "metadata": {
        "id": "6ifgrPlLueJU"
      },
      "source": [
        "Menampilkan jumlah missing value"
      ]
    },
    {
      "cell_type": "code",
      "execution_count": 13,
      "metadata": {
        "colab": {
          "base_uri": "https://localhost:8080/"
        },
        "id": "lvc9jnE6I4QZ",
        "outputId": "f7eb7d90-7c22-4a06-f047-c0181898a00e"
      },
      "outputs": [
        {
          "output_type": "execute_result",
          "data": {
            "text/plain": [
              "343248"
            ]
          },
          "metadata": {},
          "execution_count": 13
        }
      ],
      "source": [
        "df.isnull().sum().sum()"
      ]
    },
    {
      "cell_type": "markdown",
      "metadata": {
        "id": "-sAEs1BYugAP"
      },
      "source": [
        "Menghapus missing value"
      ]
    },
    {
      "cell_type": "code",
      "execution_count": 14,
      "metadata": {
        "id": "NL5ywk34I9dt"
      },
      "outputs": [],
      "source": [
        "df.dropna(axis=0,inplace=True)"
      ]
    },
    {
      "cell_type": "markdown",
      "metadata": {
        "id": "-pit-ciRujV2"
      },
      "source": [
        "Menampilkan kembali jumlah missing value"
      ]
    },
    {
      "cell_type": "code",
      "execution_count": 15,
      "metadata": {
        "colab": {
          "base_uri": "https://localhost:8080/"
        },
        "id": "kHOsZKPIJAdZ",
        "outputId": "e21a3bc1-6fa2-4c9c-d323-47312c14bb54"
      },
      "outputs": [
        {
          "output_type": "execute_result",
          "data": {
            "text/plain": [
              "0"
            ]
          },
          "metadata": {},
          "execution_count": 15
        }
      ],
      "source": [
        "df.isnull().sum().sum()"
      ]
    },
    {
      "cell_type": "markdown",
      "metadata": {
        "id": "bud-p8yQulMe"
      },
      "source": [
        "Mencetak kembali dimensi data setelah menghapus missing value"
      ]
    },
    {
      "cell_type": "code",
      "execution_count": 16,
      "metadata": {
        "colab": {
          "base_uri": "https://localhost:8080/"
        },
        "id": "WAx76F6sJC1l",
        "outputId": "bd7e7986-b2f7-46a1-fb22-61edc8a113b6"
      },
      "outputs": [
        {
          "output_type": "execute_result",
          "data": {
            "text/plain": [
              "(56420, 23)"
            ]
          },
          "metadata": {},
          "execution_count": 16
        }
      ],
      "source": [
        "df.shape"
      ]
    },
    {
      "cell_type": "markdown",
      "metadata": {
        "id": "68NYn-vDYHWn"
      },
      "source": [
        "Memeriksa apakah terdapat duplikasi dalam data"
      ]
    },
    {
      "cell_type": "code",
      "execution_count": 17,
      "metadata": {
        "colab": {
          "base_uri": "https://localhost:8080/"
        },
        "id": "4CvcMnTpYCwn",
        "outputId": "1cc963c0-640c-447d-fc10-85a845847faa"
      },
      "outputs": [
        {
          "output_type": "execute_result",
          "data": {
            "text/plain": [
              "0"
            ]
          },
          "metadata": {},
          "execution_count": 17
        }
      ],
      "source": [
        "df.duplicated().sum()"
      ]
    },
    {
      "cell_type": "markdown",
      "metadata": {
        "id": "hYdM0nTtaL77"
      },
      "source": [
        "Memisahkan kolom kategorik dan numerik"
      ]
    },
    {
      "cell_type": "code",
      "execution_count": 18,
      "metadata": {
        "id": "okzz7EpUaNz9"
      },
      "outputs": [],
      "source": [
        "categorical = [cols for cols in df.columns if df[cols].dtypes=='object']\n",
        "numerical = [cols for cols in df.columns if df[cols].dtypes=='float64']"
      ]
    },
    {
      "cell_type": "markdown",
      "metadata": {
        "id": "5bufVo0WOxDW"
      },
      "source": [
        "Mengubah nilai data pada kolom Raintomorow dan Raintodday menjadi 0 (No) dan 1(Yes)"
      ]
    },
    {
      "cell_type": "code",
      "execution_count": 19,
      "metadata": {
        "id": "X0HbBzD2Oxvh"
      },
      "outputs": [],
      "source": [
        "df['RainTomorrow'] = df['RainTomorrow'].map({'Yes': 1, 'No': 0})\n",
        "df['RainToday'] = df['RainToday'].map({'Yes': 1, 'No': 0})"
      ]
    },
    {
      "cell_type": "markdown",
      "metadata": {
        "id": "d-bKwbNtaw6o"
      },
      "source": [
        "Mengubah format kolom Date menjadi datetime"
      ]
    },
    {
      "cell_type": "code",
      "execution_count": 20,
      "metadata": {
        "id": "UlspqFtVa0OM"
      },
      "outputs": [],
      "source": [
        "df[\"Date\"] = pd.to_datetime(df[\"Date\"])"
      ]
    },
    {
      "cell_type": "markdown",
      "metadata": {
        "id": "Awjp3MHPbD2L"
      },
      "source": [
        "Membuat kolom baru dari datetime yakni tahun, bulan, dan hari"
      ]
    },
    {
      "cell_type": "code",
      "execution_count": 21,
      "metadata": {
        "id": "wfHhy3paPPs2"
      },
      "outputs": [],
      "source": [
        "df[\"year\"] = df[\"Date\"].dt.year\n",
        "df[\"month\"] = df[\"Date\"].dt.month\n",
        "df[\"day\"] = df[\"Date\"].dt.day"
      ]
    },
    {
      "cell_type": "markdown",
      "metadata": {
        "id": "hZ_1Zh0LPcV5"
      },
      "source": [
        "Menampilkan informasi data terbaru"
      ]
    },
    {
      "cell_type": "code",
      "execution_count": 22,
      "metadata": {
        "colab": {
          "base_uri": "https://localhost:8080/"
        },
        "id": "SkSNrXWJPctv",
        "outputId": "78673d1c-999a-46e2-d3e0-3b63de28a053"
      },
      "outputs": [
        {
          "output_type": "stream",
          "name": "stdout",
          "text": [
            "<class 'pandas.core.frame.DataFrame'>\n",
            "Int64Index: 56420 entries, 6049 to 142302\n",
            "Data columns (total 26 columns):\n",
            " #   Column         Non-Null Count  Dtype         \n",
            "---  ------         --------------  -----         \n",
            " 0   Date           56420 non-null  datetime64[ns]\n",
            " 1   Location       56420 non-null  object        \n",
            " 2   MinTemp        56420 non-null  float64       \n",
            " 3   MaxTemp        56420 non-null  float64       \n",
            " 4   Rainfall       56420 non-null  float64       \n",
            " 5   Evaporation    56420 non-null  float64       \n",
            " 6   Sunshine       56420 non-null  float64       \n",
            " 7   WindGustDir    56420 non-null  object        \n",
            " 8   WindGustSpeed  56420 non-null  float64       \n",
            " 9   WindDir9am     56420 non-null  object        \n",
            " 10  WindDir3pm     56420 non-null  object        \n",
            " 11  WindSpeed9am   56420 non-null  float64       \n",
            " 12  WindSpeed3pm   56420 non-null  float64       \n",
            " 13  Humidity9am    56420 non-null  float64       \n",
            " 14  Humidity3pm    56420 non-null  float64       \n",
            " 15  Pressure9am    56420 non-null  float64       \n",
            " 16  Pressure3pm    56420 non-null  float64       \n",
            " 17  Cloud9am       56420 non-null  float64       \n",
            " 18  Cloud3pm       56420 non-null  float64       \n",
            " 19  Temp9am        56420 non-null  float64       \n",
            " 20  Temp3pm        56420 non-null  float64       \n",
            " 21  RainToday      56420 non-null  int64         \n",
            " 22  RainTomorrow   56420 non-null  int64         \n",
            " 23  year           56420 non-null  int64         \n",
            " 24  month          56420 non-null  int64         \n",
            " 25  day            56420 non-null  int64         \n",
            "dtypes: datetime64[ns](1), float64(16), int64(5), object(4)\n",
            "memory usage: 11.6+ MB\n"
          ]
        }
      ],
      "source": [
        "df.info()"
      ]
    },
    {
      "cell_type": "markdown",
      "metadata": {
        "id": "7n8Loozuun20"
      },
      "source": [
        "# **E. Explorasi Data**\n"
      ]
    },
    {
      "cell_type": "markdown",
      "metadata": {
        "id": "nKVIYoZ7un-c"
      },
      "source": [
        "## **Data Visualization**"
      ]
    },
    {
      "cell_type": "markdown",
      "metadata": {
        "id": "aK8l9aVxLVyi"
      },
      "source": [
        "Menghitung jumlah variasi data pada kolom RainTomorow"
      ]
    },
    {
      "cell_type": "code",
      "execution_count": 23,
      "metadata": {
        "colab": {
          "base_uri": "https://localhost:8080/"
        },
        "id": "i6ZJEadLLWQk",
        "outputId": "0e97215a-824d-49da-fc0a-ca0cbee0920f"
      },
      "outputs": [
        {
          "output_type": "execute_result",
          "data": {
            "text/plain": [
              "0    43993\n",
              "1    12427\n",
              "Name: RainTomorrow, dtype: int64"
            ]
          },
          "metadata": {},
          "execution_count": 23
        }
      ],
      "source": [
        "df['RainTomorrow'].value_counts()"
      ]
    },
    {
      "cell_type": "markdown",
      "metadata": {
        "id": "jECroDp7PAfh"
      },
      "source": [
        "Memvisualisasikan Data RainTomorrow"
      ]
    },
    {
      "cell_type": "code",
      "execution_count": 24,
      "metadata": {
        "colab": {
          "base_uri": "https://localhost:8080/",
          "height": 542
        },
        "id": "cNq3xV6JcA_f",
        "outputId": "8c2faa07-cc27-42c9-fc60-6f45ae444188"
      },
      "outputs": [
        {
          "output_type": "display_data",
          "data": {
            "text/html": [
              "<html>\n",
              "<head><meta charset=\"utf-8\" /></head>\n",
              "<body>\n",
              "    <div>            <script src=\"https://cdnjs.cloudflare.com/ajax/libs/mathjax/2.7.5/MathJax.js?config=TeX-AMS-MML_SVG\"></script><script type=\"text/javascript\">if (window.MathJax) {MathJax.Hub.Config({SVG: {font: \"STIX-Web\"}});}</script>                <script type=\"text/javascript\">window.PlotlyConfig = {MathJaxConfig: 'local'};</script>\n",
              "        <script src=\"https://cdn.plot.ly/plotly-2.8.3.min.js\"></script>                <div id=\"29235419-16fc-4166-9781-29361b69484b\" class=\"plotly-graph-div\" style=\"height:525px; width:100%;\"></div>            <script type=\"text/javascript\">                                    window.PLOTLYENV=window.PLOTLYENV || {};                                    if (document.getElementById(\"29235419-16fc-4166-9781-29361b69484b\")) {                    Plotly.newPlot(                        \"29235419-16fc-4166-9781-29361b69484b\",                        [{\"alignmentgroup\":\"True\",\"hovertemplate\":\"RainTomorrow=%{marker.color}<br>counts=%{y}<extra></extra>\",\"legendgroup\":\"\",\"marker\":{\"color\":[0,1],\"coloraxis\":\"coloraxis\",\"pattern\":{\"shape\":\"\"}},\"name\":\"\",\"offsetgroup\":\"\",\"orientation\":\"v\",\"showlegend\":false,\"textposition\":\"auto\",\"x\":[0,1],\"xaxis\":\"x\",\"y\":[43993,12427],\"yaxis\":\"y\",\"type\":\"bar\"}],                        {\"template\":{\"data\":{\"bar\":[{\"error_x\":{\"color\":\"#2a3f5f\"},\"error_y\":{\"color\":\"#2a3f5f\"},\"marker\":{\"line\":{\"color\":\"#E5ECF6\",\"width\":0.5},\"pattern\":{\"fillmode\":\"overlay\",\"size\":10,\"solidity\":0.2}},\"type\":\"bar\"}],\"barpolar\":[{\"marker\":{\"line\":{\"color\":\"#E5ECF6\",\"width\":0.5},\"pattern\":{\"fillmode\":\"overlay\",\"size\":10,\"solidity\":0.2}},\"type\":\"barpolar\"}],\"carpet\":[{\"aaxis\":{\"endlinecolor\":\"#2a3f5f\",\"gridcolor\":\"white\",\"linecolor\":\"white\",\"minorgridcolor\":\"white\",\"startlinecolor\":\"#2a3f5f\"},\"baxis\":{\"endlinecolor\":\"#2a3f5f\",\"gridcolor\":\"white\",\"linecolor\":\"white\",\"minorgridcolor\":\"white\",\"startlinecolor\":\"#2a3f5f\"},\"type\":\"carpet\"}],\"choropleth\":[{\"colorbar\":{\"outlinewidth\":0,\"ticks\":\"\"},\"type\":\"choropleth\"}],\"contour\":[{\"colorbar\":{\"outlinewidth\":0,\"ticks\":\"\"},\"colorscale\":[[0.0,\"#0d0887\"],[0.1111111111111111,\"#46039f\"],[0.2222222222222222,\"#7201a8\"],[0.3333333333333333,\"#9c179e\"],[0.4444444444444444,\"#bd3786\"],[0.5555555555555556,\"#d8576b\"],[0.6666666666666666,\"#ed7953\"],[0.7777777777777778,\"#fb9f3a\"],[0.8888888888888888,\"#fdca26\"],[1.0,\"#f0f921\"]],\"type\":\"contour\"}],\"contourcarpet\":[{\"colorbar\":{\"outlinewidth\":0,\"ticks\":\"\"},\"type\":\"contourcarpet\"}],\"heatmap\":[{\"colorbar\":{\"outlinewidth\":0,\"ticks\":\"\"},\"colorscale\":[[0.0,\"#0d0887\"],[0.1111111111111111,\"#46039f\"],[0.2222222222222222,\"#7201a8\"],[0.3333333333333333,\"#9c179e\"],[0.4444444444444444,\"#bd3786\"],[0.5555555555555556,\"#d8576b\"],[0.6666666666666666,\"#ed7953\"],[0.7777777777777778,\"#fb9f3a\"],[0.8888888888888888,\"#fdca26\"],[1.0,\"#f0f921\"]],\"type\":\"heatmap\"}],\"heatmapgl\":[{\"colorbar\":{\"outlinewidth\":0,\"ticks\":\"\"},\"colorscale\":[[0.0,\"#0d0887\"],[0.1111111111111111,\"#46039f\"],[0.2222222222222222,\"#7201a8\"],[0.3333333333333333,\"#9c179e\"],[0.4444444444444444,\"#bd3786\"],[0.5555555555555556,\"#d8576b\"],[0.6666666666666666,\"#ed7953\"],[0.7777777777777778,\"#fb9f3a\"],[0.8888888888888888,\"#fdca26\"],[1.0,\"#f0f921\"]],\"type\":\"heatmapgl\"}],\"histogram\":[{\"marker\":{\"pattern\":{\"fillmode\":\"overlay\",\"size\":10,\"solidity\":0.2}},\"type\":\"histogram\"}],\"histogram2d\":[{\"colorbar\":{\"outlinewidth\":0,\"ticks\":\"\"},\"colorscale\":[[0.0,\"#0d0887\"],[0.1111111111111111,\"#46039f\"],[0.2222222222222222,\"#7201a8\"],[0.3333333333333333,\"#9c179e\"],[0.4444444444444444,\"#bd3786\"],[0.5555555555555556,\"#d8576b\"],[0.6666666666666666,\"#ed7953\"],[0.7777777777777778,\"#fb9f3a\"],[0.8888888888888888,\"#fdca26\"],[1.0,\"#f0f921\"]],\"type\":\"histogram2d\"}],\"histogram2dcontour\":[{\"colorbar\":{\"outlinewidth\":0,\"ticks\":\"\"},\"colorscale\":[[0.0,\"#0d0887\"],[0.1111111111111111,\"#46039f\"],[0.2222222222222222,\"#7201a8\"],[0.3333333333333333,\"#9c179e\"],[0.4444444444444444,\"#bd3786\"],[0.5555555555555556,\"#d8576b\"],[0.6666666666666666,\"#ed7953\"],[0.7777777777777778,\"#fb9f3a\"],[0.8888888888888888,\"#fdca26\"],[1.0,\"#f0f921\"]],\"type\":\"histogram2dcontour\"}],\"mesh3d\":[{\"colorbar\":{\"outlinewidth\":0,\"ticks\":\"\"},\"type\":\"mesh3d\"}],\"parcoords\":[{\"line\":{\"colorbar\":{\"outlinewidth\":0,\"ticks\":\"\"}},\"type\":\"parcoords\"}],\"pie\":[{\"automargin\":true,\"type\":\"pie\"}],\"scatter\":[{\"marker\":{\"colorbar\":{\"outlinewidth\":0,\"ticks\":\"\"}},\"type\":\"scatter\"}],\"scatter3d\":[{\"line\":{\"colorbar\":{\"outlinewidth\":0,\"ticks\":\"\"}},\"marker\":{\"colorbar\":{\"outlinewidth\":0,\"ticks\":\"\"}},\"type\":\"scatter3d\"}],\"scattercarpet\":[{\"marker\":{\"colorbar\":{\"outlinewidth\":0,\"ticks\":\"\"}},\"type\":\"scattercarpet\"}],\"scattergeo\":[{\"marker\":{\"colorbar\":{\"outlinewidth\":0,\"ticks\":\"\"}},\"type\":\"scattergeo\"}],\"scattergl\":[{\"marker\":{\"colorbar\":{\"outlinewidth\":0,\"ticks\":\"\"}},\"type\":\"scattergl\"}],\"scattermapbox\":[{\"marker\":{\"colorbar\":{\"outlinewidth\":0,\"ticks\":\"\"}},\"type\":\"scattermapbox\"}],\"scatterpolar\":[{\"marker\":{\"colorbar\":{\"outlinewidth\":0,\"ticks\":\"\"}},\"type\":\"scatterpolar\"}],\"scatterpolargl\":[{\"marker\":{\"colorbar\":{\"outlinewidth\":0,\"ticks\":\"\"}},\"type\":\"scatterpolargl\"}],\"scatterternary\":[{\"marker\":{\"colorbar\":{\"outlinewidth\":0,\"ticks\":\"\"}},\"type\":\"scatterternary\"}],\"surface\":[{\"colorbar\":{\"outlinewidth\":0,\"ticks\":\"\"},\"colorscale\":[[0.0,\"#0d0887\"],[0.1111111111111111,\"#46039f\"],[0.2222222222222222,\"#7201a8\"],[0.3333333333333333,\"#9c179e\"],[0.4444444444444444,\"#bd3786\"],[0.5555555555555556,\"#d8576b\"],[0.6666666666666666,\"#ed7953\"],[0.7777777777777778,\"#fb9f3a\"],[0.8888888888888888,\"#fdca26\"],[1.0,\"#f0f921\"]],\"type\":\"surface\"}],\"table\":[{\"cells\":{\"fill\":{\"color\":\"#EBF0F8\"},\"line\":{\"color\":\"white\"}},\"header\":{\"fill\":{\"color\":\"#C8D4E3\"},\"line\":{\"color\":\"white\"}},\"type\":\"table\"}]},\"layout\":{\"annotationdefaults\":{\"arrowcolor\":\"#2a3f5f\",\"arrowhead\":0,\"arrowwidth\":1},\"autotypenumbers\":\"strict\",\"coloraxis\":{\"colorbar\":{\"outlinewidth\":0,\"ticks\":\"\"}},\"colorscale\":{\"diverging\":[[0,\"#8e0152\"],[0.1,\"#c51b7d\"],[0.2,\"#de77ae\"],[0.3,\"#f1b6da\"],[0.4,\"#fde0ef\"],[0.5,\"#f7f7f7\"],[0.6,\"#e6f5d0\"],[0.7,\"#b8e186\"],[0.8,\"#7fbc41\"],[0.9,\"#4d9221\"],[1,\"#276419\"]],\"sequential\":[[0.0,\"#0d0887\"],[0.1111111111111111,\"#46039f\"],[0.2222222222222222,\"#7201a8\"],[0.3333333333333333,\"#9c179e\"],[0.4444444444444444,\"#bd3786\"],[0.5555555555555556,\"#d8576b\"],[0.6666666666666666,\"#ed7953\"],[0.7777777777777778,\"#fb9f3a\"],[0.8888888888888888,\"#fdca26\"],[1.0,\"#f0f921\"]],\"sequentialminus\":[[0.0,\"#0d0887\"],[0.1111111111111111,\"#46039f\"],[0.2222222222222222,\"#7201a8\"],[0.3333333333333333,\"#9c179e\"],[0.4444444444444444,\"#bd3786\"],[0.5555555555555556,\"#d8576b\"],[0.6666666666666666,\"#ed7953\"],[0.7777777777777778,\"#fb9f3a\"],[0.8888888888888888,\"#fdca26\"],[1.0,\"#f0f921\"]]},\"colorway\":[\"#636efa\",\"#EF553B\",\"#00cc96\",\"#ab63fa\",\"#FFA15A\",\"#19d3f3\",\"#FF6692\",\"#B6E880\",\"#FF97FF\",\"#FECB52\"],\"font\":{\"color\":\"#2a3f5f\"},\"geo\":{\"bgcolor\":\"white\",\"lakecolor\":\"white\",\"landcolor\":\"#E5ECF6\",\"showlakes\":true,\"showland\":true,\"subunitcolor\":\"white\"},\"hoverlabel\":{\"align\":\"left\"},\"hovermode\":\"closest\",\"mapbox\":{\"style\":\"light\"},\"paper_bgcolor\":\"white\",\"plot_bgcolor\":\"#E5ECF6\",\"polar\":{\"angularaxis\":{\"gridcolor\":\"white\",\"linecolor\":\"white\",\"ticks\":\"\"},\"bgcolor\":\"#E5ECF6\",\"radialaxis\":{\"gridcolor\":\"white\",\"linecolor\":\"white\",\"ticks\":\"\"}},\"scene\":{\"xaxis\":{\"backgroundcolor\":\"#E5ECF6\",\"gridcolor\":\"white\",\"gridwidth\":2,\"linecolor\":\"white\",\"showbackground\":true,\"ticks\":\"\",\"zerolinecolor\":\"white\"},\"yaxis\":{\"backgroundcolor\":\"#E5ECF6\",\"gridcolor\":\"white\",\"gridwidth\":2,\"linecolor\":\"white\",\"showbackground\":true,\"ticks\":\"\",\"zerolinecolor\":\"white\"},\"zaxis\":{\"backgroundcolor\":\"#E5ECF6\",\"gridcolor\":\"white\",\"gridwidth\":2,\"linecolor\":\"white\",\"showbackground\":true,\"ticks\":\"\",\"zerolinecolor\":\"white\"}},\"shapedefaults\":{\"line\":{\"color\":\"#2a3f5f\"}},\"ternary\":{\"aaxis\":{\"gridcolor\":\"white\",\"linecolor\":\"white\",\"ticks\":\"\"},\"baxis\":{\"gridcolor\":\"white\",\"linecolor\":\"white\",\"ticks\":\"\"},\"bgcolor\":\"#E5ECF6\",\"caxis\":{\"gridcolor\":\"white\",\"linecolor\":\"white\",\"ticks\":\"\"}},\"title\":{\"x\":0.05},\"xaxis\":{\"automargin\":true,\"gridcolor\":\"white\",\"linecolor\":\"white\",\"ticks\":\"\",\"title\":{\"standoff\":15},\"zerolinecolor\":\"white\",\"zerolinewidth\":2},\"yaxis\":{\"automargin\":true,\"gridcolor\":\"white\",\"linecolor\":\"white\",\"ticks\":\"\",\"title\":{\"standoff\":15},\"zerolinecolor\":\"white\",\"zerolinewidth\":2}}},\"xaxis\":{\"anchor\":\"y\",\"domain\":[0.0,1.0],\"title\":{\"text\":\"RainTomorrow\"}},\"yaxis\":{\"anchor\":\"x\",\"domain\":[0.0,1.0],\"title\":{\"text\":\"counts\"}},\"coloraxis\":{\"colorbar\":{\"title\":{\"text\":\"RainTomorrow\"}},\"colorscale\":[[0.0,\"#0d0887\"],[0.1111111111111111,\"#46039f\"],[0.2222222222222222,\"#7201a8\"],[0.3333333333333333,\"#9c179e\"],[0.4444444444444444,\"#bd3786\"],[0.5555555555555556,\"#d8576b\"],[0.6666666666666666,\"#ed7953\"],[0.7777777777777778,\"#fb9f3a\"],[0.8888888888888888,\"#fdca26\"],[1.0,\"#f0f921\"]]},\"legend\":{\"tracegroupgap\":0},\"margin\":{\"t\":60},\"barmode\":\"group\"},                        {\"responsive\": true}                    ).then(function(){\n",
              "                            \n",
              "var gd = document.getElementById('29235419-16fc-4166-9781-29361b69484b');\n",
              "var x = new MutationObserver(function (mutations, observer) {{\n",
              "        var display = window.getComputedStyle(gd).display;\n",
              "        if (!display || display === 'none') {{\n",
              "            console.log([gd, 'removed!']);\n",
              "            Plotly.purge(gd);\n",
              "            observer.disconnect();\n",
              "        }}\n",
              "}});\n",
              "\n",
              "// Listen for the removal of the full notebook cells\n",
              "var notebookContainer = gd.closest('#notebook-container');\n",
              "if (notebookContainer) {{\n",
              "    x.observe(notebookContainer, {childList: true});\n",
              "}}\n",
              "\n",
              "// Listen for the clearing of the current output cell\n",
              "var outputEl = gd.closest('.output');\n",
              "if (outputEl) {{\n",
              "    x.observe(outputEl, {childList: true});\n",
              "}}\n",
              "\n",
              "                        })                };                            </script>        </div>\n",
              "</body>\n",
              "</html>"
            ]
          },
          "metadata": {}
        }
      ],
      "source": [
        "df_rain_tomorrow = df.groupby(by=[\"RainTomorrow\"]).size().reset_index(name=\"counts\")\n",
        "px.bar(data_frame=df_rain_tomorrow, x=\"RainTomorrow\", y=\"counts\", color=\"RainTomorrow\", barmode=\"group\")"
      ]
    },
    {
      "cell_type": "markdown",
      "metadata": {
        "id": "jhTJluS_TrkX"
      },
      "source": [
        "Dari Hasil visualisasi data pada kolom RainTomorow maka dapat diketahui bahwa nilai 0 lebih banyak daripada nilai 1. Artinya berdasarkan catatan kondisi cuaca pada dataset, jumlah hari yang tidak turun hujan  lebih banyak dibandingkan jumlah hari yang turun hujan."
      ]
    },
    {
      "cell_type": "markdown",
      "metadata": {
        "id": "B5Kx7ktzOE2_"
      },
      "source": [
        "Menghitung jumlah variasi data pada kolom Location"
      ]
    },
    {
      "cell_type": "code",
      "execution_count": 25,
      "metadata": {
        "colab": {
          "base_uri": "https://localhost:8080/"
        },
        "id": "jY6jVULLOAf3",
        "outputId": "19bbc4b1-3e83-449b-c04e-bd210cb69d8d"
      },
      "outputs": [
        {
          "output_type": "execute_result",
          "data": {
            "text/plain": [
              "Darwin              3062\n",
              "Perth               3025\n",
              "Brisbane            2953\n",
              "MelbourneAirport    2929\n",
              "PerthAirport        2913\n",
              "SydneyAirport       2870\n",
              "Watsonia            2730\n",
              "Mildura             2594\n",
              "MountGambier        2465\n",
              "NorfolkIsland       2464\n",
              "Cairns              2444\n",
              "Townsville          2419\n",
              "WaggaWagga          2416\n",
              "AliceSprings        2223\n",
              "Nuriootpa           2008\n",
              "Hobart              1939\n",
              "Moree               1913\n",
              "Melbourne           1898\n",
              "Portland            1863\n",
              "Woomera             1734\n",
              "Sydney              1690\n",
              "Sale                1678\n",
              "CoffsHarbour        1380\n",
              "Williamtown         1198\n",
              "Canberra            1078\n",
              "Cobar                534\n",
              "Name: Location, dtype: int64"
            ]
          },
          "metadata": {},
          "execution_count": 25
        }
      ],
      "source": [
        "df['Location'].value_counts()"
      ]
    },
    {
      "cell_type": "markdown",
      "metadata": {
        "id": "_hvVXxPqORJq"
      },
      "source": [
        "Memvisualisasikan Data Location"
      ]
    },
    {
      "cell_type": "code",
      "execution_count": 26,
      "metadata": {
        "id": "yxY6luzLdYdl",
        "colab": {
          "base_uri": "https://localhost:8080/",
          "height": 542
        },
        "outputId": "7b35d2fc-9ad0-4b28-b37c-dc00c93dbddb"
      },
      "outputs": [
        {
          "output_type": "display_data",
          "data": {
            "text/html": [
              "<html>\n",
              "<head><meta charset=\"utf-8\" /></head>\n",
              "<body>\n",
              "    <div>            <script src=\"https://cdnjs.cloudflare.com/ajax/libs/mathjax/2.7.5/MathJax.js?config=TeX-AMS-MML_SVG\"></script><script type=\"text/javascript\">if (window.MathJax) {MathJax.Hub.Config({SVG: {font: \"STIX-Web\"}});}</script>                <script type=\"text/javascript\">window.PlotlyConfig = {MathJaxConfig: 'local'};</script>\n",
              "        <script src=\"https://cdn.plot.ly/plotly-2.8.3.min.js\"></script>                <div id=\"ac7bfcbd-5055-43b1-af6e-a4bf4ebeace1\" class=\"plotly-graph-div\" style=\"height:525px; width:100%;\"></div>            <script type=\"text/javascript\">                                    window.PLOTLYENV=window.PLOTLYENV || {};                                    if (document.getElementById(\"ac7bfcbd-5055-43b1-af6e-a4bf4ebeace1\")) {                    Plotly.newPlot(                        \"ac7bfcbd-5055-43b1-af6e-a4bf4ebeace1\",                        [{\"alignmentgroup\":\"True\",\"hovertemplate\":\"Location=%{x}<br>counts=%{y}<extra></extra>\",\"legendgroup\":\"AliceSprings\",\"marker\":{\"color\":\"#636efa\",\"pattern\":{\"shape\":\"\"}},\"name\":\"AliceSprings\",\"offsetgroup\":\"AliceSprings\",\"orientation\":\"v\",\"showlegend\":true,\"textposition\":\"auto\",\"x\":[\"AliceSprings\"],\"xaxis\":\"x\",\"y\":[2223],\"yaxis\":\"y\",\"type\":\"bar\"},{\"alignmentgroup\":\"True\",\"hovertemplate\":\"Location=%{x}<br>counts=%{y}<extra></extra>\",\"legendgroup\":\"Brisbane\",\"marker\":{\"color\":\"#EF553B\",\"pattern\":{\"shape\":\"\"}},\"name\":\"Brisbane\",\"offsetgroup\":\"Brisbane\",\"orientation\":\"v\",\"showlegend\":true,\"textposition\":\"auto\",\"x\":[\"Brisbane\"],\"xaxis\":\"x\",\"y\":[2953],\"yaxis\":\"y\",\"type\":\"bar\"},{\"alignmentgroup\":\"True\",\"hovertemplate\":\"Location=%{x}<br>counts=%{y}<extra></extra>\",\"legendgroup\":\"Cairns\",\"marker\":{\"color\":\"#00cc96\",\"pattern\":{\"shape\":\"\"}},\"name\":\"Cairns\",\"offsetgroup\":\"Cairns\",\"orientation\":\"v\",\"showlegend\":true,\"textposition\":\"auto\",\"x\":[\"Cairns\"],\"xaxis\":\"x\",\"y\":[2444],\"yaxis\":\"y\",\"type\":\"bar\"},{\"alignmentgroup\":\"True\",\"hovertemplate\":\"Location=%{x}<br>counts=%{y}<extra></extra>\",\"legendgroup\":\"Canberra\",\"marker\":{\"color\":\"#ab63fa\",\"pattern\":{\"shape\":\"\"}},\"name\":\"Canberra\",\"offsetgroup\":\"Canberra\",\"orientation\":\"v\",\"showlegend\":true,\"textposition\":\"auto\",\"x\":[\"Canberra\"],\"xaxis\":\"x\",\"y\":[1078],\"yaxis\":\"y\",\"type\":\"bar\"},{\"alignmentgroup\":\"True\",\"hovertemplate\":\"Location=%{x}<br>counts=%{y}<extra></extra>\",\"legendgroup\":\"Cobar\",\"marker\":{\"color\":\"#FFA15A\",\"pattern\":{\"shape\":\"\"}},\"name\":\"Cobar\",\"offsetgroup\":\"Cobar\",\"orientation\":\"v\",\"showlegend\":true,\"textposition\":\"auto\",\"x\":[\"Cobar\"],\"xaxis\":\"x\",\"y\":[534],\"yaxis\":\"y\",\"type\":\"bar\"},{\"alignmentgroup\":\"True\",\"hovertemplate\":\"Location=%{x}<br>counts=%{y}<extra></extra>\",\"legendgroup\":\"CoffsHarbour\",\"marker\":{\"color\":\"#19d3f3\",\"pattern\":{\"shape\":\"\"}},\"name\":\"CoffsHarbour\",\"offsetgroup\":\"CoffsHarbour\",\"orientation\":\"v\",\"showlegend\":true,\"textposition\":\"auto\",\"x\":[\"CoffsHarbour\"],\"xaxis\":\"x\",\"y\":[1380],\"yaxis\":\"y\",\"type\":\"bar\"},{\"alignmentgroup\":\"True\",\"hovertemplate\":\"Location=%{x}<br>counts=%{y}<extra></extra>\",\"legendgroup\":\"Darwin\",\"marker\":{\"color\":\"#FF6692\",\"pattern\":{\"shape\":\"\"}},\"name\":\"Darwin\",\"offsetgroup\":\"Darwin\",\"orientation\":\"v\",\"showlegend\":true,\"textposition\":\"auto\",\"x\":[\"Darwin\"],\"xaxis\":\"x\",\"y\":[3062],\"yaxis\":\"y\",\"type\":\"bar\"},{\"alignmentgroup\":\"True\",\"hovertemplate\":\"Location=%{x}<br>counts=%{y}<extra></extra>\",\"legendgroup\":\"Hobart\",\"marker\":{\"color\":\"#B6E880\",\"pattern\":{\"shape\":\"\"}},\"name\":\"Hobart\",\"offsetgroup\":\"Hobart\",\"orientation\":\"v\",\"showlegend\":true,\"textposition\":\"auto\",\"x\":[\"Hobart\"],\"xaxis\":\"x\",\"y\":[1939],\"yaxis\":\"y\",\"type\":\"bar\"},{\"alignmentgroup\":\"True\",\"hovertemplate\":\"Location=%{x}<br>counts=%{y}<extra></extra>\",\"legendgroup\":\"Melbourne\",\"marker\":{\"color\":\"#FF97FF\",\"pattern\":{\"shape\":\"\"}},\"name\":\"Melbourne\",\"offsetgroup\":\"Melbourne\",\"orientation\":\"v\",\"showlegend\":true,\"textposition\":\"auto\",\"x\":[\"Melbourne\"],\"xaxis\":\"x\",\"y\":[1898],\"yaxis\":\"y\",\"type\":\"bar\"},{\"alignmentgroup\":\"True\",\"hovertemplate\":\"Location=%{x}<br>counts=%{y}<extra></extra>\",\"legendgroup\":\"MelbourneAirport\",\"marker\":{\"color\":\"#FECB52\",\"pattern\":{\"shape\":\"\"}},\"name\":\"MelbourneAirport\",\"offsetgroup\":\"MelbourneAirport\",\"orientation\":\"v\",\"showlegend\":true,\"textposition\":\"auto\",\"x\":[\"MelbourneAirport\"],\"xaxis\":\"x\",\"y\":[2929],\"yaxis\":\"y\",\"type\":\"bar\"},{\"alignmentgroup\":\"True\",\"hovertemplate\":\"Location=%{x}<br>counts=%{y}<extra></extra>\",\"legendgroup\":\"Mildura\",\"marker\":{\"color\":\"#636efa\",\"pattern\":{\"shape\":\"\"}},\"name\":\"Mildura\",\"offsetgroup\":\"Mildura\",\"orientation\":\"v\",\"showlegend\":true,\"textposition\":\"auto\",\"x\":[\"Mildura\"],\"xaxis\":\"x\",\"y\":[2594],\"yaxis\":\"y\",\"type\":\"bar\"},{\"alignmentgroup\":\"True\",\"hovertemplate\":\"Location=%{x}<br>counts=%{y}<extra></extra>\",\"legendgroup\":\"Moree\",\"marker\":{\"color\":\"#EF553B\",\"pattern\":{\"shape\":\"\"}},\"name\":\"Moree\",\"offsetgroup\":\"Moree\",\"orientation\":\"v\",\"showlegend\":true,\"textposition\":\"auto\",\"x\":[\"Moree\"],\"xaxis\":\"x\",\"y\":[1913],\"yaxis\":\"y\",\"type\":\"bar\"},{\"alignmentgroup\":\"True\",\"hovertemplate\":\"Location=%{x}<br>counts=%{y}<extra></extra>\",\"legendgroup\":\"MountGambier\",\"marker\":{\"color\":\"#00cc96\",\"pattern\":{\"shape\":\"\"}},\"name\":\"MountGambier\",\"offsetgroup\":\"MountGambier\",\"orientation\":\"v\",\"showlegend\":true,\"textposition\":\"auto\",\"x\":[\"MountGambier\"],\"xaxis\":\"x\",\"y\":[2465],\"yaxis\":\"y\",\"type\":\"bar\"},{\"alignmentgroup\":\"True\",\"hovertemplate\":\"Location=%{x}<br>counts=%{y}<extra></extra>\",\"legendgroup\":\"NorfolkIsland\",\"marker\":{\"color\":\"#ab63fa\",\"pattern\":{\"shape\":\"\"}},\"name\":\"NorfolkIsland\",\"offsetgroup\":\"NorfolkIsland\",\"orientation\":\"v\",\"showlegend\":true,\"textposition\":\"auto\",\"x\":[\"NorfolkIsland\"],\"xaxis\":\"x\",\"y\":[2464],\"yaxis\":\"y\",\"type\":\"bar\"},{\"alignmentgroup\":\"True\",\"hovertemplate\":\"Location=%{x}<br>counts=%{y}<extra></extra>\",\"legendgroup\":\"Nuriootpa\",\"marker\":{\"color\":\"#FFA15A\",\"pattern\":{\"shape\":\"\"}},\"name\":\"Nuriootpa\",\"offsetgroup\":\"Nuriootpa\",\"orientation\":\"v\",\"showlegend\":true,\"textposition\":\"auto\",\"x\":[\"Nuriootpa\"],\"xaxis\":\"x\",\"y\":[2008],\"yaxis\":\"y\",\"type\":\"bar\"},{\"alignmentgroup\":\"True\",\"hovertemplate\":\"Location=%{x}<br>counts=%{y}<extra></extra>\",\"legendgroup\":\"Perth\",\"marker\":{\"color\":\"#19d3f3\",\"pattern\":{\"shape\":\"\"}},\"name\":\"Perth\",\"offsetgroup\":\"Perth\",\"orientation\":\"v\",\"showlegend\":true,\"textposition\":\"auto\",\"x\":[\"Perth\"],\"xaxis\":\"x\",\"y\":[3025],\"yaxis\":\"y\",\"type\":\"bar\"},{\"alignmentgroup\":\"True\",\"hovertemplate\":\"Location=%{x}<br>counts=%{y}<extra></extra>\",\"legendgroup\":\"PerthAirport\",\"marker\":{\"color\":\"#FF6692\",\"pattern\":{\"shape\":\"\"}},\"name\":\"PerthAirport\",\"offsetgroup\":\"PerthAirport\",\"orientation\":\"v\",\"showlegend\":true,\"textposition\":\"auto\",\"x\":[\"PerthAirport\"],\"xaxis\":\"x\",\"y\":[2913],\"yaxis\":\"y\",\"type\":\"bar\"},{\"alignmentgroup\":\"True\",\"hovertemplate\":\"Location=%{x}<br>counts=%{y}<extra></extra>\",\"legendgroup\":\"Portland\",\"marker\":{\"color\":\"#B6E880\",\"pattern\":{\"shape\":\"\"}},\"name\":\"Portland\",\"offsetgroup\":\"Portland\",\"orientation\":\"v\",\"showlegend\":true,\"textposition\":\"auto\",\"x\":[\"Portland\"],\"xaxis\":\"x\",\"y\":[1863],\"yaxis\":\"y\",\"type\":\"bar\"},{\"alignmentgroup\":\"True\",\"hovertemplate\":\"Location=%{x}<br>counts=%{y}<extra></extra>\",\"legendgroup\":\"Sale\",\"marker\":{\"color\":\"#FF97FF\",\"pattern\":{\"shape\":\"\"}},\"name\":\"Sale\",\"offsetgroup\":\"Sale\",\"orientation\":\"v\",\"showlegend\":true,\"textposition\":\"auto\",\"x\":[\"Sale\"],\"xaxis\":\"x\",\"y\":[1678],\"yaxis\":\"y\",\"type\":\"bar\"},{\"alignmentgroup\":\"True\",\"hovertemplate\":\"Location=%{x}<br>counts=%{y}<extra></extra>\",\"legendgroup\":\"Sydney\",\"marker\":{\"color\":\"#FECB52\",\"pattern\":{\"shape\":\"\"}},\"name\":\"Sydney\",\"offsetgroup\":\"Sydney\",\"orientation\":\"v\",\"showlegend\":true,\"textposition\":\"auto\",\"x\":[\"Sydney\"],\"xaxis\":\"x\",\"y\":[1690],\"yaxis\":\"y\",\"type\":\"bar\"},{\"alignmentgroup\":\"True\",\"hovertemplate\":\"Location=%{x}<br>counts=%{y}<extra></extra>\",\"legendgroup\":\"SydneyAirport\",\"marker\":{\"color\":\"#636efa\",\"pattern\":{\"shape\":\"\"}},\"name\":\"SydneyAirport\",\"offsetgroup\":\"SydneyAirport\",\"orientation\":\"v\",\"showlegend\":true,\"textposition\":\"auto\",\"x\":[\"SydneyAirport\"],\"xaxis\":\"x\",\"y\":[2870],\"yaxis\":\"y\",\"type\":\"bar\"},{\"alignmentgroup\":\"True\",\"hovertemplate\":\"Location=%{x}<br>counts=%{y}<extra></extra>\",\"legendgroup\":\"Townsville\",\"marker\":{\"color\":\"#EF553B\",\"pattern\":{\"shape\":\"\"}},\"name\":\"Townsville\",\"offsetgroup\":\"Townsville\",\"orientation\":\"v\",\"showlegend\":true,\"textposition\":\"auto\",\"x\":[\"Townsville\"],\"xaxis\":\"x\",\"y\":[2419],\"yaxis\":\"y\",\"type\":\"bar\"},{\"alignmentgroup\":\"True\",\"hovertemplate\":\"Location=%{x}<br>counts=%{y}<extra></extra>\",\"legendgroup\":\"WaggaWagga\",\"marker\":{\"color\":\"#00cc96\",\"pattern\":{\"shape\":\"\"}},\"name\":\"WaggaWagga\",\"offsetgroup\":\"WaggaWagga\",\"orientation\":\"v\",\"showlegend\":true,\"textposition\":\"auto\",\"x\":[\"WaggaWagga\"],\"xaxis\":\"x\",\"y\":[2416],\"yaxis\":\"y\",\"type\":\"bar\"},{\"alignmentgroup\":\"True\",\"hovertemplate\":\"Location=%{x}<br>counts=%{y}<extra></extra>\",\"legendgroup\":\"Watsonia\",\"marker\":{\"color\":\"#ab63fa\",\"pattern\":{\"shape\":\"\"}},\"name\":\"Watsonia\",\"offsetgroup\":\"Watsonia\",\"orientation\":\"v\",\"showlegend\":true,\"textposition\":\"auto\",\"x\":[\"Watsonia\"],\"xaxis\":\"x\",\"y\":[2730],\"yaxis\":\"y\",\"type\":\"bar\"},{\"alignmentgroup\":\"True\",\"hovertemplate\":\"Location=%{x}<br>counts=%{y}<extra></extra>\",\"legendgroup\":\"Williamtown\",\"marker\":{\"color\":\"#FFA15A\",\"pattern\":{\"shape\":\"\"}},\"name\":\"Williamtown\",\"offsetgroup\":\"Williamtown\",\"orientation\":\"v\",\"showlegend\":true,\"textposition\":\"auto\",\"x\":[\"Williamtown\"],\"xaxis\":\"x\",\"y\":[1198],\"yaxis\":\"y\",\"type\":\"bar\"},{\"alignmentgroup\":\"True\",\"hovertemplate\":\"Location=%{x}<br>counts=%{y}<extra></extra>\",\"legendgroup\":\"Woomera\",\"marker\":{\"color\":\"#19d3f3\",\"pattern\":{\"shape\":\"\"}},\"name\":\"Woomera\",\"offsetgroup\":\"Woomera\",\"orientation\":\"v\",\"showlegend\":true,\"textposition\":\"auto\",\"x\":[\"Woomera\"],\"xaxis\":\"x\",\"y\":[1734],\"yaxis\":\"y\",\"type\":\"bar\"}],                        {\"template\":{\"data\":{\"bar\":[{\"error_x\":{\"color\":\"#2a3f5f\"},\"error_y\":{\"color\":\"#2a3f5f\"},\"marker\":{\"line\":{\"color\":\"#E5ECF6\",\"width\":0.5},\"pattern\":{\"fillmode\":\"overlay\",\"size\":10,\"solidity\":0.2}},\"type\":\"bar\"}],\"barpolar\":[{\"marker\":{\"line\":{\"color\":\"#E5ECF6\",\"width\":0.5},\"pattern\":{\"fillmode\":\"overlay\",\"size\":10,\"solidity\":0.2}},\"type\":\"barpolar\"}],\"carpet\":[{\"aaxis\":{\"endlinecolor\":\"#2a3f5f\",\"gridcolor\":\"white\",\"linecolor\":\"white\",\"minorgridcolor\":\"white\",\"startlinecolor\":\"#2a3f5f\"},\"baxis\":{\"endlinecolor\":\"#2a3f5f\",\"gridcolor\":\"white\",\"linecolor\":\"white\",\"minorgridcolor\":\"white\",\"startlinecolor\":\"#2a3f5f\"},\"type\":\"carpet\"}],\"choropleth\":[{\"colorbar\":{\"outlinewidth\":0,\"ticks\":\"\"},\"type\":\"choropleth\"}],\"contour\":[{\"colorbar\":{\"outlinewidth\":0,\"ticks\":\"\"},\"colorscale\":[[0.0,\"#0d0887\"],[0.1111111111111111,\"#46039f\"],[0.2222222222222222,\"#7201a8\"],[0.3333333333333333,\"#9c179e\"],[0.4444444444444444,\"#bd3786\"],[0.5555555555555556,\"#d8576b\"],[0.6666666666666666,\"#ed7953\"],[0.7777777777777778,\"#fb9f3a\"],[0.8888888888888888,\"#fdca26\"],[1.0,\"#f0f921\"]],\"type\":\"contour\"}],\"contourcarpet\":[{\"colorbar\":{\"outlinewidth\":0,\"ticks\":\"\"},\"type\":\"contourcarpet\"}],\"heatmap\":[{\"colorbar\":{\"outlinewidth\":0,\"ticks\":\"\"},\"colorscale\":[[0.0,\"#0d0887\"],[0.1111111111111111,\"#46039f\"],[0.2222222222222222,\"#7201a8\"],[0.3333333333333333,\"#9c179e\"],[0.4444444444444444,\"#bd3786\"],[0.5555555555555556,\"#d8576b\"],[0.6666666666666666,\"#ed7953\"],[0.7777777777777778,\"#fb9f3a\"],[0.8888888888888888,\"#fdca26\"],[1.0,\"#f0f921\"]],\"type\":\"heatmap\"}],\"heatmapgl\":[{\"colorbar\":{\"outlinewidth\":0,\"ticks\":\"\"},\"colorscale\":[[0.0,\"#0d0887\"],[0.1111111111111111,\"#46039f\"],[0.2222222222222222,\"#7201a8\"],[0.3333333333333333,\"#9c179e\"],[0.4444444444444444,\"#bd3786\"],[0.5555555555555556,\"#d8576b\"],[0.6666666666666666,\"#ed7953\"],[0.7777777777777778,\"#fb9f3a\"],[0.8888888888888888,\"#fdca26\"],[1.0,\"#f0f921\"]],\"type\":\"heatmapgl\"}],\"histogram\":[{\"marker\":{\"pattern\":{\"fillmode\":\"overlay\",\"size\":10,\"solidity\":0.2}},\"type\":\"histogram\"}],\"histogram2d\":[{\"colorbar\":{\"outlinewidth\":0,\"ticks\":\"\"},\"colorscale\":[[0.0,\"#0d0887\"],[0.1111111111111111,\"#46039f\"],[0.2222222222222222,\"#7201a8\"],[0.3333333333333333,\"#9c179e\"],[0.4444444444444444,\"#bd3786\"],[0.5555555555555556,\"#d8576b\"],[0.6666666666666666,\"#ed7953\"],[0.7777777777777778,\"#fb9f3a\"],[0.8888888888888888,\"#fdca26\"],[1.0,\"#f0f921\"]],\"type\":\"histogram2d\"}],\"histogram2dcontour\":[{\"colorbar\":{\"outlinewidth\":0,\"ticks\":\"\"},\"colorscale\":[[0.0,\"#0d0887\"],[0.1111111111111111,\"#46039f\"],[0.2222222222222222,\"#7201a8\"],[0.3333333333333333,\"#9c179e\"],[0.4444444444444444,\"#bd3786\"],[0.5555555555555556,\"#d8576b\"],[0.6666666666666666,\"#ed7953\"],[0.7777777777777778,\"#fb9f3a\"],[0.8888888888888888,\"#fdca26\"],[1.0,\"#f0f921\"]],\"type\":\"histogram2dcontour\"}],\"mesh3d\":[{\"colorbar\":{\"outlinewidth\":0,\"ticks\":\"\"},\"type\":\"mesh3d\"}],\"parcoords\":[{\"line\":{\"colorbar\":{\"outlinewidth\":0,\"ticks\":\"\"}},\"type\":\"parcoords\"}],\"pie\":[{\"automargin\":true,\"type\":\"pie\"}],\"scatter\":[{\"marker\":{\"colorbar\":{\"outlinewidth\":0,\"ticks\":\"\"}},\"type\":\"scatter\"}],\"scatter3d\":[{\"line\":{\"colorbar\":{\"outlinewidth\":0,\"ticks\":\"\"}},\"marker\":{\"colorbar\":{\"outlinewidth\":0,\"ticks\":\"\"}},\"type\":\"scatter3d\"}],\"scattercarpet\":[{\"marker\":{\"colorbar\":{\"outlinewidth\":0,\"ticks\":\"\"}},\"type\":\"scattercarpet\"}],\"scattergeo\":[{\"marker\":{\"colorbar\":{\"outlinewidth\":0,\"ticks\":\"\"}},\"type\":\"scattergeo\"}],\"scattergl\":[{\"marker\":{\"colorbar\":{\"outlinewidth\":0,\"ticks\":\"\"}},\"type\":\"scattergl\"}],\"scattermapbox\":[{\"marker\":{\"colorbar\":{\"outlinewidth\":0,\"ticks\":\"\"}},\"type\":\"scattermapbox\"}],\"scatterpolar\":[{\"marker\":{\"colorbar\":{\"outlinewidth\":0,\"ticks\":\"\"}},\"type\":\"scatterpolar\"}],\"scatterpolargl\":[{\"marker\":{\"colorbar\":{\"outlinewidth\":0,\"ticks\":\"\"}},\"type\":\"scatterpolargl\"}],\"scatterternary\":[{\"marker\":{\"colorbar\":{\"outlinewidth\":0,\"ticks\":\"\"}},\"type\":\"scatterternary\"}],\"surface\":[{\"colorbar\":{\"outlinewidth\":0,\"ticks\":\"\"},\"colorscale\":[[0.0,\"#0d0887\"],[0.1111111111111111,\"#46039f\"],[0.2222222222222222,\"#7201a8\"],[0.3333333333333333,\"#9c179e\"],[0.4444444444444444,\"#bd3786\"],[0.5555555555555556,\"#d8576b\"],[0.6666666666666666,\"#ed7953\"],[0.7777777777777778,\"#fb9f3a\"],[0.8888888888888888,\"#fdca26\"],[1.0,\"#f0f921\"]],\"type\":\"surface\"}],\"table\":[{\"cells\":{\"fill\":{\"color\":\"#EBF0F8\"},\"line\":{\"color\":\"white\"}},\"header\":{\"fill\":{\"color\":\"#C8D4E3\"},\"line\":{\"color\":\"white\"}},\"type\":\"table\"}]},\"layout\":{\"annotationdefaults\":{\"arrowcolor\":\"#2a3f5f\",\"arrowhead\":0,\"arrowwidth\":1},\"autotypenumbers\":\"strict\",\"coloraxis\":{\"colorbar\":{\"outlinewidth\":0,\"ticks\":\"\"}},\"colorscale\":{\"diverging\":[[0,\"#8e0152\"],[0.1,\"#c51b7d\"],[0.2,\"#de77ae\"],[0.3,\"#f1b6da\"],[0.4,\"#fde0ef\"],[0.5,\"#f7f7f7\"],[0.6,\"#e6f5d0\"],[0.7,\"#b8e186\"],[0.8,\"#7fbc41\"],[0.9,\"#4d9221\"],[1,\"#276419\"]],\"sequential\":[[0.0,\"#0d0887\"],[0.1111111111111111,\"#46039f\"],[0.2222222222222222,\"#7201a8\"],[0.3333333333333333,\"#9c179e\"],[0.4444444444444444,\"#bd3786\"],[0.5555555555555556,\"#d8576b\"],[0.6666666666666666,\"#ed7953\"],[0.7777777777777778,\"#fb9f3a\"],[0.8888888888888888,\"#fdca26\"],[1.0,\"#f0f921\"]],\"sequentialminus\":[[0.0,\"#0d0887\"],[0.1111111111111111,\"#46039f\"],[0.2222222222222222,\"#7201a8\"],[0.3333333333333333,\"#9c179e\"],[0.4444444444444444,\"#bd3786\"],[0.5555555555555556,\"#d8576b\"],[0.6666666666666666,\"#ed7953\"],[0.7777777777777778,\"#fb9f3a\"],[0.8888888888888888,\"#fdca26\"],[1.0,\"#f0f921\"]]},\"colorway\":[\"#636efa\",\"#EF553B\",\"#00cc96\",\"#ab63fa\",\"#FFA15A\",\"#19d3f3\",\"#FF6692\",\"#B6E880\",\"#FF97FF\",\"#FECB52\"],\"font\":{\"color\":\"#2a3f5f\"},\"geo\":{\"bgcolor\":\"white\",\"lakecolor\":\"white\",\"landcolor\":\"#E5ECF6\",\"showlakes\":true,\"showland\":true,\"subunitcolor\":\"white\"},\"hoverlabel\":{\"align\":\"left\"},\"hovermode\":\"closest\",\"mapbox\":{\"style\":\"light\"},\"paper_bgcolor\":\"white\",\"plot_bgcolor\":\"#E5ECF6\",\"polar\":{\"angularaxis\":{\"gridcolor\":\"white\",\"linecolor\":\"white\",\"ticks\":\"\"},\"bgcolor\":\"#E5ECF6\",\"radialaxis\":{\"gridcolor\":\"white\",\"linecolor\":\"white\",\"ticks\":\"\"}},\"scene\":{\"xaxis\":{\"backgroundcolor\":\"#E5ECF6\",\"gridcolor\":\"white\",\"gridwidth\":2,\"linecolor\":\"white\",\"showbackground\":true,\"ticks\":\"\",\"zerolinecolor\":\"white\"},\"yaxis\":{\"backgroundcolor\":\"#E5ECF6\",\"gridcolor\":\"white\",\"gridwidth\":2,\"linecolor\":\"white\",\"showbackground\":true,\"ticks\":\"\",\"zerolinecolor\":\"white\"},\"zaxis\":{\"backgroundcolor\":\"#E5ECF6\",\"gridcolor\":\"white\",\"gridwidth\":2,\"linecolor\":\"white\",\"showbackground\":true,\"ticks\":\"\",\"zerolinecolor\":\"white\"}},\"shapedefaults\":{\"line\":{\"color\":\"#2a3f5f\"}},\"ternary\":{\"aaxis\":{\"gridcolor\":\"white\",\"linecolor\":\"white\",\"ticks\":\"\"},\"baxis\":{\"gridcolor\":\"white\",\"linecolor\":\"white\",\"ticks\":\"\"},\"bgcolor\":\"#E5ECF6\",\"caxis\":{\"gridcolor\":\"white\",\"linecolor\":\"white\",\"ticks\":\"\"}},\"title\":{\"x\":0.05},\"xaxis\":{\"automargin\":true,\"gridcolor\":\"white\",\"linecolor\":\"white\",\"ticks\":\"\",\"title\":{\"standoff\":15},\"zerolinecolor\":\"white\",\"zerolinewidth\":2},\"yaxis\":{\"automargin\":true,\"gridcolor\":\"white\",\"linecolor\":\"white\",\"ticks\":\"\",\"title\":{\"standoff\":15},\"zerolinecolor\":\"white\",\"zerolinewidth\":2}}},\"xaxis\":{\"anchor\":\"y\",\"domain\":[0.0,1.0],\"title\":{\"text\":\"Location\"},\"categoryorder\":\"array\",\"categoryarray\":[\"AliceSprings\",\"Brisbane\",\"Cairns\",\"Canberra\",\"Cobar\",\"CoffsHarbour\",\"Darwin\",\"Hobart\",\"Melbourne\",\"MelbourneAirport\",\"Mildura\",\"Moree\",\"MountGambier\",\"NorfolkIsland\",\"Nuriootpa\",\"Perth\",\"PerthAirport\",\"Portland\",\"Sale\",\"Sydney\",\"SydneyAirport\",\"Townsville\",\"WaggaWagga\",\"Watsonia\",\"Williamtown\",\"Woomera\"]},\"yaxis\":{\"anchor\":\"x\",\"domain\":[0.0,1.0],\"title\":{\"text\":\"counts\"}},\"legend\":{\"title\":{\"text\":\"Location\"},\"tracegroupgap\":0},\"margin\":{\"t\":60},\"barmode\":\"group\"},                        {\"responsive\": true}                    ).then(function(){\n",
              "                            \n",
              "var gd = document.getElementById('ac7bfcbd-5055-43b1-af6e-a4bf4ebeace1');\n",
              "var x = new MutationObserver(function (mutations, observer) {{\n",
              "        var display = window.getComputedStyle(gd).display;\n",
              "        if (!display || display === 'none') {{\n",
              "            console.log([gd, 'removed!']);\n",
              "            Plotly.purge(gd);\n",
              "            observer.disconnect();\n",
              "        }}\n",
              "}});\n",
              "\n",
              "// Listen for the removal of the full notebook cells\n",
              "var notebookContainer = gd.closest('#notebook-container');\n",
              "if (notebookContainer) {{\n",
              "    x.observe(notebookContainer, {childList: true});\n",
              "}}\n",
              "\n",
              "// Listen for the clearing of the current output cell\n",
              "var outputEl = gd.closest('.output');\n",
              "if (outputEl) {{\n",
              "    x.observe(outputEl, {childList: true});\n",
              "}}\n",
              "\n",
              "                        })                };                            </script>        </div>\n",
              "</body>\n",
              "</html>"
            ]
          },
          "metadata": {}
        }
      ],
      "source": [
        "df_location = df.groupby(by=[\"Location\"]).size().reset_index(name=\"counts\")\n",
        "px.bar(data_frame=df_location, x=\"Location\", y=\"counts\", color=\"Location\", barmode=\"group\")"
      ]
    },
    {
      "cell_type": "markdown",
      "metadata": {
        "id": "by1KynJ3Tg75"
      },
      "source": [
        "Dari Hasil visualisasi data pada kolom Location maka dapat diketahui bahwa dilakukan pengambilan data terbanyak pada daerah Darwin dan tersedikit pada daerah Cobar."
      ]
    },
    {
      "cell_type": "markdown",
      "metadata": {
        "id": "BETLVcH-VBjL"
      },
      "source": [
        "**Memvisualisasikan Statistik dan Distribusi Data menggunakan Histogram.**"
      ]
    },
    {
      "cell_type": "code",
      "execution_count": 27,
      "metadata": {
        "colab": {
          "base_uri": "https://localhost:8080/",
          "height": 1000
        },
        "id": "K90u5CODVATN",
        "outputId": "0c72d0ef-5a59-4458-ad43-70afb5efc60e"
      },
      "outputs": [
        {
          "output_type": "display_data",
          "data": {
            "text/plain": [
              "<Figure size 1440x1440 with 25 Axes>"
            ],
            "image/png": "[encoded data removed]"
          },
          "metadata": {
            "needs_background": "light"
          }
        }
      ],
      "source": [
        "df.hist(figsize=(20, 20))\n",
        "plt.show()"
      ]
    },
    {
      "cell_type": "markdown",
      "metadata": {
        "id": "C1s5S-wQVIOn"
      },
      "source": [
        "Berdasarkan plot histogram di atas, dapat diketahui bahwa:\n",
        "\n",
        "1. Kolom MinTemp dan MaxTemp memiliki distribusi data yang sama.\n",
        "2. Kolom WindGust3pm memiliki nilai rata-rata lebih besar dibanding dengan kolom WindGust9am, artinya kecepatan angin pada waktu sore cenderung lebih tinggi.\n",
        "3. Kolom Humidity9am memiliki nilai rata-rata lebih besar dibanding Humidity3pm. Artinya, persentase humiditas pada waktu pagi lebih tinggi dibanding dengan waktu sore.\n",
        "4. Kolom Pressure9am dan Pressure3pm memiliki nilai rata-rata dan median yang tidak berbeda jauh. Artinya, tekanan udara pada saat pagi maupun sore tidak terjadi perubahan yang signifikan.\n",
        "5. Kolom Cloud9am dengan Cloud3pm memiliki nilai rata-rata dan median yang tidak berbeda jauh.  Artinya, persentase langit yang tertutup awan pada waktu pagi dan sore tidak mengalami perubahan yang signifikan.\n",
        "6. Kolom Temp3pm memiliki nilai rata-rata lebih besar dibanding Temp9am. Artinya,temperatur pada sore hari cenderung lebih tinggi dibanding pada pagi hari. "
      ]
    },
    {
      "cell_type": "markdown",
      "metadata": {
        "id": "LKbdFuImVaiS"
      },
      "source": [
        "**Memvisualisasikan Distribusi data menggunakan plot histogram pada kolom Location berdasarkan kolom RainToday sehingga dapat diketahui apakah perbedaan lokasi atau daerah mempengaruhi turunnya hujan atau tidak.**"
      ]
    },
    {
      "cell_type": "code",
      "execution_count": 28,
      "metadata": {
        "colab": {
          "base_uri": "https://localhost:8080/",
          "height": 873
        },
        "id": "RxTofoZ3VcVj",
        "outputId": "4f2de963-6fcb-42bd-964b-0b71f258b3fb"
      },
      "outputs": [
        {
          "output_type": "display_data",
          "data": {
            "text/plain": [
              "<Figure size 576x864 with 1 Axes>"
            ],
            "image/png": "[encoded data removed]"
          },
          "metadata": {
            "needs_background": "light"
          }
        }
      ],
      "source": [
        "df_rain_by_loc = df.groupby(by='Location').sum()\n",
        "df_rain_by_loc = df_rain_by_loc[['RainToday']]\n",
        "df_rain_by_loc.head()\n",
        "\n",
        "plt.figure(figsize=(8, 12))\n",
        "sns.barplot(x='RainToday', \n",
        "            y=df_rain_by_loc.index, \n",
        "            data=df_rain_by_loc.sort_values('RainToday', ascending=False), \n",
        "            orient='h',\n",
        "            palette='viridis'\n",
        "           )\n",
        "plt.xlabel('Jumlah Hari Terjadinya Hujan')\n",
        "plt.title('Jumlah Hari Terjadinya Hujan Berdasarkan Lokasi')\n",
        "plt.tight_layout()"
      ]
    },
    {
      "cell_type": "markdown",
      "metadata": {
        "id": "BP_Jl9CqWLR2"
      },
      "source": [
        "Berdasarkan plot di atas, diketahui bahwa setiap lokasi memiliki jumlah hari turun hujan masing-masing dan tidak sama dengan lokasi lainnya, sehingga dapat dikatakan bahwa lokasi mempengaruhi prediksi turunnya hujan"
      ]
    },
    {
      "cell_type": "markdown",
      "source": [
        "**Memvisualisasikan Distribusi data menggunakan lineplot pada kolom month berdasarkan kolom RainToday sehingga dapat diketahui apakah perbedaan bulan dapat mempengaruhi turunnya hujan atau tidak.**"
      ],
      "metadata": {
        "id": "iq69FlXDVJDp"
      }
    },
    {
      "cell_type": "code",
      "execution_count": 29,
      "metadata": {
        "colab": {
          "base_uri": "https://localhost:8080/",
          "height": 236
        },
        "id": "aFWZz-g7Zd-W",
        "outputId": "855f77e6-6678-4bf8-e8e6-718c574b7b01"
      },
      "outputs": [
        {
          "output_type": "execute_result",
          "data": {
            "text/plain": [
              "           Date Location  MinTemp  MaxTemp  Rainfall  Evaporation  Sunshine  \\\n",
              "6049 2009-01-01    Cobar     17.9     35.2       0.0         12.0      12.3   \n",
              "6050 2009-01-02    Cobar     18.4     28.9       0.0         14.8      13.0   \n",
              "6052 2009-01-04    Cobar     19.4     37.6       0.0         10.8      10.6   \n",
              "6053 2009-01-05    Cobar     21.9     38.4       0.0         11.4      12.2   \n",
              "6054 2009-01-06    Cobar     24.2     41.0       0.0         11.2       8.4   \n",
              "\n",
              "     WindGustDir  WindGustSpeed WindDir9am  ... Pressure3pm  Cloud9am  \\\n",
              "6049         SSW           48.0        ENE  ...      1004.4       2.0   \n",
              "6050           S           37.0        SSE  ...      1012.1       1.0   \n",
              "6052         NNE           46.0        NNE  ...      1009.2       1.0   \n",
              "6053         WNW           31.0        WNW  ...      1009.1       1.0   \n",
              "6054         WNW           35.0         NW  ...      1007.4       1.0   \n",
              "\n",
              "      Cloud3pm  Temp9am  Temp3pm  RainToday  RainTomorrow  year  month  day  \n",
              "6049       5.0     26.6     33.4          0             0  2009      1    1  \n",
              "6050       1.0     20.3     27.0          0             0  2009      1    2  \n",
              "6052       6.0     28.7     34.9          0             0  2009      1    4  \n",
              "6053       5.0     29.1     35.6          0             0  2009      1    5  \n",
              "6054       6.0     33.6     37.6          0             0  2009      1    6  \n",
              "\n",
              "[5 rows x 26 columns]"
            ],
            "text/html": [
              "\n",
              "  <div id=\"df-f913e0d8-c6ac-4452-b367-9779a5b4607f\">\n",
              "    <div class=\"colab-df-container\">\n",
              "      <div>\n",
              "<style scoped>\n",
              "    .dataframe tbody tr th:only-of-type {\n",
              "        vertical-align: middle;\n",
              "    }\n",
              "\n",
              "    .dataframe tbody tr th {\n",
              "        vertical-align: top;\n",
              "    }\n",
              "\n",
              "    .dataframe thead th {\n",
              "        text-align: right;\n",
              "    }\n",
              "</style>\n",
              "<table border=\"1\" class=\"dataframe\">\n",
              "  <thead>\n",
              "    <tr style=\"text-align: right;\">\n",
              "      <th></th>\n",
              "      <th>Date</th>\n",
              "      <th>Location</th>\n",
              "      <th>MinTemp</th>\n",
              "      <th>MaxTemp</th>\n",
              "      <th>Rainfall</th>\n",
              "      <th>Evaporation</th>\n",
              "      <th>Sunshine</th>\n",
              "      <th>WindGustDir</th>\n",
              "      <th>WindGustSpeed</th>\n",
              "      <th>WindDir9am</th>\n",
              "      <th>...</th>\n",
              "      <th>Pressure3pm</th>\n",
              "      <th>Cloud9am</th>\n",
              "      <th>Cloud3pm</th>\n",
              "      <th>Temp9am</th>\n",
              "      <th>Temp3pm</th>\n",
              "      <th>RainToday</th>\n",
              "      <th>RainTomorrow</th>\n",
              "      <th>year</th>\n",
              "      <th>month</th>\n",
              "      <th>day</th>\n",
              "    </tr>\n",
              "  </thead>\n",
              "  <tbody>\n",
              "    <tr>\n",
              "      <th>6049</th>\n",
              "      <td>2009-01-01</td>\n",
              "      <td>Cobar</td>\n",
              "      <td>17.9</td>\n",
              "      <td>35.2</td>\n",
              "      <td>0.0</td>\n",
              "      <td>12.0</td>\n",
              "      <td>12.3</td>\n",
              "      <td>SSW</td>\n",
              "      <td>48.0</td>\n",
              "      <td>ENE</td>\n",
              "      <td>...</td>\n",
              "      <td>1004.4</td>\n",
              "      <td>2.0</td>\n",
              "      <td>5.0</td>\n",
              "      <td>26.6</td>\n",
              "      <td>33.4</td>\n",
              "      <td>0</td>\n",
              "      <td>0</td>\n",
              "      <td>2009</td>\n",
              "      <td>1</td>\n",
              "      <td>1</td>\n",
              "    </tr>\n",
              "    <tr>\n",
              "      <th>6050</th>\n",
              "      <td>2009-01-02</td>\n",
              "      <td>Cobar</td>\n",
              "      <td>18.4</td>\n",
              "      <td>28.9</td>\n",
              "      <td>0.0</td>\n",
              "      <td>14.8</td>\n",
              "      <td>13.0</td>\n",
              "      <td>S</td>\n",
              "      <td>37.0</td>\n",
              "      <td>SSE</td>\n",
              "      <td>...</td>\n",
              "      <td>1012.1</td>\n",
              "      <td>1.0</td>\n",
              "      <td>1.0</td>\n",
              "      <td>20.3</td>\n",
              "      <td>27.0</td>\n",
              "      <td>0</td>\n",
              "      <td>0</td>\n",
              "      <td>2009</td>\n",
              "      <td>1</td>\n",
              "      <td>2</td>\n",
              "    </tr>\n",
              "    <tr>\n",
              "      <th>6052</th>\n",
              "      <td>2009-01-04</td>\n",
              "      <td>Cobar</td>\n",
              "      <td>19.4</td>\n",
              "      <td>37.6</td>\n",
              "      <td>0.0</td>\n",
              "      <td>10.8</td>\n",
              "      <td>10.6</td>\n",
              "      <td>NNE</td>\n",
              "      <td>46.0</td>\n",
              "      <td>NNE</td>\n",
              "      <td>...</td>\n",
              "      <td>1009.2</td>\n",
              "      <td>1.0</td>\n",
              "      <td>6.0</td>\n",
              "      <td>28.7</td>\n",
              "      <td>34.9</td>\n",
              "      <td>0</td>\n",
              "      <td>0</td>\n",
              "      <td>2009</td>\n",
              "      <td>1</td>\n",
              "      <td>4</td>\n",
              "    </tr>\n",
              "    <tr>\n",
              "      <th>6053</th>\n",
              "      <td>2009-01-05</td>\n",
              "      <td>Cobar</td>\n",
              "      <td>21.9</td>\n",
              "      <td>38.4</td>\n",
              "      <td>0.0</td>\n",
              "      <td>11.4</td>\n",
              "      <td>12.2</td>\n",
              "      <td>WNW</td>\n",
              "      <td>31.0</td>\n",
              "      <td>WNW</td>\n",
              "      <td>...</td>\n",
              "      <td>1009.1</td>\n",
              "      <td>1.0</td>\n",
              "      <td>5.0</td>\n",
              "      <td>29.1</td>\n",
              "      <td>35.6</td>\n",
              "      <td>0</td>\n",
              "      <td>0</td>\n",
              "      <td>2009</td>\n",
              "      <td>1</td>\n",
              "      <td>5</td>\n",
              "    </tr>\n",
              "    <tr>\n",
              "      <th>6054</th>\n",
              "      <td>2009-01-06</td>\n",
              "      <td>Cobar</td>\n",
              "      <td>24.2</td>\n",
              "      <td>41.0</td>\n",
              "      <td>0.0</td>\n",
              "      <td>11.2</td>\n",
              "      <td>8.4</td>\n",
              "      <td>WNW</td>\n",
              "      <td>35.0</td>\n",
              "      <td>NW</td>\n",
              "      <td>...</td>\n",
              "      <td>1007.4</td>\n",
              "      <td>1.0</td>\n",
              "      <td>6.0</td>\n",
              "      <td>33.6</td>\n",
              "      <td>37.6</td>\n",
              "      <td>0</td>\n",
              "      <td>0</td>\n",
              "      <td>2009</td>\n",
              "      <td>1</td>\n",
              "      <td>6</td>\n",
              "    </tr>\n",
              "  </tbody>\n",
              "</table>\n",
              "<p>5 rows × 26 columns</p>\n",
              "</div>\n",
              "      <button class=\"colab-df-convert\" onclick=\"convertToInteractive('df-f913e0d8-c6ac-4452-b367-9779a5b4607f')\"\n",
              "              title=\"Convert this dataframe to an interactive table.\"\n",
              "              style=\"display:none;\">\n",
              "        \n",
              "  <svg xmlns=\"http://www.w3.org/2000/svg\" height=\"24px\"viewBox=\"0 0 24 24\"\n",
              "       width=\"24px\">\n",
              "    <path d=\"M0 0h24v24H0V0z\" fill=\"none\"/>\n",
              "    <path d=\"M18.56 5.44l.94 2.06.94-2.06 2.06-.94-2.06-.94-.94-2.06-.94 2.06-2.06.94zm-11 1L8.5 8.5l.94-2.06 2.06-.94-2.06-.94L8.5 2.5l-.94 2.06-2.06.94zm10 10l.94 2.06.94-2.06 2.06-.94-2.06-.94-.94-2.06-.94 2.06-2.06.94z\"/><path d=\"M17.41 7.96l-1.37-1.37c-.4-.4-.92-.59-1.43-.59-.52 0-1.04.2-1.43.59L10.3 9.45l-7.72 7.72c-.78.78-.78 2.05 0 2.83L4 21.41c.39.39.9.59 1.41.59.51 0 1.02-.2 1.41-.59l7.78-7.78 2.81-2.81c.8-.78.8-2.07 0-2.86zM5.41 20L4 18.59l7.72-7.72 1.47 1.35L5.41 20z\"/>\n",
              "  </svg>\n",
              "      </button>\n",
              "      \n",
              "  <style>\n",
              "    .colab-df-container {\n",
              "      display:flex;\n",
              "      flex-wrap:wrap;\n",
              "      gap: 12px;\n",
              "    }\n",
              "\n",
              "    .colab-df-convert {\n",
              "      background-color: #E8F0FE;\n",
              "      border: none;\n",
              "      border-radius: 50%;\n",
              "      cursor: pointer;\n",
              "      display: none;\n",
              "      fill: #1967D2;\n",
              "      height: 32px;\n",
              "      padding: 0 0 0 0;\n",
              "      width: 32px;\n",
              "    }\n",
              "\n",
              "    .colab-df-convert:hover {\n",
              "      background-color: #E2EBFA;\n",
              "      box-shadow: 0px 1px 2px rgba(60, 64, 67, 0.3), 0px 1px 3px 1px rgba(60, 64, 67, 0.15);\n",
              "      fill: #174EA6;\n",
              "    }\n",
              "\n",
              "    [theme=dark] .colab-df-convert {\n",
              "      background-color: #3B4455;\n",
              "      fill: #D2E3FC;\n",
              "    }\n",
              "\n",
              "    [theme=dark] .colab-df-convert:hover {\n",
              "      background-color: #434B5C;\n",
              "      box-shadow: 0px 1px 3px 1px rgba(0, 0, 0, 0.15);\n",
              "      filter: drop-shadow(0px 1px 2px rgba(0, 0, 0, 0.3));\n",
              "      fill: #FFFFFF;\n",
              "    }\n",
              "  </style>\n",
              "\n",
              "      <script>\n",
              "        const buttonEl =\n",
              "          document.querySelector('#df-f913e0d8-c6ac-4452-b367-9779a5b4607f button.colab-df-convert');\n",
              "        buttonEl.style.display =\n",
              "          google.colab.kernel.accessAllowed ? 'block' : 'none';\n",
              "\n",
              "        async function convertToInteractive(key) {\n",
              "          const element = document.querySelector('#df-f913e0d8-c6ac-4452-b367-9779a5b4607f');\n",
              "          const dataTable =\n",
              "            await google.colab.kernel.invokeFunction('convertToInteractive',\n",
              "                                                     [key], {});\n",
              "          if (!dataTable) return;\n",
              "\n",
              "          const docLinkHtml = 'Like what you see? Visit the ' +\n",
              "            '<a target=\"_blank\" href=https://colab.research.google.com/notebooks/data_table.ipynb>data table notebook</a>'\n",
              "            + ' to learn more about interactive tables.';\n",
              "          element.innerHTML = '';\n",
              "          dataTable['output_type'] = 'display_data';\n",
              "          await google.colab.output.renderOutput(dataTable, element);\n",
              "          const docLink = document.createElement('div');\n",
              "          docLink.innerHTML = docLinkHtml;\n",
              "          element.appendChild(docLink);\n",
              "        }\n",
              "      </script>\n",
              "    </div>\n",
              "  </div>\n",
              "  "
            ]
          },
          "metadata": {},
          "execution_count": 29
        }
      ],
      "source": [
        "df_season = df.copy()\n",
        "df_season.head()"
      ]
    },
    {
      "cell_type": "code",
      "source": [
        "df_season_grouped = df_season.groupby('month').sum()\n",
        "df_season_grouped = df_season_grouped[['RainToday']]"
      ],
      "metadata": {
        "id": "t1N7QMgfY2Np"
      },
      "execution_count": 30,
      "outputs": []
    },
    {
      "cell_type": "code",
      "execution_count": 31,
      "metadata": {
        "colab": {
          "base_uri": "https://localhost:8080/",
          "height": 369
        },
        "id": "gGM00f3DZkAJ",
        "outputId": "816abefe-c9bd-4d52-c2ad-70350bcf7a1e"
      },
      "outputs": [
        {
          "output_type": "display_data",
          "data": {
            "text/plain": [
              "<Figure size 648x360 with 1 Axes>"
            ],
            "image/png": "[encoded data removed]"
          },
          "metadata": {
            "needs_background": "light"
          }
        }
      ],
      "source": [
        "plt.figure(figsize=(9,5))\n",
        "sns.lineplot(data=df_season_grouped, x=df_season_grouped.index, y='RainToday')\n",
        "plt.title('Grafik Total Hari Turun Hujan Setiap Bulan Selama 10 Tahun')\n",
        "plt.xlabel('Bulan')\n",
        "plt.ylabel('Jumlah Hari Turunnya Hujan')\n",
        "plt.grid(linewidth=0.5)\n",
        "plt.tight_layout()"
      ]
    },
    {
      "cell_type": "markdown",
      "metadata": {
        "id": "5_eP32QBZmj7"
      },
      "source": [
        "Berdasarkan plot di atas, dapat diketahui bahwa setiap bulan memiliki jumlah hari turun hujan yang berbeda yakni intensitas turunnya hujan tertinggi di bulan 3 atau bulan Maret dan bulan 7 atau bulan Juli. Sedangkan, pada bulan 2 atau bukan Februari intensitas turunnya hujan paling rendah. Dapat diasumsikan bahwa bulan mempengaruhi prediksi turunnya hujan."
      ]
    },
    {
      "cell_type": "markdown",
      "metadata": {
        "id": "vtrwKpbEZuvQ"
      },
      "source": [
        "**Memvisualisasikan Distribusi data menggunakan plot histogram pada kolom WindGustDir, WindDir9am, dan WindDir3pm berdasarkan kolom RainTomorrow untuk melihat intensitas turunnya hujan berdasarkan arah mata angin sehingga dapat diketahui apakah kolom tersebut berpengaruh terhadap kolom RainTomorrow.**"
      ]
    },
    {
      "cell_type": "code",
      "execution_count": 32,
      "metadata": {
        "colab": {
          "base_uri": "https://localhost:8080/",
          "height": 206
        },
        "id": "WccRPdkpZxgX",
        "outputId": "3a5fa7a9-8848-4015-84d9-bc9ae1951086"
      },
      "outputs": [
        {
          "output_type": "execute_result",
          "data": {
            "text/plain": [
              "      RainTomorrow WindGustDir WindDir9am WindDir3pm\n",
              "6067             1         NNE        ENE        NNE\n",
              "6070             1         WNW          N          N\n",
              "6071             1         WSW        NNE         NW\n",
              "6082             1         WSW          E        SSW\n",
              "6092             1           E          E          E"
            ],
            "text/html": [
              "\n",
              "  <div id=\"df-7e523fc6-b1b7-4044-92d4-87525932bca6\">\n",
              "    <div class=\"colab-df-container\">\n",
              "      <div>\n",
              "<style scoped>\n",
              "    .dataframe tbody tr th:only-of-type {\n",
              "        vertical-align: middle;\n",
              "    }\n",
              "\n",
              "    .dataframe tbody tr th {\n",
              "        vertical-align: top;\n",
              "    }\n",
              "\n",
              "    .dataframe thead th {\n",
              "        text-align: right;\n",
              "    }\n",
              "</style>\n",
              "<table border=\"1\" class=\"dataframe\">\n",
              "  <thead>\n",
              "    <tr style=\"text-align: right;\">\n",
              "      <th></th>\n",
              "      <th>RainTomorrow</th>\n",
              "      <th>WindGustDir</th>\n",
              "      <th>WindDir9am</th>\n",
              "      <th>WindDir3pm</th>\n",
              "    </tr>\n",
              "  </thead>\n",
              "  <tbody>\n",
              "    <tr>\n",
              "      <th>6067</th>\n",
              "      <td>1</td>\n",
              "      <td>NNE</td>\n",
              "      <td>ENE</td>\n",
              "      <td>NNE</td>\n",
              "    </tr>\n",
              "    <tr>\n",
              "      <th>6070</th>\n",
              "      <td>1</td>\n",
              "      <td>WNW</td>\n",
              "      <td>N</td>\n",
              "      <td>N</td>\n",
              "    </tr>\n",
              "    <tr>\n",
              "      <th>6071</th>\n",
              "      <td>1</td>\n",
              "      <td>WSW</td>\n",
              "      <td>NNE</td>\n",
              "      <td>NW</td>\n",
              "    </tr>\n",
              "    <tr>\n",
              "      <th>6082</th>\n",
              "      <td>1</td>\n",
              "      <td>WSW</td>\n",
              "      <td>E</td>\n",
              "      <td>SSW</td>\n",
              "    </tr>\n",
              "    <tr>\n",
              "      <th>6092</th>\n",
              "      <td>1</td>\n",
              "      <td>E</td>\n",
              "      <td>E</td>\n",
              "      <td>E</td>\n",
              "    </tr>\n",
              "  </tbody>\n",
              "</table>\n",
              "</div>\n",
              "      <button class=\"colab-df-convert\" onclick=\"convertToInteractive('df-7e523fc6-b1b7-4044-92d4-87525932bca6')\"\n",
              "              title=\"Convert this dataframe to an interactive table.\"\n",
              "              style=\"display:none;\">\n",
              "        \n",
              "  <svg xmlns=\"http://www.w3.org/2000/svg\" height=\"24px\"viewBox=\"0 0 24 24\"\n",
              "       width=\"24px\">\n",
              "    <path d=\"M0 0h24v24H0V0z\" fill=\"none\"/>\n",
              "    <path d=\"M18.56 5.44l.94 2.06.94-2.06 2.06-.94-2.06-.94-.94-2.06-.94 2.06-2.06.94zm-11 1L8.5 8.5l.94-2.06 2.06-.94-2.06-.94L8.5 2.5l-.94 2.06-2.06.94zm10 10l.94 2.06.94-2.06 2.06-.94-2.06-.94-.94-2.06-.94 2.06-2.06.94z\"/><path d=\"M17.41 7.96l-1.37-1.37c-.4-.4-.92-.59-1.43-.59-.52 0-1.04.2-1.43.59L10.3 9.45l-7.72 7.72c-.78.78-.78 2.05 0 2.83L4 21.41c.39.39.9.59 1.41.59.51 0 1.02-.2 1.41-.59l7.78-7.78 2.81-2.81c.8-.78.8-2.07 0-2.86zM5.41 20L4 18.59l7.72-7.72 1.47 1.35L5.41 20z\"/>\n",
              "  </svg>\n",
              "      </button>\n",
              "      \n",
              "  <style>\n",
              "    .colab-df-container {\n",
              "      display:flex;\n",
              "      flex-wrap:wrap;\n",
              "      gap: 12px;\n",
              "    }\n",
              "\n",
              "    .colab-df-convert {\n",
              "      background-color: #E8F0FE;\n",
              "      border: none;\n",
              "      border-radius: 50%;\n",
              "      cursor: pointer;\n",
              "      display: none;\n",
              "      fill: #1967D2;\n",
              "      height: 32px;\n",
              "      padding: 0 0 0 0;\n",
              "      width: 32px;\n",
              "    }\n",
              "\n",
              "    .colab-df-convert:hover {\n",
              "      background-color: #E2EBFA;\n",
              "      box-shadow: 0px 1px 2px rgba(60, 64, 67, 0.3), 0px 1px 3px 1px rgba(60, 64, 67, 0.15);\n",
              "      fill: #174EA6;\n",
              "    }\n",
              "\n",
              "    [theme=dark] .colab-df-convert {\n",
              "      background-color: #3B4455;\n",
              "      fill: #D2E3FC;\n",
              "    }\n",
              "\n",
              "    [theme=dark] .colab-df-convert:hover {\n",
              "      background-color: #434B5C;\n",
              "      box-shadow: 0px 1px 3px 1px rgba(0, 0, 0, 0.15);\n",
              "      filter: drop-shadow(0px 1px 2px rgba(0, 0, 0, 0.3));\n",
              "      fill: #FFFFFF;\n",
              "    }\n",
              "  </style>\n",
              "\n",
              "      <script>\n",
              "        const buttonEl =\n",
              "          document.querySelector('#df-7e523fc6-b1b7-4044-92d4-87525932bca6 button.colab-df-convert');\n",
              "        buttonEl.style.display =\n",
              "          google.colab.kernel.accessAllowed ? 'block' : 'none';\n",
              "\n",
              "        async function convertToInteractive(key) {\n",
              "          const element = document.querySelector('#df-7e523fc6-b1b7-4044-92d4-87525932bca6');\n",
              "          const dataTable =\n",
              "            await google.colab.kernel.invokeFunction('convertToInteractive',\n",
              "                                                     [key], {});\n",
              "          if (!dataTable) return;\n",
              "\n",
              "          const docLinkHtml = 'Like what you see? Visit the ' +\n",
              "            '<a target=\"_blank\" href=https://colab.research.google.com/notebooks/data_table.ipynb>data table notebook</a>'\n",
              "            + ' to learn more about interactive tables.';\n",
              "          element.innerHTML = '';\n",
              "          dataTable['output_type'] = 'display_data';\n",
              "          await google.colab.output.renderOutput(dataTable, element);\n",
              "          const docLink = document.createElement('div');\n",
              "          docLink.innerHTML = docLinkHtml;\n",
              "          element.appendChild(docLink);\n",
              "        }\n",
              "      </script>\n",
              "    </div>\n",
              "  </div>\n",
              "  "
            ]
          },
          "metadata": {},
          "execution_count": 32
        }
      ],
      "source": [
        "df_categorical = df[['RainTomorrow','WindGustDir','WindDir9am','WindDir3pm']]\n",
        "df_categorical = df_categorical[df_categorical['RainTomorrow']==1]\n",
        "df_categorical.head()"
      ]
    },
    {
      "cell_type": "code",
      "execution_count": 33,
      "metadata": {
        "colab": {
          "base_uri": "https://localhost:8080/",
          "height": 942
        },
        "id": "2qAPzJRHZyVj",
        "outputId": "028cafc2-b6f7-4abc-8deb-379e72bdcd08"
      },
      "outputs": [
        {
          "output_type": "stream",
          "name": "stderr",
          "text": [
            "/usr/local/lib/python3.7/dist-packages/seaborn/_decorators.py:43: FutureWarning:\n",
            "\n",
            "Pass the following variable as a keyword arg: x. From version 0.12, the only valid positional argument will be `data`, and passing other arguments without an explicit keyword will result in an error or misinterpretation.\n",
            "\n",
            "/usr/local/lib/python3.7/dist-packages/seaborn/_decorators.py:43: FutureWarning:\n",
            "\n",
            "Pass the following variable as a keyword arg: x. From version 0.12, the only valid positional argument will be `data`, and passing other arguments without an explicit keyword will result in an error or misinterpretation.\n",
            "\n",
            "/usr/local/lib/python3.7/dist-packages/seaborn/_decorators.py:43: FutureWarning:\n",
            "\n",
            "Pass the following variable as a keyword arg: x. From version 0.12, the only valid positional argument will be `data`, and passing other arguments without an explicit keyword will result in an error or misinterpretation.\n",
            "\n"
          ]
        },
        {
          "output_type": "display_data",
          "data": {
            "text/plain": [
              "<Figure size 864x864 with 3 Axes>"
            ],
            "image/png": "[encoded data removed]"
          },
          "metadata": {
            "needs_background": "light"
          }
        }
      ],
      "source": [
        "categoricalPlot = ['WindDir9am','WindGustDir', 'WindDir3pm']\n",
        "fig, ax = plt.subplots(3, 1, figsize=(12,12))\n",
        "\n",
        "c=0\n",
        "while c<=2:\n",
        "    sns.countplot(df_categorical[categoricalPlot[c]], ax=ax[c])\n",
        "    plt.xticks(rotation=90)\n",
        "    c+=1\n",
        "    \n",
        "plt.show()"
      ]
    },
    {
      "cell_type": "markdown",
      "metadata": {
        "id": "ZFL9QdywaFK8"
      },
      "source": [
        "Berdasarkan plot di atas, secara grafis diketahui bahwa ketiga kolom arah angin tidak menunjukkan pengaruh yang signifikan terhadap intensitas turunnya hujan. Hal ini ditunjukkan oleh beberapa arah mata angin yang memiliki intensitas atau jumlah hari turunnya hujan dengan jumlah yang sama."
      ]
    },
    {
      "cell_type": "markdown",
      "metadata": {
        "id": "dpw6iSZpaHbT"
      },
      "source": [
        "**Memvisualisasikan Distribusi kolom numerik berdasarkan kolom target.**"
      ]
    },
    {
      "cell_type": "code",
      "execution_count": 34,
      "metadata": {
        "colab": {
          "base_uri": "https://localhost:8080/",
          "height": 1000
        },
        "id": "PE2cslWZaG-m",
        "outputId": "fe45dea6-2b58-4807-e740-5ff3f2c7c86a"
      },
      "outputs": [
        {
          "output_type": "execute_result",
          "data": {
            "text/plain": [
              "Text(0.5, 1.0, 'Histogram Kolom Numerik')"
            ]
          },
          "metadata": {},
          "execution_count": 34
        },
        {
          "output_type": "display_data",
          "data": {
            "text/plain": [
              "<Figure size 864x1296 with 16 Axes>"
            ],
            "image/png": "[encoded data removed]"
          },
          "metadata": {
            "needs_background": "light"
          }
        }
      ],
      "source": [
        "cols = ['MinTemp','MaxTemp', 'Rainfall', 'Evaporation', 'Sunshine', 'WindGustSpeed', 'WindSpeed9am','WindSpeed3pm',\n",
        "       'Humidity9am', 'Humidity3pm','Pressure9am','Pressure3pm','Cloud9am','Cloud3pm','Temp9am','Temp3pm']\n",
        "\n",
        "fig, ax = plt.subplots(4, 4, figsize=(12,18))\n",
        "ax = ax.reshape(-1)\n",
        "\n",
        "for i, col in enumerate(cols):\n",
        "    sns.histplot(data=df, x=col, hue='RainTomorrow', multiple='stack', ax=ax[i])\n",
        "\n",
        "fig.tight_layout(pad=2.0)\n",
        "plt.title('Histogram Kolom Numerik')"
      ]
    },
    {
      "cell_type": "markdown",
      "metadata": {
        "id": "saCCFdxyaSTF"
      },
      "source": [
        "Berdasarkan plot di atas, dapat diketahui bahwa:\n",
        "\n",
        "1. Kolom MinTemp dan MaxTemp cenderung menunjukkan pengaruh yang cukup signifikan terhadap kolom RainTomorrowm. Hal ini ditunjukkan oleh semakin tingginya frekuensi temperatur pada nilai yang rendah, maka semkin tinggi pula frekuensi turunnya hujan juga tinggi dan sebaliknya. Selain itu, asumsi ini juga didukung oleh distribusi frekuensi pada kolom Temp9am dan Temp3pm yang menunjukkan bahwa semakin rendah suhu maka frekuensi turunnya hujan semakin tinggi\n",
        "2. Kolom Evaporation, Sunshine, WindGustSpeed, WindSpeed9am, WindSpeed3pm, Pressure9am dan Pressure3pm cenderung tidak menunjukkan pengaruh yang signifikan terhadap kolom RainTomorrow.\n",
        "3. Kolom Humidity9am dan Humidity3pm menunjukkan pengaruh yang cukup signifikan terhadap kolom RainTomorrow. Hal ini ditunjukkan oleh semakin tingginya frekuensi nilai humiditas, maka frekuensi turunnya hujan juga tinggi.\n",
        "5. Kolom Cloud9am dan Cloud3pm cenderung menunjukkan pengaruh yang cukup signifikan terhadap kolom RainTomorrow. Hal ini ditunjukkan oleh semakin tingginya frekuensi nilai persentase langit yang tertutup awan, maka frekuensi turunnya hujan juga tinggi."
      ]
    },
    {
      "cell_type": "markdown",
      "metadata": {
        "id": "bVc4LJu1Z7oG"
      },
      "source": [
        "**Memvisualisasikan Korelasi kolom numerik dengan kolom target.**"
      ]
    },
    {
      "cell_type": "code",
      "execution_count": 35,
      "metadata": {
        "id": "EaXbbWm2agOV",
        "colab": {
          "base_uri": "https://localhost:8080/",
          "height": 774
        },
        "outputId": "b5adc02c-3be6-4128-8fd2-d918019dad23"
      },
      "outputs": [
        {
          "output_type": "display_data",
          "data": {
            "text/plain": [
              "<Figure size 1296x864 with 2 Axes>"
            ],
            "image/png": "[encoded data removed]"
          },
          "metadata": {
            "needs_background": "light"
          }
        }
      ],
      "source": [
        "plt.figure(figsize=(18,12))\n",
        "sns.heatmap(df.corr(), annot=True)\n",
        "plt.xticks(rotation=90)\n",
        "plt.show()"
      ]
    },
    {
      "cell_type": "markdown",
      "metadata": {
        "id": "P64hVwsMaie-"
      },
      "source": [
        "Berdasarkan heatmap di atas, dapat diketahui bahwa kolom Humidity3pm dan RainToday terhadap RainTomorrow memiliki nilai koefisien korelasi paling tinggi. Dapat diasumsikan bahwa :\n",
        "1. Semakin tinggi tingkat humiditas, maka semakin tinggi juga kemungkinan untuk hujan di esok hari, dan\n",
        "2. Hujan di hari kemarin juga akan memberikan pengaruh yang cukup signifikan terhadap kemungkinan turun hujan di esok hari."
      ]
    },
    {
      "cell_type": "markdown",
      "metadata": {
        "id": "cwnEn0HYuuJA"
      },
      "source": [
        "# **F. Data Preprocessing**"
      ]
    },
    {
      "cell_type": "markdown",
      "source": [
        "Bagian ini berisi proses penyiapan data untuk proses pelatihan model prediksi klasifikasi., seperti pembagian data menjadi train-dev-test, transformasi data(normalisasi, encoding, dll.), dan proses-proses lain yang dibutuhkan."
      ],
      "metadata": {
        "id": "2kqveiCR1BY-"
      }
    },
    {
      "cell_type": "markdown",
      "metadata": {
        "id": "E81_5i3na2E9"
      },
      "source": [
        "Berdasarkan heatmap di atas, diketahui bahwa kolom-kolom yang memiliki nilai koefisien korelasi rendah terhadap kolom target atau RainTomorrow adalah MinTemp, Evaporation, WindSpeed9am, WindSpeed3pm, dan Temp9am. Maka hapus kolom numerik yang memiliki nilai koefisien korelasi rendah tersebut"
      ]
    },
    {
      "cell_type": "code",
      "execution_count": 36,
      "metadata": {
        "id": "JUVjQFFDa3GE"
      },
      "outputs": [],
      "source": [
        "df.drop(['MinTemp','Evaporation','WindSpeed9am','WindSpeed3pm','Temp9am'], axis=1, inplace=True)"
      ]
    },
    {
      "cell_type": "markdown",
      "metadata": {
        "id": "utduFVJDbAkR"
      },
      "source": [
        "Berdasarkan analisis eksplorasi data sebelumnya, diasumsikan bahwa ketiga kolom kategorik yaitu WindGustDir, WindDir9am, dan WindDir3pm tidak memiliki pengaruh yang signifikan. Diketahui bahwa kolom-kolom tersebut memiliki nilai koefisien korelasi rendah terhadap kolom target atau RainTomorrow. Maka hapus kolom numerik yang memiliki nilai koefisien korelasi rendah tersebut"
      ]
    },
    {
      "cell_type": "code",
      "execution_count": 37,
      "metadata": {
        "id": "yYiijEIjbIPN"
      },
      "outputs": [],
      "source": [
        "df.drop(['WindGustDir','WindDir9am','WindDir3pm'], axis=1, inplace=True)"
      ]
    },
    {
      "cell_type": "markdown",
      "metadata": {
        "id": "r2yQ5rlRbU63"
      },
      "source": [
        "Berdasarkan heatmap di atas, diketahui bahwa kolom MaxTemp dengan Temp3pm, dan juga kolom Pressure9am dan Pressure3pm memiliki korelasi yang sangat tinggi yaitu 0.98 dan 0.96 sehingga dapat dikatakan variabel tersebut multikolinearitas. Maka dari itu salah satu dari kedua kolom akan didrop atau dihilangkan.\n",
        "\n"
      ]
    },
    {
      "cell_type": "code",
      "execution_count": 38,
      "metadata": {
        "id": "_7i7ZpFtbctJ"
      },
      "outputs": [],
      "source": [
        "df.drop(['Temp3pm','Pressure3pm'], axis=1, inplace=True)"
      ]
    },
    {
      "cell_type": "markdown",
      "source": [
        "Menghapus kolom date, year, day karena tidak dibutuhkan lagi"
      ],
      "metadata": {
        "id": "6lRV821d5dbJ"
      }
    },
    {
      "cell_type": "code",
      "execution_count": 39,
      "metadata": {
        "id": "qwzn0sZJbg65"
      },
      "outputs": [],
      "source": [
        "df.drop(['Date','year','day'], axis=1, inplace=True)"
      ]
    },
    {
      "cell_type": "markdown",
      "source": [
        "Memeriksa kembali ringkasan dari dataset"
      ],
      "metadata": {
        "id": "Wo2sKbby5oIV"
      }
    },
    {
      "cell_type": "code",
      "execution_count": 40,
      "metadata": {
        "id": "A-3DPKj1bicE",
        "colab": {
          "base_uri": "https://localhost:8080/"
        },
        "outputId": "1a7a6fab-fddb-4b4a-b2ee-33cebb28ed26"
      },
      "outputs": [
        {
          "output_type": "stream",
          "name": "stdout",
          "text": [
            "<class 'pandas.core.frame.DataFrame'>\n",
            "Int64Index: 56420 entries, 6049 to 142302\n",
            "Data columns (total 13 columns):\n",
            " #   Column         Non-Null Count  Dtype  \n",
            "---  ------         --------------  -----  \n",
            " 0   Location       56420 non-null  object \n",
            " 1   MaxTemp        56420 non-null  float64\n",
            " 2   Rainfall       56420 non-null  float64\n",
            " 3   Sunshine       56420 non-null  float64\n",
            " 4   WindGustSpeed  56420 non-null  float64\n",
            " 5   Humidity9am    56420 non-null  float64\n",
            " 6   Humidity3pm    56420 non-null  float64\n",
            " 7   Pressure9am    56420 non-null  float64\n",
            " 8   Cloud9am       56420 non-null  float64\n",
            " 9   Cloud3pm       56420 non-null  float64\n",
            " 10  RainToday      56420 non-null  int64  \n",
            " 11  RainTomorrow   56420 non-null  int64  \n",
            " 12  month          56420 non-null  int64  \n",
            "dtypes: float64(9), int64(3), object(1)\n",
            "memory usage: 6.0+ MB\n"
          ]
        }
      ],
      "source": [
        "df.info()"
      ]
    },
    {
      "cell_type": "markdown",
      "source": [
        "Reset index setelah dilakukan dropping dengan tujuan agar index berurutan"
      ],
      "metadata": {
        "id": "xdlstRI65wcj"
      }
    },
    {
      "cell_type": "code",
      "execution_count": 41,
      "metadata": {
        "id": "gpBkafMibllj"
      },
      "outputs": [],
      "source": [
        "df.reset_index(drop=True, inplace=True)"
      ]
    },
    {
      "cell_type": "markdown",
      "metadata": {
        "id": "dFXiQJJiboF5"
      },
      "source": [
        "**Standarisasi data**"
      ]
    },
    {
      "cell_type": "markdown",
      "metadata": {
        "id": "-SNHTCvQbtth"
      },
      "source": [
        "Standardisasi adalah proses pengubahan data sehingga rata-rata setiap variabel sama dengan 0 dan simpangan baku setiap variabel adalah 1. Dengan cara ini maka kita akan mendapatkan skala yang sama untuk semua variabel. Standarisasi juga dilakukan karena adanya outlier pada data."
      ]
    },
    {
      "cell_type": "code",
      "execution_count": 42,
      "metadata": {
        "id": "q2azlvnPbvct"
      },
      "outputs": [],
      "source": [
        "columns = ['MaxTemp', 'Rainfall', 'Sunshine', 'WindGustSpeed',\n",
        "       'Humidity9am', 'Humidity3pm', 'Pressure9am', 'Cloud9am', 'Cloud3pm',\n",
        "       'month', 'RainToday', 'RainTomorrow','Location']"
      ]
    },
    {
      "cell_type": "code",
      "execution_count": 43,
      "metadata": {
        "id": "5t0FvjQzbxq9",
        "colab": {
          "base_uri": "https://localhost:8080/"
        },
        "outputId": "6c6f275c-75d0-41b2-c9c6-284dac462cf1"
      },
      "outputs": [
        {
          "output_type": "stream",
          "name": "stdout",
          "text": [
            "<class 'pandas.core.frame.DataFrame'>\n",
            "RangeIndex: 56420 entries, 0 to 56419\n",
            "Data columns (total 13 columns):\n",
            " #   Column         Non-Null Count  Dtype  \n",
            "---  ------         --------------  -----  \n",
            " 0   MaxTemp        56420 non-null  float64\n",
            " 1   Rainfall       56420 non-null  float64\n",
            " 2   Sunshine       56420 non-null  float64\n",
            " 3   WindGustSpeed  56420 non-null  float64\n",
            " 4   Humidity9am    56420 non-null  float64\n",
            " 5   Humidity3pm    56420 non-null  float64\n",
            " 6   Pressure9am    56420 non-null  float64\n",
            " 7   Cloud9am       56420 non-null  float64\n",
            " 8   Cloud3pm       56420 non-null  float64\n",
            " 9   month          56420 non-null  int64  \n",
            " 10  RainToday      56420 non-null  int64  \n",
            " 11  RainTomorrow   56420 non-null  int64  \n",
            " 12  Location       56420 non-null  object \n",
            "dtypes: float64(9), int64(3), object(1)\n",
            "memory usage: 5.6+ MB\n"
          ]
        }
      ],
      "source": [
        "data = df[columns]\n",
        "data.info()"
      ]
    },
    {
      "cell_type": "code",
      "execution_count": 44,
      "metadata": {
        "id": "we8ih28mb0bh",
        "colab": {
          "base_uri": "https://localhost:8080/",
          "height": 206
        },
        "outputId": "bd77f00d-5b18-42ba-ffca-b46ef6057beb"
      },
      "outputs": [
        {
          "output_type": "execute_result",
          "data": {
            "text/plain": [
              "    MaxTemp  Rainfall  Sunshine  WindGustSpeed  Humidity9am  Humidity3pm  \\\n",
              "0  1.575298 -0.303702  1.214537       0.534126    -2.477924    -1.812261   \n",
              "1  0.671504 -0.303702  1.400800      -0.290764    -1.937767    -2.059824   \n",
              "2  1.919600 -0.303702  0.762183       0.384146    -1.289578    -1.366647   \n",
              "3  2.034368 -0.303702  1.187928      -0.740704    -1.559657    -1.366647   \n",
              "4  2.407362 -0.303702  0.176784      -0.440744    -2.531940    -1.713236   \n",
              "\n",
              "   Pressure9am  Cloud9am  Cloud3pm    month  \n",
              "0    -1.583303 -0.801428  0.254411 -1.57185  \n",
              "1    -0.628068 -1.158937 -1.256603 -1.57185  \n",
              "2    -0.714907 -1.158937  0.632165 -1.57185  \n",
              "3    -0.657014 -1.158937  0.254411 -1.57185  \n",
              "4    -0.946479 -1.158937  0.632165 -1.57185  "
            ],
            "text/html": [
              "\n",
              "  <div id=\"df-9f45c73a-49d2-44ff-aa0b-06c905ca8b27\">\n",
              "    <div class=\"colab-df-container\">\n",
              "      <div>\n",
              "<style scoped>\n",
              "    .dataframe tbody tr th:only-of-type {\n",
              "        vertical-align: middle;\n",
              "    }\n",
              "\n",
              "    .dataframe tbody tr th {\n",
              "        vertical-align: top;\n",
              "    }\n",
              "\n",
              "    .dataframe thead th {\n",
              "        text-align: right;\n",
              "    }\n",
              "</style>\n",
              "<table border=\"1\" class=\"dataframe\">\n",
              "  <thead>\n",
              "    <tr style=\"text-align: right;\">\n",
              "      <th></th>\n",
              "      <th>MaxTemp</th>\n",
              "      <th>Rainfall</th>\n",
              "      <th>Sunshine</th>\n",
              "      <th>WindGustSpeed</th>\n",
              "      <th>Humidity9am</th>\n",
              "      <th>Humidity3pm</th>\n",
              "      <th>Pressure9am</th>\n",
              "      <th>Cloud9am</th>\n",
              "      <th>Cloud3pm</th>\n",
              "      <th>month</th>\n",
              "    </tr>\n",
              "  </thead>\n",
              "  <tbody>\n",
              "    <tr>\n",
              "      <th>0</th>\n",
              "      <td>1.575298</td>\n",
              "      <td>-0.303702</td>\n",
              "      <td>1.214537</td>\n",
              "      <td>0.534126</td>\n",
              "      <td>-2.477924</td>\n",
              "      <td>-1.812261</td>\n",
              "      <td>-1.583303</td>\n",
              "      <td>-0.801428</td>\n",
              "      <td>0.254411</td>\n",
              "      <td>-1.57185</td>\n",
              "    </tr>\n",
              "    <tr>\n",
              "      <th>1</th>\n",
              "      <td>0.671504</td>\n",
              "      <td>-0.303702</td>\n",
              "      <td>1.400800</td>\n",
              "      <td>-0.290764</td>\n",
              "      <td>-1.937767</td>\n",
              "      <td>-2.059824</td>\n",
              "      <td>-0.628068</td>\n",
              "      <td>-1.158937</td>\n",
              "      <td>-1.256603</td>\n",
              "      <td>-1.57185</td>\n",
              "    </tr>\n",
              "    <tr>\n",
              "      <th>2</th>\n",
              "      <td>1.919600</td>\n",
              "      <td>-0.303702</td>\n",
              "      <td>0.762183</td>\n",
              "      <td>0.384146</td>\n",
              "      <td>-1.289578</td>\n",
              "      <td>-1.366647</td>\n",
              "      <td>-0.714907</td>\n",
              "      <td>-1.158937</td>\n",
              "      <td>0.632165</td>\n",
              "      <td>-1.57185</td>\n",
              "    </tr>\n",
              "    <tr>\n",
              "      <th>3</th>\n",
              "      <td>2.034368</td>\n",
              "      <td>-0.303702</td>\n",
              "      <td>1.187928</td>\n",
              "      <td>-0.740704</td>\n",
              "      <td>-1.559657</td>\n",
              "      <td>-1.366647</td>\n",
              "      <td>-0.657014</td>\n",
              "      <td>-1.158937</td>\n",
              "      <td>0.254411</td>\n",
              "      <td>-1.57185</td>\n",
              "    </tr>\n",
              "    <tr>\n",
              "      <th>4</th>\n",
              "      <td>2.407362</td>\n",
              "      <td>-0.303702</td>\n",
              "      <td>0.176784</td>\n",
              "      <td>-0.440744</td>\n",
              "      <td>-2.531940</td>\n",
              "      <td>-1.713236</td>\n",
              "      <td>-0.946479</td>\n",
              "      <td>-1.158937</td>\n",
              "      <td>0.632165</td>\n",
              "      <td>-1.57185</td>\n",
              "    </tr>\n",
              "  </tbody>\n",
              "</table>\n",
              "</div>\n",
              "      <button class=\"colab-df-convert\" onclick=\"convertToInteractive('df-9f45c73a-49d2-44ff-aa0b-06c905ca8b27')\"\n",
              "              title=\"Convert this dataframe to an interactive table.\"\n",
              "              style=\"display:none;\">\n",
              "        \n",
              "  <svg xmlns=\"http://www.w3.org/2000/svg\" height=\"24px\"viewBox=\"0 0 24 24\"\n",
              "       width=\"24px\">\n",
              "    <path d=\"M0 0h24v24H0V0z\" fill=\"none\"/>\n",
              "    <path d=\"M18.56 5.44l.94 2.06.94-2.06 2.06-.94-2.06-.94-.94-2.06-.94 2.06-2.06.94zm-11 1L8.5 8.5l.94-2.06 2.06-.94-2.06-.94L8.5 2.5l-.94 2.06-2.06.94zm10 10l.94 2.06.94-2.06 2.06-.94-2.06-.94-.94-2.06-.94 2.06-2.06.94z\"/><path d=\"M17.41 7.96l-1.37-1.37c-.4-.4-.92-.59-1.43-.59-.52 0-1.04.2-1.43.59L10.3 9.45l-7.72 7.72c-.78.78-.78 2.05 0 2.83L4 21.41c.39.39.9.59 1.41.59.51 0 1.02-.2 1.41-.59l7.78-7.78 2.81-2.81c.8-.78.8-2.07 0-2.86zM5.41 20L4 18.59l7.72-7.72 1.47 1.35L5.41 20z\"/>\n",
              "  </svg>\n",
              "      </button>\n",
              "      \n",
              "  <style>\n",
              "    .colab-df-container {\n",
              "      display:flex;\n",
              "      flex-wrap:wrap;\n",
              "      gap: 12px;\n",
              "    }\n",
              "\n",
              "    .colab-df-convert {\n",
              "      background-color: #E8F0FE;\n",
              "      border: none;\n",
              "      border-radius: 50%;\n",
              "      cursor: pointer;\n",
              "      display: none;\n",
              "      fill: #1967D2;\n",
              "      height: 32px;\n",
              "      padding: 0 0 0 0;\n",
              "      width: 32px;\n",
              "    }\n",
              "\n",
              "    .colab-df-convert:hover {\n",
              "      background-color: #E2EBFA;\n",
              "      box-shadow: 0px 1px 2px rgba(60, 64, 67, 0.3), 0px 1px 3px 1px rgba(60, 64, 67, 0.15);\n",
              "      fill: #174EA6;\n",
              "    }\n",
              "\n",
              "    [theme=dark] .colab-df-convert {\n",
              "      background-color: #3B4455;\n",
              "      fill: #D2E3FC;\n",
              "    }\n",
              "\n",
              "    [theme=dark] .colab-df-convert:hover {\n",
              "      background-color: #434B5C;\n",
              "      box-shadow: 0px 1px 3px 1px rgba(0, 0, 0, 0.15);\n",
              "      filter: drop-shadow(0px 1px 2px rgba(0, 0, 0, 0.3));\n",
              "      fill: #FFFFFF;\n",
              "    }\n",
              "  </style>\n",
              "\n",
              "      <script>\n",
              "        const buttonEl =\n",
              "          document.querySelector('#df-9f45c73a-49d2-44ff-aa0b-06c905ca8b27 button.colab-df-convert');\n",
              "        buttonEl.style.display =\n",
              "          google.colab.kernel.accessAllowed ? 'block' : 'none';\n",
              "\n",
              "        async function convertToInteractive(key) {\n",
              "          const element = document.querySelector('#df-9f45c73a-49d2-44ff-aa0b-06c905ca8b27');\n",
              "          const dataTable =\n",
              "            await google.colab.kernel.invokeFunction('convertToInteractive',\n",
              "                                                     [key], {});\n",
              "          if (!dataTable) return;\n",
              "\n",
              "          const docLinkHtml = 'Like what you see? Visit the ' +\n",
              "            '<a target=\"_blank\" href=https://colab.research.google.com/notebooks/data_table.ipynb>data table notebook</a>'\n",
              "            + ' to learn more about interactive tables.';\n",
              "          element.innerHTML = '';\n",
              "          dataTable['output_type'] = 'display_data';\n",
              "          await google.colab.output.renderOutput(dataTable, element);\n",
              "          const docLink = document.createElement('div');\n",
              "          docLink.innerHTML = docLinkHtml;\n",
              "          element.appendChild(docLink);\n",
              "        }\n",
              "      </script>\n",
              "    </div>\n",
              "  </div>\n",
              "  "
            ]
          },
          "metadata": {},
          "execution_count": 44
        }
      ],
      "source": [
        "scaler = StandardScaler()\n",
        "scaler.fit(data.drop(['RainToday','RainTomorrow','Location',], axis=1))\n",
        "scaled_features = scaler.transform(data.drop(['RainToday','RainTomorrow','Location'], axis=1))\n",
        "df_feat = pd.DataFrame(scaled_features,columns = data.columns[:-3])\n",
        "df_feat.head()"
      ]
    },
    {
      "cell_type": "markdown",
      "source": [
        "Menambahkan kolom Location dan RainToday"
      ],
      "metadata": {
        "id": "-BmiXOkV6VNe"
      }
    },
    {
      "cell_type": "code",
      "execution_count": 45,
      "metadata": {
        "id": "pcPAHMzPb13u",
        "colab": {
          "base_uri": "https://localhost:8080/"
        },
        "outputId": "393884d6-fa03-40eb-e346-97ed3b5c8a6c"
      },
      "outputs": [
        {
          "output_type": "stream",
          "name": "stdout",
          "text": [
            "<class 'pandas.core.frame.DataFrame'>\n",
            "RangeIndex: 56420 entries, 0 to 56419\n",
            "Data columns (total 12 columns):\n",
            " #   Column         Non-Null Count  Dtype  \n",
            "---  ------         --------------  -----  \n",
            " 0   MaxTemp        56420 non-null  float64\n",
            " 1   Rainfall       56420 non-null  float64\n",
            " 2   Sunshine       56420 non-null  float64\n",
            " 3   WindGustSpeed  56420 non-null  float64\n",
            " 4   Humidity9am    56420 non-null  float64\n",
            " 5   Humidity3pm    56420 non-null  float64\n",
            " 6   Pressure9am    56420 non-null  float64\n",
            " 7   Cloud9am       56420 non-null  float64\n",
            " 8   Cloud3pm       56420 non-null  float64\n",
            " 9   month          56420 non-null  float64\n",
            " 10  Location       56420 non-null  object \n",
            " 11  RainToday      56420 non-null  int64  \n",
            "dtypes: float64(10), int64(1), object(1)\n",
            "memory usage: 5.2+ MB\n"
          ]
        }
      ],
      "source": [
        "df_feat['Location'] = data['Location']\n",
        "df_feat['RainToday'] = data['RainToday']\n",
        "\n",
        "df_feat.info()"
      ]
    },
    {
      "cell_type": "markdown",
      "metadata": {
        "id": "oUXe4UiQb36B"
      },
      "source": [
        "**Encoder untuk kolom Location**"
      ]
    },
    {
      "cell_type": "code",
      "execution_count": 46,
      "metadata": {
        "id": "VTZGvu33b75g",
        "colab": {
          "base_uri": "https://localhost:8080/",
          "height": 236
        },
        "outputId": "f8ff3a28-8ed3-4b0a-cc3f-71120ae24e8c"
      },
      "outputs": [
        {
          "output_type": "execute_result",
          "data": {
            "text/plain": [
              "    MaxTemp  Rainfall  Sunshine  WindGustSpeed  Humidity9am  Humidity3pm  \\\n",
              "0  1.575298 -0.303702  1.214537       0.534126    -2.477924    -1.812261   \n",
              "1  0.671504 -0.303702  1.400800      -0.290764    -1.937767    -2.059824   \n",
              "2  1.919600 -0.303702  0.762183       0.384146    -1.289578    -1.366647   \n",
              "3  2.034368 -0.303702  1.187928      -0.740704    -1.559657    -1.366647   \n",
              "4  2.407362 -0.303702  0.176784      -0.440744    -2.531940    -1.713236   \n",
              "\n",
              "   Pressure9am  Cloud9am  Cloud3pm    month  ...  Location_PerthAirport  \\\n",
              "0    -1.583303 -0.801428  0.254411 -1.57185  ...                      0   \n",
              "1    -0.628068 -1.158937 -1.256603 -1.57185  ...                      0   \n",
              "2    -0.714907 -1.158937  0.632165 -1.57185  ...                      0   \n",
              "3    -0.657014 -1.158937  0.254411 -1.57185  ...                      0   \n",
              "4    -0.946479 -1.158937  0.632165 -1.57185  ...                      0   \n",
              "\n",
              "   Location_Portland  Location_Sale  Location_Sydney  Location_SydneyAirport  \\\n",
              "0                  0              0                0                       0   \n",
              "1                  0              0                0                       0   \n",
              "2                  0              0                0                       0   \n",
              "3                  0              0                0                       0   \n",
              "4                  0              0                0                       0   \n",
              "\n",
              "   Location_Townsville  Location_WaggaWagga  Location_Watsonia  \\\n",
              "0                    0                    0                  0   \n",
              "1                    0                    0                  0   \n",
              "2                    0                    0                  0   \n",
              "3                    0                    0                  0   \n",
              "4                    0                    0                  0   \n",
              "\n",
              "   Location_Williamtown  Location_Woomera  \n",
              "0                     0                 0  \n",
              "1                     0                 0  \n",
              "2                     0                 0  \n",
              "3                     0                 0  \n",
              "4                     0                 0  \n",
              "\n",
              "[5 rows x 37 columns]"
            ],
            "text/html": [
              "\n",
              "  <div id=\"df-d1f59036-f917-431f-81eb-ba630a3101e8\">\n",
              "    <div class=\"colab-df-container\">\n",
              "      <div>\n",
              "<style scoped>\n",
              "    .dataframe tbody tr th:only-of-type {\n",
              "        vertical-align: middle;\n",
              "    }\n",
              "\n",
              "    .dataframe tbody tr th {\n",
              "        vertical-align: top;\n",
              "    }\n",
              "\n",
              "    .dataframe thead th {\n",
              "        text-align: right;\n",
              "    }\n",
              "</style>\n",
              "<table border=\"1\" class=\"dataframe\">\n",
              "  <thead>\n",
              "    <tr style=\"text-align: right;\">\n",
              "      <th></th>\n",
              "      <th>MaxTemp</th>\n",
              "      <th>Rainfall</th>\n",
              "      <th>Sunshine</th>\n",
              "      <th>WindGustSpeed</th>\n",
              "      <th>Humidity9am</th>\n",
              "      <th>Humidity3pm</th>\n",
              "      <th>Pressure9am</th>\n",
              "      <th>Cloud9am</th>\n",
              "      <th>Cloud3pm</th>\n",
              "      <th>month</th>\n",
              "      <th>...</th>\n",
              "      <th>Location_PerthAirport</th>\n",
              "      <th>Location_Portland</th>\n",
              "      <th>Location_Sale</th>\n",
              "      <th>Location_Sydney</th>\n",
              "      <th>Location_SydneyAirport</th>\n",
              "      <th>Location_Townsville</th>\n",
              "      <th>Location_WaggaWagga</th>\n",
              "      <th>Location_Watsonia</th>\n",
              "      <th>Location_Williamtown</th>\n",
              "      <th>Location_Woomera</th>\n",
              "    </tr>\n",
              "  </thead>\n",
              "  <tbody>\n",
              "    <tr>\n",
              "      <th>0</th>\n",
              "      <td>1.575298</td>\n",
              "      <td>-0.303702</td>\n",
              "      <td>1.214537</td>\n",
              "      <td>0.534126</td>\n",
              "      <td>-2.477924</td>\n",
              "      <td>-1.812261</td>\n",
              "      <td>-1.583303</td>\n",
              "      <td>-0.801428</td>\n",
              "      <td>0.254411</td>\n",
              "      <td>-1.57185</td>\n",
              "      <td>...</td>\n",
              "      <td>0</td>\n",
              "      <td>0</td>\n",
              "      <td>0</td>\n",
              "      <td>0</td>\n",
              "      <td>0</td>\n",
              "      <td>0</td>\n",
              "      <td>0</td>\n",
              "      <td>0</td>\n",
              "      <td>0</td>\n",
              "      <td>0</td>\n",
              "    </tr>\n",
              "    <tr>\n",
              "      <th>1</th>\n",
              "      <td>0.671504</td>\n",
              "      <td>-0.303702</td>\n",
              "      <td>1.400800</td>\n",
              "      <td>-0.290764</td>\n",
              "      <td>-1.937767</td>\n",
              "      <td>-2.059824</td>\n",
              "      <td>-0.628068</td>\n",
              "      <td>-1.158937</td>\n",
              "      <td>-1.256603</td>\n",
              "      <td>-1.57185</td>\n",
              "      <td>...</td>\n",
              "      <td>0</td>\n",
              "      <td>0</td>\n",
              "      <td>0</td>\n",
              "      <td>0</td>\n",
              "      <td>0</td>\n",
              "      <td>0</td>\n",
              "      <td>0</td>\n",
              "      <td>0</td>\n",
              "      <td>0</td>\n",
              "      <td>0</td>\n",
              "    </tr>\n",
              "    <tr>\n",
              "      <th>2</th>\n",
              "      <td>1.919600</td>\n",
              "      <td>-0.303702</td>\n",
              "      <td>0.762183</td>\n",
              "      <td>0.384146</td>\n",
              "      <td>-1.289578</td>\n",
              "      <td>-1.366647</td>\n",
              "      <td>-0.714907</td>\n",
              "      <td>-1.158937</td>\n",
              "      <td>0.632165</td>\n",
              "      <td>-1.57185</td>\n",
              "      <td>...</td>\n",
              "      <td>0</td>\n",
              "      <td>0</td>\n",
              "      <td>0</td>\n",
              "      <td>0</td>\n",
              "      <td>0</td>\n",
              "      <td>0</td>\n",
              "      <td>0</td>\n",
              "      <td>0</td>\n",
              "      <td>0</td>\n",
              "      <td>0</td>\n",
              "    </tr>\n",
              "    <tr>\n",
              "      <th>3</th>\n",
              "      <td>2.034368</td>\n",
              "      <td>-0.303702</td>\n",
              "      <td>1.187928</td>\n",
              "      <td>-0.740704</td>\n",
              "      <td>-1.559657</td>\n",
              "      <td>-1.366647</td>\n",
              "      <td>-0.657014</td>\n",
              "      <td>-1.158937</td>\n",
              "      <td>0.254411</td>\n",
              "      <td>-1.57185</td>\n",
              "      <td>...</td>\n",
              "      <td>0</td>\n",
              "      <td>0</td>\n",
              "      <td>0</td>\n",
              "      <td>0</td>\n",
              "      <td>0</td>\n",
              "      <td>0</td>\n",
              "      <td>0</td>\n",
              "      <td>0</td>\n",
              "      <td>0</td>\n",
              "      <td>0</td>\n",
              "    </tr>\n",
              "    <tr>\n",
              "      <th>4</th>\n",
              "      <td>2.407362</td>\n",
              "      <td>-0.303702</td>\n",
              "      <td>0.176784</td>\n",
              "      <td>-0.440744</td>\n",
              "      <td>-2.531940</td>\n",
              "      <td>-1.713236</td>\n",
              "      <td>-0.946479</td>\n",
              "      <td>-1.158937</td>\n",
              "      <td>0.632165</td>\n",
              "      <td>-1.57185</td>\n",
              "      <td>...</td>\n",
              "      <td>0</td>\n",
              "      <td>0</td>\n",
              "      <td>0</td>\n",
              "      <td>0</td>\n",
              "      <td>0</td>\n",
              "      <td>0</td>\n",
              "      <td>0</td>\n",
              "      <td>0</td>\n",
              "      <td>0</td>\n",
              "      <td>0</td>\n",
              "    </tr>\n",
              "  </tbody>\n",
              "</table>\n",
              "<p>5 rows × 37 columns</p>\n",
              "</div>\n",
              "      <button class=\"colab-df-convert\" onclick=\"convertToInteractive('df-d1f59036-f917-431f-81eb-ba630a3101e8')\"\n",
              "              title=\"Convert this dataframe to an interactive table.\"\n",
              "              style=\"display:none;\">\n",
              "        \n",
              "  <svg xmlns=\"http://www.w3.org/2000/svg\" height=\"24px\"viewBox=\"0 0 24 24\"\n",
              "       width=\"24px\">\n",
              "    <path d=\"M0 0h24v24H0V0z\" fill=\"none\"/>\n",
              "    <path d=\"M18.56 5.44l.94 2.06.94-2.06 2.06-.94-2.06-.94-.94-2.06-.94 2.06-2.06.94zm-11 1L8.5 8.5l.94-2.06 2.06-.94-2.06-.94L8.5 2.5l-.94 2.06-2.06.94zm10 10l.94 2.06.94-2.06 2.06-.94-2.06-.94-.94-2.06-.94 2.06-2.06.94z\"/><path d=\"M17.41 7.96l-1.37-1.37c-.4-.4-.92-.59-1.43-.59-.52 0-1.04.2-1.43.59L10.3 9.45l-7.72 7.72c-.78.78-.78 2.05 0 2.83L4 21.41c.39.39.9.59 1.41.59.51 0 1.02-.2 1.41-.59l7.78-7.78 2.81-2.81c.8-.78.8-2.07 0-2.86zM5.41 20L4 18.59l7.72-7.72 1.47 1.35L5.41 20z\"/>\n",
              "  </svg>\n",
              "      </button>\n",
              "      \n",
              "  <style>\n",
              "    .colab-df-container {\n",
              "      display:flex;\n",
              "      flex-wrap:wrap;\n",
              "      gap: 12px;\n",
              "    }\n",
              "\n",
              "    .colab-df-convert {\n",
              "      background-color: #E8F0FE;\n",
              "      border: none;\n",
              "      border-radius: 50%;\n",
              "      cursor: pointer;\n",
              "      display: none;\n",
              "      fill: #1967D2;\n",
              "      height: 32px;\n",
              "      padding: 0 0 0 0;\n",
              "      width: 32px;\n",
              "    }\n",
              "\n",
              "    .colab-df-convert:hover {\n",
              "      background-color: #E2EBFA;\n",
              "      box-shadow: 0px 1px 2px rgba(60, 64, 67, 0.3), 0px 1px 3px 1px rgba(60, 64, 67, 0.15);\n",
              "      fill: #174EA6;\n",
              "    }\n",
              "\n",
              "    [theme=dark] .colab-df-convert {\n",
              "      background-color: #3B4455;\n",
              "      fill: #D2E3FC;\n",
              "    }\n",
              "\n",
              "    [theme=dark] .colab-df-convert:hover {\n",
              "      background-color: #434B5C;\n",
              "      box-shadow: 0px 1px 3px 1px rgba(0, 0, 0, 0.15);\n",
              "      filter: drop-shadow(0px 1px 2px rgba(0, 0, 0, 0.3));\n",
              "      fill: #FFFFFF;\n",
              "    }\n",
              "  </style>\n",
              "\n",
              "      <script>\n",
              "        const buttonEl =\n",
              "          document.querySelector('#df-d1f59036-f917-431f-81eb-ba630a3101e8 button.colab-df-convert');\n",
              "        buttonEl.style.display =\n",
              "          google.colab.kernel.accessAllowed ? 'block' : 'none';\n",
              "\n",
              "        async function convertToInteractive(key) {\n",
              "          const element = document.querySelector('#df-d1f59036-f917-431f-81eb-ba630a3101e8');\n",
              "          const dataTable =\n",
              "            await google.colab.kernel.invokeFunction('convertToInteractive',\n",
              "                                                     [key], {});\n",
              "          if (!dataTable) return;\n",
              "\n",
              "          const docLinkHtml = 'Like what you see? Visit the ' +\n",
              "            '<a target=\"_blank\" href=https://colab.research.google.com/notebooks/data_table.ipynb>data table notebook</a>'\n",
              "            + ' to learn more about interactive tables.';\n",
              "          element.innerHTML = '';\n",
              "          dataTable['output_type'] = 'display_data';\n",
              "          await google.colab.output.renderOutput(dataTable, element);\n",
              "          const docLink = document.createElement('div');\n",
              "          docLink.innerHTML = docLinkHtml;\n",
              "          element.appendChild(docLink);\n",
              "        }\n",
              "      </script>\n",
              "    </div>\n",
              "  </div>\n",
              "  "
            ]
          },
          "metadata": {},
          "execution_count": 46
        }
      ],
      "source": [
        "df_dummies = pd.get_dummies(df_feat, columns=['Location'])\n",
        "df_dummies.head()"
      ]
    },
    {
      "cell_type": "code",
      "execution_count": 47,
      "metadata": {
        "id": "V3_ePODIb-pR"
      },
      "outputs": [],
      "source": [
        "df_final = df_dummies.copy()"
      ]
    },
    {
      "cell_type": "markdown",
      "metadata": {
        "id": "bLb1bEtGcBIx"
      },
      "source": [
        "**Dataset Split**"
      ]
    },
    {
      "cell_type": "markdown",
      "metadata": {
        "id": "hz_5ULTDcEvf"
      },
      "source": [
        "Membagi data training sebesar 70% dan data testing sebesar 30%"
      ]
    },
    {
      "cell_type": "code",
      "execution_count": 48,
      "metadata": {
        "id": "2oSl9tNdcFrW"
      },
      "outputs": [],
      "source": [
        "X = df_final #fitur\n",
        "y = df.RainTomorrow #target"
      ]
    },
    {
      "cell_type": "code",
      "execution_count": 49,
      "metadata": {
        "id": "cweaZUR6cH43"
      },
      "outputs": [],
      "source": [
        "X_train, X_test, y_train, y_test = train_test_split(X, y, test_size=0.3, random_state=0)"
      ]
    },
    {
      "cell_type": "markdown",
      "metadata": {
        "id": "6xGEOk_FvwNi"
      },
      "source": [
        "# **G. Pendefinisian Model**"
      ]
    },
    {
      "cell_type": "markdown",
      "metadata": {
        "id": "nIGPxdkjchXd"
      },
      "source": [
        "## **Logistic Regression**"
      ]
    },
    {
      "cell_type": "code",
      "execution_count": 50,
      "metadata": {
        "id": "jkwaGywQclCa"
      },
      "outputs": [],
      "source": [
        "model_logreg = LogisticRegression(C=0.7, class_weight='balanced', solver='liblinear', random_state=0)"
      ]
    },
    {
      "cell_type": "markdown",
      "metadata": {
        "id": "LV0xh7jqcmsl"
      },
      "source": [
        "## **SVM**"
      ]
    },
    {
      "cell_type": "code",
      "execution_count": 51,
      "metadata": {
        "id": "8l2N4YH5ph7v"
      },
      "outputs": [],
      "source": [
        "model_svm = svm.SVC(class_weight='balanced', kernel='linear')"
      ]
    },
    {
      "cell_type": "markdown",
      "metadata": {
        "id": "X5DJehlfv34N"
      },
      "source": [
        "# **H. Pelatihan Model**"
      ]
    },
    {
      "cell_type": "markdown",
      "metadata": {
        "id": "peYM_8qZdJ2H"
      },
      "source": [
        "## **Logistic Regression**"
      ]
    },
    {
      "cell_type": "code",
      "execution_count": 52,
      "metadata": {
        "id": "zkUjNY0IdHuc",
        "colab": {
          "base_uri": "https://localhost:8080/"
        },
        "outputId": "f05ad583-d7c6-4535-f8e4-e1f4ce776e18"
      },
      "outputs": [
        {
          "output_type": "execute_result",
          "data": {
            "text/plain": [
              "LogisticRegression(C=0.7, class_weight='balanced', random_state=0,\n",
              "                   solver='liblinear')"
            ]
          },
          "metadata": {},
          "execution_count": 52
        }
      ],
      "source": [
        "model_logreg.fit(X_train, y_train)"
      ]
    },
    {
      "cell_type": "markdown",
      "metadata": {
        "id": "mhqFkTTDdQ0g"
      },
      "source": [
        "## **SVM**"
      ]
    },
    {
      "cell_type": "code",
      "execution_count": 53,
      "metadata": {
        "id": "VcLW1DjAe3sE",
        "colab": {
          "base_uri": "https://localhost:8080/"
        },
        "outputId": "3b813218-2ce0-4bb2-a036-1a42fece1119"
      },
      "outputs": [
        {
          "output_type": "execute_result",
          "data": {
            "text/plain": [
              "SVC(class_weight='balanced', kernel='linear')"
            ]
          },
          "metadata": {},
          "execution_count": 53
        }
      ],
      "source": [
        "model_svm.fit(X_train, y_train)"
      ]
    },
    {
      "cell_type": "markdown",
      "metadata": {
        "id": "qCt9bk5QwHjx"
      },
      "source": [
        "# **I. Evaluasi Model**"
      ]
    },
    {
      "cell_type": "markdown",
      "metadata": {
        "id": "8HsjqSuNfIWl"
      },
      "source": [
        "## **Logistic Regression**"
      ]
    },
    {
      "cell_type": "code",
      "execution_count": 54,
      "metadata": {
        "id": "vax92ftxdNCf"
      },
      "outputs": [],
      "source": [
        "y_pred_lr = model_logreg.predict(X_test)"
      ]
    },
    {
      "cell_type": "code",
      "source": [
        "model_logreg.score(X_train, y_train)"
      ],
      "metadata": {
        "colab": {
          "base_uri": "https://localhost:8080/"
        },
        "id": "Ad8karB_FU2G",
        "outputId": "6c6fad00-bd69-4f33-b748-f0fdc6399e4a"
      },
      "execution_count": 55,
      "outputs": [
        {
          "output_type": "execute_result",
          "data": {
            "text/plain": [
              "0.8001215374487264"
            ]
          },
          "metadata": {},
          "execution_count": 55
        }
      ]
    },
    {
      "cell_type": "code",
      "source": [
        "print(\"Nilai koefisien regresi:\\n\", model_logreg.coef_)\n",
        "print(\"Nilai intersep:\\n\", model_logreg.intercept_)"
      ],
      "metadata": {
        "colab": {
          "base_uri": "https://localhost:8080/"
        },
        "id": "1filG1pSFb_f",
        "outputId": "be96ebd0-c041-426a-ae00-9966161f6284"
      },
      "execution_count": 56,
      "outputs": [
        {
          "output_type": "stream",
          "name": "stdout",
          "text": [
            "Nilai koefisien regresi:\n",
            " [[ 0.31020937  0.05998691 -0.73252652  0.61867088  0.23134502  0.89778979\n",
            "  -0.37953842 -0.18863605  0.33858508  0.14813043  0.25934511 -0.13352501\n",
            "   0.71128016 -0.07917073  0.13047968 -0.05086822  0.30698593 -0.36985385\n",
            "  -0.22371639 -0.15645444 -0.49984311 -0.0751164  -0.04965227 -0.01770473\n",
            "   0.02824333  0.01526507  0.61324055  0.26989394  0.14352123 -0.44843982\n",
            "   0.19294656 -0.14366169 -0.74832253  0.16287956 -0.04187287  0.08318044\n",
            "  -0.35922261]]\n",
            "Nilai intersep:\n",
            " [-0.73950822]\n"
          ]
        }
      ]
    },
    {
      "cell_type": "markdown",
      "source": [
        "Menghitung RMSE untuk regresi linier"
      ],
      "metadata": {
        "id": "lq6ZlkwZFwdZ"
      }
    },
    {
      "cell_type": "code",
      "source": [
        "mse = mean_squared_error(y_test,y_pred_lr)\n",
        "rootmeansq = np.sqrt(mse)\n",
        "print(mse)\n",
        "print(rootmeansq)"
      ],
      "metadata": {
        "colab": {
          "base_uri": "https://localhost:8080/"
        },
        "id": "LaMfn185FyE9",
        "outputId": "ab51695d-6ee5-4391-d5a7-e9088d4f7c4d"
      },
      "execution_count": 57,
      "outputs": [
        {
          "output_type": "stream",
          "name": "stdout",
          "text": [
            "0.20040174878884556\n",
            "0.44766253896081765\n"
          ]
        }
      ]
    },
    {
      "cell_type": "markdown",
      "source": [
        "Confusion Matrix Logistics Regression"
      ],
      "metadata": {
        "id": "o5H0_JIsIncf"
      }
    },
    {
      "cell_type": "code",
      "execution_count": 58,
      "metadata": {
        "id": "ivtLepRVfNmK",
        "colab": {
          "base_uri": "https://localhost:8080/",
          "height": 559
        },
        "outputId": "54c6ef87-1a6f-4994-820c-d855b5f17272"
      },
      "outputs": [
        {
          "output_type": "display_data",
          "data": {
            "text/plain": [
              "<Figure size 360x288 with 2 Axes>"
            ],
            "image/png": "[encoded data removed]"
          },
          "metadata": {
            "needs_background": "light"
          }
        },
        {
          "output_type": "stream",
          "name": "stdout",
          "text": [
            "Classification Report:\n",
            "               precision    recall  f1-score   support\n",
            "\n",
            "           0       0.93      0.80      0.86     13158\n",
            "           1       0.53      0.80      0.64      3768\n",
            "\n",
            "    accuracy                           0.80     16926\n",
            "   macro avg       0.73      0.80      0.75     16926\n",
            "weighted avg       0.84      0.80      0.81     16926\n",
            "\n",
            "Accuracy Score:- 0.7995982512111545\n",
            "Precision Score:- 0.5332507958967103\n",
            "Recall Score:- 0.8001592356687898\n",
            "F1 Score: 0.6399915092337083\n"
          ]
        }
      ],
      "source": [
        "cm = confusion_matrix(y_test, y_pred_lr)\n",
        "\n",
        "plt.figure(figsize=(5,4))\n",
        "sns.heatmap(cm, annot=True,fmt=\".0f\", cmap=\"Greens\", annot_kws={\"fontsize\":12})\n",
        "plt.title(\"Logistic Regression\\nAccuracy:{:.3f}\".format(accuracy_score(y_test, y_pred_lr)), fontsize=14)\n",
        "plt.xlabel(\"Predicted\", fontsize=12)\n",
        "plt.ylabel(\"Actual\", fontsize=12)\n",
        "plt.show()\n",
        "\n",
        "print(\"Classification Report:\\n\", classification_report(y_test, y_pred_lr))\n",
        "print(f'Accuracy Score:- {accuracy_score(y_test, y_pred_lr)}')\n",
        "print(f'Precision Score:- {precision_score(y_test,y_pred_lr)}')\n",
        "print(f'Recall Score:- {recall_score(y_test,y_pred_lr)}')\n",
        "print(\"F1 Score:\",f1_score(y_test,y_pred_lr))"
      ]
    },
    {
      "cell_type": "markdown",
      "metadata": {
        "id": "JyhQ5c2ifR3U"
      },
      "source": [
        "## **SVM**"
      ]
    },
    {
      "cell_type": "code",
      "execution_count": 59,
      "metadata": {
        "id": "nu55vcRJe45Q"
      },
      "outputs": [],
      "source": [
        "y_pred_svm = model_svm.predict(X_test)"
      ]
    },
    {
      "cell_type": "code",
      "source": [
        "model_svm.score(X_train, y_train)"
      ],
      "metadata": {
        "colab": {
          "base_uri": "https://localhost:8080/"
        },
        "id": "gd7ydUy4J1Pt",
        "outputId": "92070fb6-9320-4bd6-d6ac-665aac768c66"
      },
      "execution_count": 60,
      "outputs": [
        {
          "output_type": "execute_result",
          "data": {
            "text/plain": [
              "0.7967792576087507"
            ]
          },
          "metadata": {},
          "execution_count": 60
        }
      ]
    },
    {
      "cell_type": "markdown",
      "source": [
        "Confusion Matrix Support Vector Machine"
      ],
      "metadata": {
        "id": "IeR0UCUfKDrt"
      }
    },
    {
      "cell_type": "code",
      "execution_count": 61,
      "metadata": {
        "id": "Jl05IKHpfRf8",
        "colab": {
          "base_uri": "https://localhost:8080/",
          "height": 559
        },
        "outputId": "5a8a3fa8-3866-491f-8fec-47febe140be1"
      },
      "outputs": [
        {
          "output_type": "display_data",
          "data": {
            "text/plain": [
              "<Figure size 360x288 with 2 Axes>"
            ],
            "image/png": "[encoded data removed]"
          },
          "metadata": {
            "needs_background": "light"
          }
        },
        {
          "output_type": "stream",
          "name": "stdout",
          "text": [
            "Classification Report:\n",
            "               precision    recall  f1-score   support\n",
            "\n",
            "           0       0.93      0.79      0.86     13158\n",
            "           1       0.53      0.80      0.64      3768\n",
            "\n",
            "    accuracy                           0.80     16926\n",
            "   macro avg       0.73      0.80      0.75     16926\n",
            "weighted avg       0.84      0.80      0.81     16926\n",
            "\n",
            "Accuracy Score:- 0.7958761668439088\n",
            "Precision Score:- 0.5272695591566475\n",
            "Recall Score:- 0.8030785562632696\n",
            "F1 Score: 0.6365835700010519\n"
          ]
        }
      ],
      "source": [
        "cm = confusion_matrix(y_test, y_pred_svm)\n",
        "\n",
        "plt.figure(figsize=(5,4))\n",
        "sns.heatmap(cm, annot=True,fmt=\".0f\", cmap=\"Blues\", annot_kws={\"fontsize\":12})\n",
        "plt.title(\"SVM\\nAccuracy:{:.3f}\".format(accuracy_score(y_test, y_pred_svm)), fontsize=14)\n",
        "plt.xlabel(\"Predicted\", fontsize=12)\n",
        "plt.ylabel(\"Actual\", fontsize=12)\n",
        "plt.show()\n",
        "\n",
        "print(\"Classification Report:\\n\", classification_report(y_test, y_pred_svm))\n",
        "print(f'Accuracy Score:- {accuracy_score(y_test, y_pred_svm)}')\n",
        "print(f'Precision Score:- {precision_score(y_test,y_pred_svm)}')\n",
        "print(f'Recall Score:- {recall_score(y_test,y_pred_svm)}')\n",
        "print(\"F1 Score:\",f1_score(y_test,y_pred_svm))"
      ]
    },
    {
      "cell_type": "markdown",
      "metadata": {
        "id": "tBq4SQcIfWax"
      },
      "source": [
        "Dari model yang telah dibuat, dapat dilihat bahwa model LogisticRegression memiliki performa prediksi lebih baik dibanding SVM. Walaupun SVM memiliki tingkat akurasi lebih tinggi, tetapi tingkat performa klasifikasi cenderung sama. Oleh karena itu, LogisticRegression digunakan untuk memprediksi label/target pada dataset ini, di mana model LogisticRegression memiliki nilai akurasi sebesar 0.80, precision score sebesar 0.53, recall Score sebesar 0.80 dan F1 Score sebesar 0.64."
      ]
    },
    {
      "cell_type": "markdown",
      "metadata": {
        "id": "cA_sZDhRgpkm"
      },
      "source": [
        "# **J.Model Inference**"
      ]
    },
    {
      "cell_type": "markdown",
      "metadata": {
        "id": "yi9X1xcgguBi"
      },
      "source": [
        "Untuk menguji keakuratan model dan prediksi hujan atau tidaknya esok hari di suatu wilayah, dilakukan model inference untuk menguji model dengan data di luar data yang tersedia. Adapun isi yang memuat model inference adalah :\n",
        "\n",
        "- Location = wilayah pengguna\n",
        "- Month = bulan hari ini \n",
        "- MaxTemp = temperatur tertinggi hari itu dalam celcius\n",
        "- Rainfall = jumlah curah hujan hari itu dalam mm\n",
        "- Sunshine = jumlah jam hari itu cerah dengan cahaya matahari\n",
        "- WindSpeed = kecepatan angin yang paling tinggi dalam km/jam selama 24 jam sebelum jam 12 malam hari itu\n",
        "- Humidity9am = humiditas jam 9 pagi dalam persen\n",
        "- Humidity3pm = humiditas jam 3 sore dalam persen\n",
        "- Pressure9am = tekanan udara jam 9 pagi dalam hpa\n",
        "- Cloud9am = persentase langit yang tertutup awan jam 9 pagi.\n",
        "- Cloud3pm = persentasi langit yang tertutup awan jam 3 sore.\n",
        "- RainToday = apakah hari ini hujan\n"
      ]
    },
    {
      "cell_type": "markdown",
      "source": [
        "Skenario 1\n",
        "\n",
        "Suatu hari bulan Februari di Darwin, Australia tercatat laporan kondisi cuaca pada hari itu yang dilampirkan sebagai berikut:\n",
        "\n",
        "1. Temperatur maksimal: 28 \n",
        "2. Jumlah curah hujan: 0\n",
        "3. Jumlah jam hari itu cerah dengan cahaya matahari: 12 \n",
        "4. Kecepatan angin: 45\n",
        "5. Jumlah Humiditas pada pukul 9 pagi: 60\n",
        "6. Jumlah Humiditas pada pukul 3 sore: 30\n",
        "7. Tekanan Udara pada pukul 9 pagi: 1025\n",
        "8. Persentase langit tertutup awan pada pukul 9 pagi: 3.8\n",
        "9. Persentase langit tertutup awan pada pukul 3 sore: 4\n",
        "\n",
        "Hari ini tidak turun hujan, apakah berdasarkan kondisi cuaca hari ini akan turun hujan keesokan harinya?"
      ],
      "metadata": {
        "id": "2ClwvynsTnK4"
      }
    },
    {
      "cell_type": "code",
      "source": [
        "print('Input Data')\n",
        "\n",
        "location = input('Location:')\n",
        "month = int(input('Month:'))\n",
        "maxtemp = float(input(\"Max Temperature:\"))\n",
        "rainfall = float(input(\"Rainfall (in mm):\"))\n",
        "sunshine = float(input(\"Sunshine hour:\"))\n",
        "windspeed = float(input(\"Wind Speed:\"))\n",
        "humidity9 = float(input(\"Humidity percentation at 9 AM:\"))\n",
        "humidity3 = float(input(\"Humidity percentation at 3 PM:\"))\n",
        "pressure = float(input(\"Pressure at 9 AM:\"))\n",
        "cloud9am = float(input(\"Cloud persentation at 9 AM:\"))\n",
        "cloud3pm = float(input(\"Cloud persentation at 3 PM:\"))\n",
        "raintoday = int(input('Is today raining? Please type 1 for YES and 0 for NO '))\n",
        "\n",
        "val = [maxtemp, rainfall, sunshine, windspeed, humidity9, humidity3, pressure, cloud9am, cloud3pm, month]\n",
        "val = scaler.transform([val])\n",
        "val = val.reshape(10,)\n",
        "\n",
        "if raintoday == 1:\n",
        "    val = np.append(val, 1)\n",
        "elif raintoday == 0:\n",
        "    val = np.append(val, 0)\n",
        "else:\n",
        "    print('ERROR!')\n",
        "\n",
        "locations = {\"AliceSprings\":0,\"Brisbane\":1,\"Cairns\":2,\"Canberra\":3,\n",
        "            \"Cobar\":4,\"Coffs Harbour\":5,\"Darwin\":6,\"Hobart\":7,\n",
        "            \"Melbourne\":8,\"Melbourne Airport\":9,\"Mildura\":10,\"Moree\":11,\n",
        "            \"Mount Gambier\":12,\"Norfolk Island\":13,\"Nuriootpa\":14,\"Perth\":15,\n",
        "            \"Perth Airport\":16,\"Portland\":17,\"Sale\":18,\"Sydney\":19,\n",
        "            \"Sydney Airport\":20, \"Townsville\":21,\"Wagga Wagga\":22,\"Watsonia\":23, \n",
        "            \"Williamtown\":24, \"Woomera\":25}\n",
        "\n",
        "for i in range(0,26):\n",
        "    if locations[location]==i:\n",
        "        val = np.append(val, 1)\n",
        "    else:\n",
        "        val = np.append(val, 0)\n",
        "\n",
        "print(val)\n",
        "\n",
        "val_predict = model_logreg.predict([val])\n",
        "\n",
        "if val_predict == 1:\n",
        "    print('Prediction is 1 or True, then it is predicted that it will rain tomorrow')\n",
        "elif val_predict == 0:\n",
        "    print('Prediction is 0 or False, then it is predicted that it will NOT rain tomorrow')\n",
        "else:\n",
        "    print('Invalid Prediction')"
      ],
      "metadata": {
        "colab": {
          "base_uri": "https://localhost:8080/"
        },
        "id": "6HbNa2iaTUuG",
        "outputId": "b4189b06-ace8-43a2-a124-5bf8a0ec580f"
      },
      "execution_count": 102,
      "outputs": [
        {
          "output_type": "stream",
          "name": "stdout",
          "text": [
            "Input Data\n",
            "Location:Darwin\n",
            "Month:2\n",
            "Max Temperature:28\n",
            "Rainfall (in mm):0\n",
            "Sunshine hour:12\n",
            "Wind Speed:45\n",
            "Humidity percentation at 9 AM:60\n",
            "Humidity percentation at 3 PM:30\n",
            "Pressure at 9 AM:1025\n",
            "Cloud persentation at 9 AM:3.8\n",
            "Cloud persentation at 3 PM:4\n",
            "Is today raining? Please type 1 for YES and 0 for NO 0\n",
            "[ 0.54239034 -0.30370205  1.13470946  0.30915626 -0.31729503 -0.97054613\n",
            "  1.1231962  -0.15791325 -0.12334239 -1.28210861  0.          0.\n",
            "  0.          0.          0.          0.          0.          1.\n",
            "  0.          0.          0.          0.          0.          0.\n",
            "  0.          0.          0.          0.          0.          0.\n",
            "  0.          0.          0.          0.          0.          0.\n",
            "  0.        ]\n",
            "Prediction is 0 or False, then it is predicted that it will NOT rain tomorrow\n"
          ]
        },
        {
          "output_type": "stream",
          "name": "stderr",
          "text": [
            "/usr/local/lib/python3.7/dist-packages/sklearn/base.py:451: UserWarning:\n",
            "\n",
            "X does not have valid feature names, but StandardScaler was fitted with feature names\n",
            "\n",
            "/usr/local/lib/python3.7/dist-packages/sklearn/base.py:451: UserWarning:\n",
            "\n",
            "X does not have valid feature names, but LogisticRegression was fitted with feature names\n",
            "\n"
          ]
        }
      ]
    },
    {
      "cell_type": "markdown",
      "source": [
        "Skenario 2\n",
        "\n",
        "Suatu hari bulan Oktober di Sydney, Australia tercatat laporan kondisi cuaca pada hari itu yang dilampirkan sebagai berikut:\n",
        "\n",
        "1. Temperatur maksimal: 20\n",
        "2. Jumlah curah hujan: 3\n",
        "3. Jumlah jam hari itu cerah dengan cahaya matahari: 12\n",
        "4. Kecepatan angin: 40\n",
        "5. Jumlah Humiditas pada pukul 9 pagi: 20\n",
        "6. Jumlah Humiditas pada pukul 3 sore: 30\n",
        "7. Tekanan Udara pada pukul 9 pagi: 1000\n",
        "8. Persentase langit tertutup awan pada pukul 9 pagi: 20\n",
        "9. Persentase langit tertutup awan pada pukul 3 sore: 40\n",
        "\n",
        "Hari ini turun hujan, apakah berdasarkan kondisi cuaca hari ini akan turun hujan keesokan harinya?"
      ],
      "metadata": {
        "id": "SYzh--QuTo5_"
      }
    },
    {
      "cell_type": "code",
      "source": [
        "print('Input Data')\n",
        "\n",
        "location = input('Location:')\n",
        "month = int(input('Month:'))\n",
        "maxtemp = float(input(\"Max Temperature:\"))\n",
        "rainfall = float(input(\"Rainfall (in mm):\"))\n",
        "sunshine = float(input(\"Sunshine hour:\"))\n",
        "windspeed = float(input(\"Wind Speed:\"))\n",
        "humidity9 = float(input(\"Humidity percentation at 9 AM:\"))\n",
        "humidity3 = float(input(\"Humidity percentation at 3 PM:\"))\n",
        "pressure = float(input(\"Pressure at 9 AM:\"))\n",
        "cloud9am = float(input(\"Cloud persentation at 9 AM:\"))\n",
        "cloud3pm = float(input(\"Cloud persentation at 3 PM:\"))\n",
        "raintoday = int(input('Is today raining? Please type 1 for YES and 0 for NO '))\n",
        "\n",
        "val = [maxtemp, rainfall, sunshine, windspeed, humidity9, humidity3, pressure, cloud9am, cloud3pm, month]\n",
        "val = scaler.transform([val])\n",
        "val = val.reshape(10,)\n",
        "\n",
        "if raintoday == 1:\n",
        "    val = np.append(val, 1)\n",
        "elif raintoday == 0:\n",
        "    val = np.append(val, 0)\n",
        "else:\n",
        "    print('ERROR!')\n",
        "\n",
        "locations = {\"AliceSprings\":0,\"Brisbane\":1,\"Cairns\":2,\"Canberra\":3,\n",
        "            \"Cobar\":4,\"Coffs Harbour\":5,\"Darwin\":6,\"Hobart\":7,\n",
        "            \"Melbourne\":8,\"Melbourne Airport\":9,\"Mildura\":10,\"Moree\":11,\n",
        "            \"Mount Gambier\":12,\"Norfolk Island\":13,\"Nuriootpa\":14,\"Perth\":15,\n",
        "            \"Perth Airport\":16,\"Portland\":17,\"Sale\":18,\"Sydney\":19,\n",
        "            \"Sydney Airport\":20, \"Townsville\":21,\"Wagga Wagga\":22,\"Watsonia\":23, \n",
        "            \"Williamtown\":24, \"Woomera\":25}\n",
        "\n",
        "for i in range(0,26):\n",
        "    if locations[location]==i:\n",
        "        val = np.append(val, 1)\n",
        "    else:\n",
        "        val = np.append(val, 0)\n",
        "\n",
        "print(val)\n",
        "\n",
        "val_predict = model_logreg.predict([val])\n",
        "\n",
        "if val_predict == 1:\n",
        "    print('Prediction is 1 or True, then it is predicted that it will rain tomorrow')\n",
        "elif val_predict == 0:\n",
        "    print('Prediction is 0 or False, then it is predicted that it will NOT rain tomorrow')\n",
        "else:\n",
        "    print('Invalid Prediction')"
      ],
      "metadata": {
        "colab": {
          "base_uri": "https://localhost:8080/"
        },
        "id": "oueNLHv3TqKc",
        "outputId": "3b70136f-88bc-43ba-f98b-4320145913fd"
      },
      "execution_count": 107,
      "outputs": [
        {
          "output_type": "stream",
          "name": "stdout",
          "text": [
            "Input Data\n",
            "Location:Sydney\n",
            "Month:10\n",
            "Max Temperature:20\n",
            "Rainfall (in mm):3\n",
            "Sunshine hour:12\n",
            "Wind Speed:40\n",
            "Humidity percentation at 9 AM:20\n",
            "Humidity percentation at 3 PM:30\n",
            "Pressure at 9 AM:1000\n",
            "Cloud persentation at 9 AM:20\n",
            "Cloud persentation at 3 PM:40\n",
            "Is today raining? Please type 1 for YES and 0 for NO 1\n",
            "[-0.60528464  0.1239676   1.13470946 -0.06579368 -2.4779243  -0.97054613\n",
            " -2.49511768  5.63372183 13.47578934  1.03582322  1.          0.\n",
            "  0.          0.          0.          0.          0.          0.\n",
            "  0.          0.          0.          0.          0.          0.\n",
            "  0.          0.          0.          0.          0.          0.\n",
            "  1.          0.          0.          0.          0.          0.\n",
            "  0.        ]\n",
            "Prediction is 1 or True, then it is predicted that it will rain tomorrow\n"
          ]
        },
        {
          "output_type": "stream",
          "name": "stderr",
          "text": [
            "/usr/local/lib/python3.7/dist-packages/sklearn/base.py:451: UserWarning:\n",
            "\n",
            "X does not have valid feature names, but StandardScaler was fitted with feature names\n",
            "\n",
            "/usr/local/lib/python3.7/dist-packages/sklearn/base.py:451: UserWarning:\n",
            "\n",
            "X does not have valid feature names, but LogisticRegression was fitted with feature names\n",
            "\n"
          ]
        }
      ]
    },
    {
      "cell_type": "markdown",
      "source": [
        "# **K. Kesimpulan**"
      ],
      "metadata": {
        "id": "uhsfiOn__u59"
      }
    },
    {
      "cell_type": "markdown",
      "metadata": {
        "id": "iNdSlZc7hwEx"
      },
      "source": [
        "Berdasarkan keseluruhan hasil analisis di atas, dapat disimpulkan bahwa:\n",
        "\n",
        "1. Proyek ini membahas implementasi Supervised Learning, yaitu metode klasifikasi. Algoritma model klasifikasi yang digunakan adalah Logistics Regression dan Support Vector Machine (SVM). Tujuan dari proyek ini adalah untuk mengevaluasi dan menerapkan konsep Logistics Regression dan SVM untuk metode klasifikasi dalam Machine Learning. Data yang digunakan dalam proyek ini adalah dataset yang berisi dokumen kondisi cuaca dan ada tidaknya hujan selama 10 tahun di beberapa bagian Australia. Kolom RainTomorrow akan menjadi target prediksi ini. Oleh karena itu, tujuan dari proyek ini adalah apakah besok akan hujan (ya) atau tidak (tidak), berdasarkan pengamatan atau catatan kondisi cuaca hari itu.\n",
        "2. Lokasi AliceSprings adalah lokasi yang memiliki intensitas hujan tertinggi. \n",
        "3. Bulan Maret dan Juli adalah bulan yang memiliki intensitas hujan tertinggi. Sedangkan bulan Desember dan Februari memiliki intensitas hujan terendah.\n",
        "4. Algoritma model klasifikasi yang digunakan adalah Logistic Regression dan Support Vector Machine (SVM). Walaupun model SVM juga memiliki performa yang baik dan tidak terdapat perbedaan tingkat klasifikasi dengan LogisticRegression, SVM cenderung memakan waktu lebih lama dalam proses pelatihan model. \n",
        "5. Telah didapatkan model prediksi cuaca pada 25 daerah di Australia.\n",
        "\n",
        "Sehingga berdasarkan pelatihan model yang sudah dilakukan, algoritma yang dipilih adalah LogisticRegression dan didapat nilai akurasi akhir sebesar 80%, nilai precision sebesar 0.53, recall sebesar 0.80, dan f1-score sebesar 0.64."
      ]
    }
  ],
  "metadata": {
    "colab": {
      "collapsed_sections": [],
      "name": "PYTN_KampusMerdeka_fp2_Adrian Dwi Adinata_Mohammad Sidik.ipynb",
      "provenance": [],
      "include_colab_link": true
    },
    "kernelspec": {
      "display_name": "Python 3",
      "name": "python3"
    },
    "language_info": {
      "name": "python"
    }
  },
  "nbformat": 4,
  "nbformat_minor": 0
}