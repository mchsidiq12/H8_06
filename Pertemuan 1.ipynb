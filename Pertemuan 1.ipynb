{
 "cells": [
  {
   "cell_type": "code",
   "execution_count": 5,
   "id": "7560df3e",
   "metadata": {},
   "outputs": [
    {
     "name": "stdout",
     "output_type": "stream",
     "text": [
      "1 2\n"
     ]
    }
   ],
   "source": [
    "age = 1\n",
    "Age=2\n",
    "print(age,Age)"
   ]
  },
  {
   "cell_type": "code",
   "execution_count": 6,
   "id": "2fefc31d",
   "metadata": {},
   "outputs": [
    {
     "ename": "SyntaxError",
     "evalue": "invalid decimal literal (Temp/ipykernel_12536/1231906011.py, line 1)",
     "output_type": "error",
     "traceback": [
      "\u001b[1;36m  File \u001b[1;32m\"C:\\Users\\ASUS\\AppData\\Local\\Temp/ipykernel_12536/1231906011.py\"\u001b[1;36m, line \u001b[1;32m1\u001b[0m\n\u001b[1;33m    9_kepala_naga=True\u001b[0m\n\u001b[1;37m     ^\u001b[0m\n\u001b[1;31mSyntaxError\u001b[0m\u001b[1;31m:\u001b[0m invalid decimal literal\n"
     ]
    }
   ],
   "source": [
    "9_kepala_naga=True\n"
   ]
  },
  {
   "cell_type": "code",
   "execution_count": 17,
   "id": "80283875",
   "metadata": {},
   "outputs": [
    {
     "data": {
      "text/plain": [
       "True"
      ]
     },
     "execution_count": 17,
     "metadata": {},
     "output_type": "execute_result"
    }
   ],
   "source": [
    "_9_kepala_naga=True\n",
    "_9_kepala_naga"
   ]
  },
  {
   "cell_type": "code",
   "execution_count": 18,
   "id": "224ebb54",
   "metadata": {},
   "outputs": [],
   "source": [
    "camelCase='ex camelCase'\n",
    "PascalCase='ex pascal case'\n",
    "snake_case='ex snake case'"
   ]
  },
  {
   "cell_type": "code",
   "execution_count": 19,
   "id": "a30bc437",
   "metadata": {},
   "outputs": [
    {
     "data": {
      "text/plain": [
       "30"
      ]
     },
     "execution_count": 19,
     "metadata": {},
     "output_type": "execute_result"
    }
   ],
   "source": [
    "a=10\n",
    "b=20\n",
    "a+b"
   ]
  },
  {
   "cell_type": "code",
   "execution_count": 20,
   "id": "e4fe1c49",
   "metadata": {},
   "outputs": [
    {
     "data": {
      "text/plain": [
       "25"
      ]
     },
     "execution_count": 20,
     "metadata": {},
     "output_type": "execute_result"
    }
   ],
   "source": [
    "a+b-5"
   ]
  },
  {
   "cell_type": "code",
   "execution_count": 26,
   "id": "5519dcf1",
   "metadata": {},
   "outputs": [
    {
     "name": "stdout",
     "output_type": "stream",
     "text": [
      "0.5\n",
      "0\n",
      "10\n",
      "100000000000000000000\n"
     ]
    }
   ],
   "source": [
    "print (a/b)\n",
    "print(a//b)\n",
    "print(a % b)\n",
    "print(a**b)"
   ]
  },
  {
   "cell_type": "code",
   "execution_count": 33,
   "id": "acd5eea0",
   "metadata": {},
   "outputs": [
    {
     "name": "stdout",
     "output_type": "stream",
     "text": [
      "foobar\n",
      "foobarbaz\n",
      "Hacktiv8 Inalum\n"
     ]
    }
   ],
   "source": [
    "s='foo'\n",
    "t='bar'\n",
    "u='baz'\n",
    "print(s+t)\n",
    "print(s+t+u)\n",
    "print('Hacktiv8 ' + 'Inalum')"
   ]
  },
  {
   "cell_type": "code",
   "execution_count": 37,
   "id": "9f53836f",
   "metadata": {},
   "outputs": [
    {
     "name": "stdout",
     "output_type": "stream",
     "text": [
      "True\n"
     ]
    }
   ],
   "source": [
    "s= 'foo'\n",
    "print(s in 'food is good for us')"
   ]
  },
  {
   "cell_type": "code",
   "execution_count": 43,
   "id": "e639b48e",
   "metadata": {},
   "outputs": [
    {
     "name": "stdout",
     "output_type": "stream",
     "text": [
      "Domba tersesat njir\n",
      "Domba Tersesat Njir\n",
      "DOMBA TERSESAT NJIR\n",
      "dOMBA tERSESAT NjIR\n"
     ]
    }
   ],
   "source": [
    "s= 'Domba Tersesat nJir'\n",
    "print(s.capitalize())\n",
    "print(s.title())\n",
    "print(s.upper())\n",
    "print(s.swapcase())"
   ]
  },
  {
   "cell_type": "code",
   "execution_count": 44,
   "id": "6a9c5049",
   "metadata": {},
   "outputs": [
    {
     "name": "stdout",
     "output_type": "stream",
     "text": [
      "['foo', 'bar', 'baz', 'qux']\n"
     ]
    }
   ],
   "source": [
    "a= ['foo','bar','baz','qux']\n",
    "print(a)"
   ]
  },
  {
   "cell_type": "code",
   "execution_count": 48,
   "id": "d8bfc6bf",
   "metadata": {},
   "outputs": [
    {
     "name": "stdout",
     "output_type": "stream",
     "text": [
      "foo\n",
      "bar\n",
      "baz\n",
      "qux\n",
      "qux\n"
     ]
    }
   ],
   "source": [
    "print(a[0])\n",
    "print(a[1])\n",
    "print(a[2])\n",
    "print(a[3])\n",
    "print(a[-1])"
   ]
  },
  {
   "cell_type": "code",
   "execution_count": 49,
   "id": "eae3bd4d",
   "metadata": {},
   "outputs": [
    {
     "data": {
      "text/plain": [
       "False"
      ]
     },
     "execution_count": 49,
     "metadata": {},
     "output_type": "execute_result"
    }
   ],
   "source": [
    "a= ['foo','bar','baz','qux']\n",
    "b= ['baz','bar','foo','qux']\n",
    "a==b"
   ]
  },
  {
   "cell_type": "code",
   "execution_count": 50,
   "id": "b95562ee",
   "metadata": {},
   "outputs": [
    {
     "data": {
      "text/plain": [
       "True"
      ]
     },
     "execution_count": 50,
     "metadata": {},
     "output_type": "execute_result"
    }
   ],
   "source": [
    "a= ['foo','bar','baz','qux']\n",
    "b= ['foo','bar','baz','qux']\n",
    "a==b"
   ]
  },
  {
   "cell_type": "code",
   "execution_count": 57,
   "id": "87aa5ef6",
   "metadata": {},
   "outputs": [
    {
     "name": "stdout",
     "output_type": "stream",
     "text": [
      "[21.42, 'bar', 3, 4, 'qux', False, 3.14159]\n",
      "21.42\n",
      "4\n",
      "bar\n",
      "3.14159\n",
      "4\n"
     ]
    },
    {
     "data": {
      "text/plain": [
       "[3, 4, 'qux']"
      ]
     },
     "execution_count": 57,
     "metadata": {},
     "output_type": "execute_result"
    }
   ],
   "source": [
    "a= [21.42,'bar',3,4,'qux',False, 3.14159]\n",
    "print(a)\n",
    "print(a[0])\n",
    "print(a[3])\n",
    "print(a[1])\n",
    "print(a[-1])\n",
    "print(a[-4])\n",
    "a[2:5]"
   ]
  },
  {
   "cell_type": "code",
   "execution_count": 58,
   "id": "19569d3a",
   "metadata": {},
   "outputs": [
    {
     "name": "stdout",
     "output_type": "stream",
     "text": [
      "[21.42, 'bar', 3, 4, 'qux', False, 3.14159, 'grailt', 'garply']\n"
     ]
    }
   ],
   "source": [
    "print(a + ['grailt', 'garply'])"
   ]
  },
  {
   "cell_type": "code",
   "execution_count": 62,
   "id": "c8d165ca",
   "metadata": {},
   "outputs": [
    {
     "name": "stdout",
     "output_type": "stream",
     "text": [
      "6\n",
      "300\n",
      "2\n"
     ]
    }
   ],
   "source": [
    "coins = [2,300,45,100,4,90]\n",
    "print(len(coins))\n",
    "print(max(coins))\n",
    "print(min(coins))"
   ]
  },
  {
   "cell_type": "code",
   "execution_count": 73,
   "id": "27545f72",
   "metadata": {},
   "outputs": [
    {
     "name": "stdout",
     "output_type": "stream",
     "text": [
      "[45, 100, 4]\n",
      "[2, 300, 'foo', 'cart', 'goe', 90, 100, 150, 'loh']\n"
     ]
    }
   ],
   "source": [
    "a = [2, 300, 45, 100, 4, 90, 100, 150, 'loh']\n",
    "print(a[2:5])\n",
    "a[2:5]=['foo','cart','goe']\n",
    "print(a)"
   ]
  },
  {
   "cell_type": "code",
   "execution_count": 77,
   "id": "d0e64987",
   "metadata": {},
   "outputs": [
    {
     "ename": "SyntaxError",
     "evalue": "cannot assign to literal (Temp/ipykernel_12536/2823592626.py, line 4)",
     "output_type": "error",
     "traceback": [
      "\u001b[1;36m  File \u001b[1;32m\"C:\\Users\\ASUS\\AppData\\Local\\Temp/ipykernel_12536/2823592626.py\"\u001b[1;36m, line \u001b[1;32m4\u001b[0m\n\u001b[1;33m    (2, 300, 45, 100, 4, 90, 100, 150, 'loh')=(21, 20, 435, 400, 44, 910, 600, 350, 'yah')\u001b[0m\n\u001b[1;37m     ^\u001b[0m\n\u001b[1;31mSyntaxError\u001b[0m\u001b[1;31m:\u001b[0m cannot assign to literal\n"
     ]
    }
   ],
   "source": [
    "a = (2, 300, 45, 100, 4, 90, 100, 150, 'loh')\n",
    "print(a[2:5])\n",
    "print(a)"
   ]
  },
  {
   "cell_type": "code",
   "execution_count": 80,
   "id": "938c16fd",
   "metadata": {},
   "outputs": [
    {
     "data": {
      "text/plain": [
       "'cool'"
      ]
     },
     "execution_count": 80,
     "metadata": {},
     "output_type": "execute_result"
    }
   ],
   "source": [
    "(s1, s2, s3, s4)=('delay', 'muki', 'loong', 'cool')\n",
    "s4"
   ]
  },
  {
   "cell_type": "code",
   "execution_count": 82,
   "id": "bb08c969",
   "metadata": {},
   "outputs": [],
   "source": [
    "Liga1_team={\n",
    "    'jakarta': 'persija',\n",
    "    'palu': 'persipal',\n",
    "    'surabaya': 'persebaya'\n",
    "}"
   ]
  },
  {
   "cell_type": "code",
   "execution_count": 83,
   "id": "c901540d",
   "metadata": {},
   "outputs": [
    {
     "name": "stdout",
     "output_type": "stream",
     "text": [
      "persija\n"
     ]
    }
   ],
   "source": [
    "print(Liga1_team['jakarta'])"
   ]
  },
  {
   "cell_type": "code",
   "execution_count": null,
   "id": "5eb12263",
   "metadata": {},
   "outputs": [],
   "source": [
    "person={}\n",
    "type(person)\n",
    "person['fname']= 'Sidik'\n",
    "person['lname']= 'Cahyana'"
   ]
  },
  {
   "cell_type": "code",
   "execution_count": null,
   "id": "51f6f71b",
   "metadata": {},
   "outputs": [],
   "source": [
    "!pip3 install pandas\n",
    "import pandas as pd\n",
    "import numpy as np"
   ]
  },
  {
   "cell_type": "code",
   "execution_count": null,
   "id": "f1422b26",
   "metadata": {},
   "outputs": [],
   "source": [
    "!pip3 install jupyterthemes"
   ]
  },
  {
   "cell_type": "code",
   "execution_count": null,
   "id": "16d46b21",
   "metadata": {},
   "outputs": [],
   "source": [
    "!jt -l"
   ]
  },
  {
   "cell_type": "code",
   "execution_count": null,
   "id": "fc0ee54c",
   "metadata": {},
   "outputs": [],
   "source": [
    "!jt -t onedork"
   ]
  },
  {
   "cell_type": "code",
   "execution_count": null,
   "id": "fb8b34b1",
   "metadata": {},
   "outputs": [],
   "source": [
    "!pip3 install jupyter_contrib_nbextensions && jupyter contrib nb extension install --user"
   ]
  },
  {
   "cell_type": "code",
   "execution_count": 1,
   "id": "1a3c476c",
   "metadata": {},
   "outputs": [
    {
     "name": "stdout",
     "output_type": "stream",
     "text": [
      "Reset css and font defaults in:\n",
      "C:\\Users\\ASUS\\.jupyter\\custom &\n",
      "C:\\Users\\ASUS\\AppData\\Roaming\\jupyter\\nbextensions\n"
     ]
    }
   ],
   "source": [
    "!jt -r"
   ]
  },
  {
   "cell_type": "code",
   "execution_count": null,
   "id": "83b84afb",
   "metadata": {},
   "outputs": [],
   "source": []
  }
 ],
 "metadata": {
  "kernelspec": {
   "display_name": "Python 3 (ipykernel)",
   "language": "python",
   "name": "python3"
  },
  "language_info": {
   "codemirror_mode": {
    "name": "ipython",
    "version": 3
   },
   "file_extension": ".py",
   "mimetype": "text/x-python",
   "name": "python",
   "nbconvert_exporter": "python",
   "pygments_lexer": "ipython3",
   "version": "3.9.7"
  }
 },
 "nbformat": 4,
 "nbformat_minor": 5
}
